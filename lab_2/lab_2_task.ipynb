{
 "cells": [
  {
   "metadata": {},
   "cell_type": "markdown",
   "source": [
    "# Lab_2: Using simple classification methods for solving classification problem\n",
    "# Task:\n",
    "1. Do data preprocessing & data visualization as it was in the 1st lab work\n",
    "2. Solve classification problem for the selected dataset.\n",
    "3. Use `examples/fisher_irises.ipynb` as baseline for your experiments\n",
    "4. Try to optimize hyperparameters of some model"
   ],
   "id": "c31bbf02fc3fbfe6"
  },
  {
   "metadata": {},
   "cell_type": "markdown",
   "source": [
    "# Datasets for classification\n",
    "1. [Mushroom Classification](https://www.kaggle.com/datasets/uciml/mushroom-classification)\n",
    "2. [Fetal Health Classification](https://www.kaggle.com/datasets/andrewmvd/fetal-health-classification)\n",
    "3. [Glass Classification](https://www.kaggle.com/datasets/uciml/glass)\n",
    "4. [Gender Classification Dataset](https://www.kaggle.com/datasets/elakiricoder/gender-classification-dataset)\n",
    "5. [Weather Type Classification](https://www.kaggle.com/datasets/nikhil7280/weather-type-classification)\n",
    "6. [Star Type Classification / NASA](https://www.kaggle.com/datasets/brsdincer/star-type-classification)\n",
    "7. [Happiness Classification Dataset](https://www.kaggle.com/datasets/priyanshusethi/happiness-classification-dataset)\n",
    "8. [NASA: Asteroids Classification\n",
    "Data Collected from NASA API](https://www.kaggle.com/datasets/shrutimehta/nasa-asteroids-classification)\n",
    "9. [CS:GO Round Winner Classification](https://www.kaggle.com/datasets/christianlillelund/csgo-round-winner-classification)\n",
    "10. [Heart Disease Classification Dataset](https://www.kaggle.com/datasets/bharath011/heart-disease-classification-dataset)\n",
    "11. [Early Classification of Diabetes](https://www.kaggle.com/datasets/andrewmvd/early-diabetes-classification)\n",
    "12. [Credit Risk Classification Dataset](https://www.kaggle.com/datasets/praveengovi/credit-risk-classification-dataset)"
   ],
   "id": "b78c0552303af98e"
  },
  {
   "metadata": {},
   "cell_type": "code",
   "outputs": [],
   "execution_count": null,
   "source": "",
   "id": "2db7221154c63e0d"
  },
  {
   "metadata": {},
   "cell_type": "code",
   "outputs": [],
   "execution_count": null,
   "source": "",
   "id": "309224e76f17b1f9"
  },
  {
   "metadata": {},
   "cell_type": "code",
   "outputs": [],
   "execution_count": null,
   "source": "",
   "id": "c0820aa9b6d3e332"
  },
  {
   "metadata": {},
   "cell_type": "code",
   "outputs": [],
   "execution_count": null,
   "source": "",
   "id": "3b6507d3c2571fd0"
  },
  {
   "metadata": {},
   "cell_type": "code",
   "outputs": [],
   "execution_count": null,
   "source": "",
   "id": "b0eda8a32e2a9703"
  },
  {
   "metadata": {},
   "cell_type": "code",
   "outputs": [],
   "execution_count": null,
   "source": "",
   "id": "a9e0d2697a2c607c"
  },
  {
   "metadata": {},
   "cell_type": "code",
   "outputs": [],
   "execution_count": null,
   "source": "",
   "id": "54cb6cb3dc47b335"
  },
  {
   "metadata": {},
   "cell_type": "code",
   "outputs": [],
   "execution_count": null,
   "source": "",
   "id": "8a09e868d40c91dc"
  },
  {
   "metadata": {},
   "cell_type": "code",
   "outputs": [],
   "execution_count": null,
   "source": "",
   "id": "86cce27ed2ec20d4"
  },
  {
   "metadata": {},
   "cell_type": "code",
   "outputs": [],
   "execution_count": null,
   "source": "",
   "id": "7d1ca9d47a47538c"
  },
  {
   "metadata": {},
   "cell_type": "code",
   "outputs": [],
   "execution_count": null,
   "source": "",
   "id": "e9c26060a53135df"
  },
  {
   "metadata": {},
   "cell_type": "code",
   "outputs": [],
   "execution_count": null,
   "source": "",
   "id": "2005dee6f473eb31"
  }
 ],
 "metadata": {
  "kernelspec": {
   "display_name": "Python 3",
   "language": "python",
   "name": "python3"
  },
  "language_info": {
   "codemirror_mode": {
    "name": "ipython",
    "version": 2
   },
   "file_extension": ".py",
   "mimetype": "text/x-python",
   "name": "python",
   "nbconvert_exporter": "python",
   "pygments_lexer": "ipython2",
   "version": "2.7.6"
  }
 },
 "nbformat": 4,
 "nbformat_minor": 5
}
