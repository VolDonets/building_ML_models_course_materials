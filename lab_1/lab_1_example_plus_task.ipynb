{
 "cells": [
  {
   "metadata": {},
   "cell_type": "markdown",
   "source": [
    "# Example of the solution the regression problem\n",
    "# Laptop price prediction\n",
    "[source of the data + code of example](https://www.kaggle.com/datasets/anubhavgoyal10/laptop-prices-dataset/data)"
   ],
   "id": "450b4526183225cd"
  },
  {
   "metadata": {},
   "cell_type": "markdown",
   "source": "## 0. Import the dependencies",
   "id": "b6cd48ce980255f3"
  },
  {
   "metadata": {
    "ExecuteTime": {
     "end_time": "2025-02-27T00:57:14.069158Z",
     "start_time": "2025-02-27T00:57:14.049276Z"
    }
   },
   "cell_type": "code",
   "source": [
    "import os\n",
    "\n",
    "import numpy as np # linear algebra\n",
    "import pandas as pd \n",
    "\n",
    "import seaborn as sns\n",
    "import matplotlib.pyplot as plt\n",
    "%matplotlib inline\n",
    "\n",
    "import warnings\n",
    "warnings.filterwarnings('ignore')"
   ],
   "id": "bc9ed387ed7d57ef",
   "outputs": [],
   "execution_count": 1
  },
  {
   "metadata": {
    "ExecuteTime": {
     "end_time": "2025-02-27T01:18:38.483488Z",
     "start_time": "2025-02-27T01:18:38.428847Z"
    }
   },
   "cell_type": "code",
   "source": [
    "from sklearn.model_selection import train_test_split\n",
    "from sklearn.preprocessing import MinMaxScaler, StandardScaler\n",
    "from sklearn.pipeline import Pipeline\n",
    "from sklearn.compose import ColumnTransformer\n",
    "from sklearn.preprocessing import LabelEncoder, OneHotEncoder\n",
    "from sklearn import metrics\n",
    "from sklearn.model_selection import RandomizedSearchCV\n",
    "from sklearn.linear_model import LinearRegression, Lasso, Ridge\n",
    "from sklearn.tree import DecisionTreeRegressor\n",
    "from sklearn.ensemble import RandomForestRegressor, GradientBoostingRegressor\n",
    "from xgboost import XGBRegressor\n",
    "from sklearn.svm import SVR\n",
    "from sklearn.neighbors import KNeighborsRegressor\n",
    "from sklearn import tree\n",
    "\n",
    "from sklearn.model_selection import GridSearchCV"
   ],
   "id": "38a974426925be49",
   "outputs": [],
   "execution_count": 55
  },
  {
   "metadata": {},
   "cell_type": "markdown",
   "source": "## 1. Load the data",
   "id": "b6db32b73ff7a1da"
  },
  {
   "metadata": {
    "ExecuteTime": {
     "end_time": "2025-02-27T00:57:14.097367Z",
     "start_time": "2025-02-27T00:57:14.070166Z"
    }
   },
   "cell_type": "code",
   "source": [
    "df = pd.read_csv(\"./src/laptop_price.csv\")\n",
    "df.head()"
   ],
   "id": "df2ddddf48931c34",
   "outputs": [
    {
     "data": {
      "text/plain": [
       "    brand processor_brand processor_name processor_gnrtn ram_gb ram_type  \\\n",
       "0    ASUS           Intel        Core i3            10th   4 GB     DDR4   \n",
       "1  Lenovo           Intel        Core i3            10th   4 GB     DDR4   \n",
       "2  Lenovo           Intel        Core i3            10th   4 GB     DDR4   \n",
       "3    ASUS           Intel        Core i5            10th   8 GB     DDR4   \n",
       "4    ASUS           Intel   Celeron Dual   Not Available   4 GB     DDR4   \n",
       "\n",
       "      ssd      hdd       os  os_bit graphic_card_gb  weight     warranty  \\\n",
       "0    0 GB  1024 GB  Windows  64-bit            0 GB  Casual  No warranty   \n",
       "1    0 GB  1024 GB  Windows  64-bit            0 GB  Casual  No warranty   \n",
       "2    0 GB  1024 GB  Windows  64-bit            0 GB  Casual  No warranty   \n",
       "3  512 GB     0 GB  Windows  32-bit            2 GB  Casual  No warranty   \n",
       "4    0 GB   512 GB  Windows  64-bit            0 GB  Casual  No warranty   \n",
       "\n",
       "  Touchscreen msoffice  Price   rating  Number of Ratings  Number of Reviews  \n",
       "0          No       No  34649  2 stars                  3                  0  \n",
       "1          No       No  38999  3 stars                 65                  5  \n",
       "2          No       No  39999  3 stars                  8                  1  \n",
       "3          No       No  69990  3 stars                  0                  0  \n",
       "4          No       No  26990  3 stars                  0                  0  "
      ],
      "text/html": [
       "<div>\n",
       "<style scoped>\n",
       "    .dataframe tbody tr th:only-of-type {\n",
       "        vertical-align: middle;\n",
       "    }\n",
       "\n",
       "    .dataframe tbody tr th {\n",
       "        vertical-align: top;\n",
       "    }\n",
       "\n",
       "    .dataframe thead th {\n",
       "        text-align: right;\n",
       "    }\n",
       "</style>\n",
       "<table border=\"1\" class=\"dataframe\">\n",
       "  <thead>\n",
       "    <tr style=\"text-align: right;\">\n",
       "      <th></th>\n",
       "      <th>brand</th>\n",
       "      <th>processor_brand</th>\n",
       "      <th>processor_name</th>\n",
       "      <th>processor_gnrtn</th>\n",
       "      <th>ram_gb</th>\n",
       "      <th>ram_type</th>\n",
       "      <th>ssd</th>\n",
       "      <th>hdd</th>\n",
       "      <th>os</th>\n",
       "      <th>os_bit</th>\n",
       "      <th>graphic_card_gb</th>\n",
       "      <th>weight</th>\n",
       "      <th>warranty</th>\n",
       "      <th>Touchscreen</th>\n",
       "      <th>msoffice</th>\n",
       "      <th>Price</th>\n",
       "      <th>rating</th>\n",
       "      <th>Number of Ratings</th>\n",
       "      <th>Number of Reviews</th>\n",
       "    </tr>\n",
       "  </thead>\n",
       "  <tbody>\n",
       "    <tr>\n",
       "      <th>0</th>\n",
       "      <td>ASUS</td>\n",
       "      <td>Intel</td>\n",
       "      <td>Core i3</td>\n",
       "      <td>10th</td>\n",
       "      <td>4 GB</td>\n",
       "      <td>DDR4</td>\n",
       "      <td>0 GB</td>\n",
       "      <td>1024 GB</td>\n",
       "      <td>Windows</td>\n",
       "      <td>64-bit</td>\n",
       "      <td>0 GB</td>\n",
       "      <td>Casual</td>\n",
       "      <td>No warranty</td>\n",
       "      <td>No</td>\n",
       "      <td>No</td>\n",
       "      <td>34649</td>\n",
       "      <td>2 stars</td>\n",
       "      <td>3</td>\n",
       "      <td>0</td>\n",
       "    </tr>\n",
       "    <tr>\n",
       "      <th>1</th>\n",
       "      <td>Lenovo</td>\n",
       "      <td>Intel</td>\n",
       "      <td>Core i3</td>\n",
       "      <td>10th</td>\n",
       "      <td>4 GB</td>\n",
       "      <td>DDR4</td>\n",
       "      <td>0 GB</td>\n",
       "      <td>1024 GB</td>\n",
       "      <td>Windows</td>\n",
       "      <td>64-bit</td>\n",
       "      <td>0 GB</td>\n",
       "      <td>Casual</td>\n",
       "      <td>No warranty</td>\n",
       "      <td>No</td>\n",
       "      <td>No</td>\n",
       "      <td>38999</td>\n",
       "      <td>3 stars</td>\n",
       "      <td>65</td>\n",
       "      <td>5</td>\n",
       "    </tr>\n",
       "    <tr>\n",
       "      <th>2</th>\n",
       "      <td>Lenovo</td>\n",
       "      <td>Intel</td>\n",
       "      <td>Core i3</td>\n",
       "      <td>10th</td>\n",
       "      <td>4 GB</td>\n",
       "      <td>DDR4</td>\n",
       "      <td>0 GB</td>\n",
       "      <td>1024 GB</td>\n",
       "      <td>Windows</td>\n",
       "      <td>64-bit</td>\n",
       "      <td>0 GB</td>\n",
       "      <td>Casual</td>\n",
       "      <td>No warranty</td>\n",
       "      <td>No</td>\n",
       "      <td>No</td>\n",
       "      <td>39999</td>\n",
       "      <td>3 stars</td>\n",
       "      <td>8</td>\n",
       "      <td>1</td>\n",
       "    </tr>\n",
       "    <tr>\n",
       "      <th>3</th>\n",
       "      <td>ASUS</td>\n",
       "      <td>Intel</td>\n",
       "      <td>Core i5</td>\n",
       "      <td>10th</td>\n",
       "      <td>8 GB</td>\n",
       "      <td>DDR4</td>\n",
       "      <td>512 GB</td>\n",
       "      <td>0 GB</td>\n",
       "      <td>Windows</td>\n",
       "      <td>32-bit</td>\n",
       "      <td>2 GB</td>\n",
       "      <td>Casual</td>\n",
       "      <td>No warranty</td>\n",
       "      <td>No</td>\n",
       "      <td>No</td>\n",
       "      <td>69990</td>\n",
       "      <td>3 stars</td>\n",
       "      <td>0</td>\n",
       "      <td>0</td>\n",
       "    </tr>\n",
       "    <tr>\n",
       "      <th>4</th>\n",
       "      <td>ASUS</td>\n",
       "      <td>Intel</td>\n",
       "      <td>Celeron Dual</td>\n",
       "      <td>Not Available</td>\n",
       "      <td>4 GB</td>\n",
       "      <td>DDR4</td>\n",
       "      <td>0 GB</td>\n",
       "      <td>512 GB</td>\n",
       "      <td>Windows</td>\n",
       "      <td>64-bit</td>\n",
       "      <td>0 GB</td>\n",
       "      <td>Casual</td>\n",
       "      <td>No warranty</td>\n",
       "      <td>No</td>\n",
       "      <td>No</td>\n",
       "      <td>26990</td>\n",
       "      <td>3 stars</td>\n",
       "      <td>0</td>\n",
       "      <td>0</td>\n",
       "    </tr>\n",
       "  </tbody>\n",
       "</table>\n",
       "</div>"
      ]
     },
     "execution_count": 2,
     "metadata": {},
     "output_type": "execute_result"
    }
   ],
   "execution_count": 2
  },
  {
   "metadata": {},
   "cell_type": "markdown",
   "source": "## 2. Preprocess the data",
   "id": "c038d32dd15f123d"
  },
  {
   "metadata": {
    "ExecuteTime": {
     "end_time": "2025-02-27T00:57:19.699118Z",
     "start_time": "2025-02-27T00:57:19.692883Z"
    }
   },
   "cell_type": "code",
   "source": "df.columns",
   "id": "585e372bccaa481",
   "outputs": [
    {
     "data": {
      "text/plain": [
       "Index(['brand', 'processor_brand', 'processor_name', 'processor_gnrtn',\n",
       "       'ram_gb', 'ram_type', 'ssd', 'hdd', 'os', 'os_bit', 'graphic_card_gb',\n",
       "       'weight', 'warranty', 'Touchscreen', 'msoffice', 'Price', 'rating',\n",
       "       'Number of Ratings', 'Number of Reviews'],\n",
       "      dtype='object')"
      ]
     },
     "execution_count": 3,
     "metadata": {},
     "output_type": "execute_result"
    }
   ],
   "execution_count": 3
  },
  {
   "metadata": {
    "ExecuteTime": {
     "end_time": "2025-02-27T00:57:59.116512Z",
     "start_time": "2025-02-27T00:57:59.111565Z"
    }
   },
   "cell_type": "code",
   "source": [
    "# select few feature to predict the price of laptop\n",
    "selected_columns = ['brand', 'processor_brand', 'processor_name', 'processor_gnrtn',\n",
    "                    'ram_gb', 'ram_type', 'ssd', 'hdd', 'os', 'os_bit', 'graphic_card_gb',\n",
    "                    'weight', 'warranty', 'Touchscreen', 'Price']\n",
    "df_train = df[selected_columns]"
   ],
   "id": "da668238e05aa0c",
   "outputs": [],
   "execution_count": 4
  },
  {
   "metadata": {
    "ExecuteTime": {
     "end_time": "2025-02-27T00:59:09.318866Z",
     "start_time": "2025-02-27T00:59:09.313019Z"
    }
   },
   "cell_type": "code",
   "source": [
    "# check Null values in data column\n",
    "print(df_train.isnull().sum())"
   ],
   "id": "db1f8aa78291e37d",
   "outputs": [
    {
     "name": "stdout",
     "output_type": "stream",
     "text": [
      "brand              0\n",
      "processor_brand    0\n",
      "processor_name     0\n",
      "processor_gnrtn    0\n",
      "ram_gb             0\n",
      "ram_type           0\n",
      "ssd                0\n",
      "hdd                0\n",
      "os                 0\n",
      "os_bit             0\n",
      "graphic_card_gb    0\n",
      "weight             0\n",
      "warranty           0\n",
      "Touchscreen        0\n",
      "Price              0\n",
      "dtype: int64\n"
     ]
    }
   ],
   "execution_count": 8
  },
  {
   "metadata": {
    "ExecuteTime": {
     "end_time": "2025-02-27T00:58:14.804009Z",
     "start_time": "2025-02-27T00:58:14.796392Z"
    }
   },
   "cell_type": "code",
   "source": [
    "# checking for duplicated rows\n",
    "df_train.duplicated().sum()"
   ],
   "id": "2b62d88f3853703e",
   "outputs": [
    {
     "data": {
      "text/plain": [
       "np.int64(41)"
      ]
     },
     "execution_count": 6,
     "metadata": {},
     "output_type": "execute_result"
    }
   ],
   "execution_count": 6
  },
  {
   "metadata": {
    "ExecuteTime": {
     "end_time": "2025-02-27T00:59:20.151311Z",
     "start_time": "2025-02-27T00:59:20.142281Z"
    }
   },
   "cell_type": "code",
   "source": [
    "# check overview of columns, their data types, and non-null counts.\n",
    "df_train.info()"
   ],
   "id": "389b3829166814df",
   "outputs": [
    {
     "name": "stdout",
     "output_type": "stream",
     "text": [
      "<class 'pandas.core.frame.DataFrame'>\n",
      "RangeIndex: 823 entries, 0 to 822\n",
      "Data columns (total 15 columns):\n",
      " #   Column           Non-Null Count  Dtype \n",
      "---  ------           --------------  ----- \n",
      " 0   brand            823 non-null    object\n",
      " 1   processor_brand  823 non-null    object\n",
      " 2   processor_name   823 non-null    object\n",
      " 3   processor_gnrtn  823 non-null    object\n",
      " 4   ram_gb           823 non-null    object\n",
      " 5   ram_type         823 non-null    object\n",
      " 6   ssd              823 non-null    object\n",
      " 7   hdd              823 non-null    object\n",
      " 8   os               823 non-null    object\n",
      " 9   os_bit           823 non-null    object\n",
      " 10  graphic_card_gb  823 non-null    object\n",
      " 11  weight           823 non-null    object\n",
      " 12  warranty         823 non-null    object\n",
      " 13  Touchscreen      823 non-null    object\n",
      " 14  Price            823 non-null    int64 \n",
      "dtypes: int64(1), object(14)\n",
      "memory usage: 96.6+ KB\n"
     ]
    }
   ],
   "execution_count": 9
  },
  {
   "metadata": {
    "ExecuteTime": {
     "end_time": "2025-02-27T00:59:37.246790Z",
     "start_time": "2025-02-27T00:59:37.240320Z"
    }
   },
   "cell_type": "code",
   "source": [
    "# make to different variables for categorical and numerical feature identification\n",
    "cat_val = df_train.select_dtypes(include=['object']).columns\n",
    "num_val = df_train.select_dtypes(include=['int64']).columns\n",
    "\n",
    "print(cat_val,'\\n',num_val)"
   ],
   "id": "a3b28076323cc7f1",
   "outputs": [
    {
     "name": "stdout",
     "output_type": "stream",
     "text": [
      "Index(['brand', 'processor_brand', 'processor_name', 'processor_gnrtn',\n",
      "       'ram_gb', 'ram_type', 'ssd', 'hdd', 'os', 'os_bit', 'graphic_card_gb',\n",
      "       'weight', 'warranty', 'Touchscreen'],\n",
      "      dtype='object') \n",
      " Index(['Price'], dtype='object')\n"
     ]
    }
   ],
   "execution_count": 10
  },
  {
   "metadata": {
    "ExecuteTime": {
     "end_time": "2025-02-27T00:59:49.015670Z",
     "start_time": "2025-02-27T00:59:49.008378Z"
    }
   },
   "cell_type": "code",
   "source": [
    "# check all unique values in features\n",
    "for column in df_train.columns:\n",
    "    unique_values = df_train[column].unique()\n",
    "    print(f\"Unique values in column '{column}': {unique_values}\")"
   ],
   "id": "1643f42615ad0ed2",
   "outputs": [
    {
     "name": "stdout",
     "output_type": "stream",
     "text": [
      "Unique values in column 'brand': ['ASUS' 'Lenovo' 'acer' 'Avita' 'HP' 'DELL' 'MSI' 'APPLE']\n",
      "Unique values in column 'processor_brand': ['Intel' 'AMD' 'M1']\n",
      "Unique values in column 'processor_name': ['Core i3' 'Core i5' 'Celeron Dual' 'Ryzen 5' 'Core i7' 'Core i9' 'M1'\n",
      " 'Pentium Quad' 'Ryzen 3' 'Ryzen 7' 'Ryzen 9']\n",
      "Unique values in column 'processor_gnrtn': ['10th' 'Not Available' '11th' '7th' '8th' '9th' '4th' '12th']\n",
      "Unique values in column 'ram_gb': ['4 GB' '8 GB' '16 GB' '32 GB']\n",
      "Unique values in column 'ram_type': ['DDR4' 'LPDDR4' 'LPDDR4X' 'DDR5' 'DDR3' 'LPDDR3']\n",
      "Unique values in column 'ssd': ['0 GB' '512 GB' '256 GB' '128 GB' '1024 GB' '2048 GB' '3072 GB']\n",
      "Unique values in column 'hdd': ['1024 GB' '0 GB' '512 GB' '2048 GB']\n",
      "Unique values in column 'os': ['Windows' 'DOS' 'Mac']\n",
      "Unique values in column 'os_bit': ['64-bit' '32-bit']\n",
      "Unique values in column 'graphic_card_gb': ['0 GB' '2 GB' '4 GB' '6 GB' '8 GB']\n",
      "Unique values in column 'weight': ['Casual' 'ThinNlight' 'Gaming']\n",
      "Unique values in column 'warranty': ['No warranty' '1 year' '2 years' '3 years']\n",
      "Unique values in column 'Touchscreen': ['No' 'Yes']\n",
      "Unique values in column 'Price': [ 34649  38999  39999  69990  26990  22990  21990  58799  49999  59990\n",
      "  93700  72990  17490  35990  56490  65390  31999  32490  31799  29890\n",
      "  23990  32955  46200  34429  37990  33980  39990  39490  53990  38990\n",
      "  37890  41990  45990  42490  36990  38940  42990  49990  41490  38490\n",
      "  44990  36490  38970  44900  44427  40200  40990  71999  41998  39998\n",
      "  48490  44376  43900  46690  43990  48500  48990  23490  54238  51990\n",
      "  43970  54990  41250  60790  45650  45490  38799  69267  51649  47990\n",
      "  44890  50990  48900  41790  57999  45930  55490  32890  42190  43690\n",
      "  43800  34990  38900  40890  39790  35590  33990  43400  24990  40750\n",
      "  43000  38000  49279  41500  36999  42900  21490  41480  32990  38680\n",
      "  40390  20490  44490  41890  43590  44690  41390  44290  48999  46390\n",
      "  18990  17990  26470  27990  29999  25990  16990 119990  94190 106167\n",
      "  68090 139990  55990 102551  46990  76012  49490  86867  81998 136590\n",
      "  59490  49800  61999  52990  67990  57990  62300  61990  63990  65990\n",
      "  71990  76990  89990  71890  64990  55999  73490  74490  58340  82990\n",
      "  64190  70090  97990  66999  60990  59999  79990  69490  89390  74990\n",
      "  66490  89702  70990  58990  57500  56541  61290  84990  72500  87990\n",
      "  68990  77990 105990 111890  71090  53400  74500 114990 159990 172090\n",
      " 147000 106490 111999  70798  99500  62998  88990 113590  73990  61000\n",
      "  99990  70799  53690  53190  58999  82000  89998  69899  76300  72900\n",
      "  73519 126000 114999 109999 129999 149990  71290  79500  70980  94000\n",
      "  85990  86990  91999  78900 132790  65556  70190  79590  86999  78000\n",
      "  73063 100990  75990  84086 179990  84500  74190 155411 125394  52490\n",
      "  56990  58090  61597  81990  61249  83990 291190 145990  46790  44599\n",
      "  72964  48790  56491  62490  60190  54490  55790  69900  74590  77900\n",
      "  67490  74999  68900  71695  62317 207290  93190  94990 102990 104000\n",
      "  90190  88488 109990 239759  78990 121890  92000 162990 135300 174527\n",
      " 162299 109190  99999 104990 244801  86000 162399 119599 211753 110999\n",
      "  66990 134990  98990 144690 194990 124990 122410 154990 122990 224990\n",
      " 279990 121990 116990 151098 129990 149999 171990  93955 234990 128500\n",
      " 120980 157249 229900 131500 165990 167990 165000  62990 136990 233990\n",
      "  93990 116941  82500  98912  92990 169990 192990 299990 269990 265998\n",
      " 441990 109590 146490 112990 132990 125990 103990 101990 131990 128990\n",
      " 184990 225990 243990 309990  58100  30990  36000  30780  33690  40590\n",
      "  34500  43490  42090  37390  52632  32917  41999  44390  49970  47490\n",
      "  67500  62450  98020  49890  73999  76190  74798  68100  55090  91990\n",
      "  84208  53490  76498  98920  52380  52500  75999  80990  59900  54590\n",
      "  75500  51890  57900  81978  68500  80000  75100 106990  81490  84988\n",
      "  90990  72400 111990 109000  78988  73138  89570  73400  84190  95990\n",
      " 130990  77988  76000 111000  84970  80490 135990 199990 146990 141990\n",
      " 142990 130500 138990 144990  57490]\n"
     ]
    }
   ],
   "execution_count": 11
  },
  {
   "metadata": {
    "ExecuteTime": {
     "end_time": "2025-02-27T01:00:08.408695Z",
     "start_time": "2025-02-27T01:00:08.382687Z"
    }
   },
   "cell_type": "code",
   "source": [
    "# Removed units ('GB', 'years', 'bit', etc.) from certain columns using string manipulation (str.replace) \n",
    "# and transformed them into appropriate numeric types (astype or pd.to_numeric)\n",
    "df_train['ram_gb'] = df_train['ram_gb'].str.replace('GB','')\n",
    "df_train['ssd'] = df_train['ssd'].str.replace('GB','')\n",
    "df_train['hdd'] = df_train['hdd'].str.replace('GB','')\n",
    "df_train['graphic_card_gb'] = df_train['graphic_card_gb'].str.replace('GB','')\n",
    "df_train['os_bit'] = df_train['os_bit'].str.replace('-bit','')\n",
    "df_train['warranty'] = df_train['warranty'].str.replace(r'\\byears?\\b', '', regex=True)\n",
    "df_train['processor_gnrtn'] = df_train['processor_gnrtn'].str.replace('th','')\n",
    "\n",
    "\n",
    "df_train['ram_gb'] = df_train['ram_gb'].astype('int32')\n",
    "df_train['ssd'] = df_train['ssd'].astype('int32')\n",
    "df_train['hdd'] = df_train['hdd'].astype('int32')\n",
    "df_train['graphic_card_gb'] = df_train['graphic_card_gb'].astype('int32')\n",
    "df_train['os_bit'] = df_train['os_bit'].astype('int32')\n",
    "\n",
    "df_train.head()"
   ],
   "id": "b53f9f0868051e1b",
   "outputs": [
    {
     "data": {
      "text/plain": [
       "    brand processor_brand processor_name processor_gnrtn  ram_gb ram_type  \\\n",
       "0    ASUS           Intel        Core i3              10       4     DDR4   \n",
       "1  Lenovo           Intel        Core i3              10       4     DDR4   \n",
       "2  Lenovo           Intel        Core i3              10       4     DDR4   \n",
       "3    ASUS           Intel        Core i5              10       8     DDR4   \n",
       "4    ASUS           Intel   Celeron Dual   Not Available       4     DDR4   \n",
       "\n",
       "   ssd   hdd       os  os_bit  graphic_card_gb  weight     warranty  \\\n",
       "0    0  1024  Windows      64                0  Casual  No warranty   \n",
       "1    0  1024  Windows      64                0  Casual  No warranty   \n",
       "2    0  1024  Windows      64                0  Casual  No warranty   \n",
       "3  512     0  Windows      32                2  Casual  No warranty   \n",
       "4    0   512  Windows      64                0  Casual  No warranty   \n",
       "\n",
       "  Touchscreen  Price  \n",
       "0          No  34649  \n",
       "1          No  38999  \n",
       "2          No  39999  \n",
       "3          No  69990  \n",
       "4          No  26990  "
      ],
      "text/html": [
       "<div>\n",
       "<style scoped>\n",
       "    .dataframe tbody tr th:only-of-type {\n",
       "        vertical-align: middle;\n",
       "    }\n",
       "\n",
       "    .dataframe tbody tr th {\n",
       "        vertical-align: top;\n",
       "    }\n",
       "\n",
       "    .dataframe thead th {\n",
       "        text-align: right;\n",
       "    }\n",
       "</style>\n",
       "<table border=\"1\" class=\"dataframe\">\n",
       "  <thead>\n",
       "    <tr style=\"text-align: right;\">\n",
       "      <th></th>\n",
       "      <th>brand</th>\n",
       "      <th>processor_brand</th>\n",
       "      <th>processor_name</th>\n",
       "      <th>processor_gnrtn</th>\n",
       "      <th>ram_gb</th>\n",
       "      <th>ram_type</th>\n",
       "      <th>ssd</th>\n",
       "      <th>hdd</th>\n",
       "      <th>os</th>\n",
       "      <th>os_bit</th>\n",
       "      <th>graphic_card_gb</th>\n",
       "      <th>weight</th>\n",
       "      <th>warranty</th>\n",
       "      <th>Touchscreen</th>\n",
       "      <th>Price</th>\n",
       "    </tr>\n",
       "  </thead>\n",
       "  <tbody>\n",
       "    <tr>\n",
       "      <th>0</th>\n",
       "      <td>ASUS</td>\n",
       "      <td>Intel</td>\n",
       "      <td>Core i3</td>\n",
       "      <td>10</td>\n",
       "      <td>4</td>\n",
       "      <td>DDR4</td>\n",
       "      <td>0</td>\n",
       "      <td>1024</td>\n",
       "      <td>Windows</td>\n",
       "      <td>64</td>\n",
       "      <td>0</td>\n",
       "      <td>Casual</td>\n",
       "      <td>No warranty</td>\n",
       "      <td>No</td>\n",
       "      <td>34649</td>\n",
       "    </tr>\n",
       "    <tr>\n",
       "      <th>1</th>\n",
       "      <td>Lenovo</td>\n",
       "      <td>Intel</td>\n",
       "      <td>Core i3</td>\n",
       "      <td>10</td>\n",
       "      <td>4</td>\n",
       "      <td>DDR4</td>\n",
       "      <td>0</td>\n",
       "      <td>1024</td>\n",
       "      <td>Windows</td>\n",
       "      <td>64</td>\n",
       "      <td>0</td>\n",
       "      <td>Casual</td>\n",
       "      <td>No warranty</td>\n",
       "      <td>No</td>\n",
       "      <td>38999</td>\n",
       "    </tr>\n",
       "    <tr>\n",
       "      <th>2</th>\n",
       "      <td>Lenovo</td>\n",
       "      <td>Intel</td>\n",
       "      <td>Core i3</td>\n",
       "      <td>10</td>\n",
       "      <td>4</td>\n",
       "      <td>DDR4</td>\n",
       "      <td>0</td>\n",
       "      <td>1024</td>\n",
       "      <td>Windows</td>\n",
       "      <td>64</td>\n",
       "      <td>0</td>\n",
       "      <td>Casual</td>\n",
       "      <td>No warranty</td>\n",
       "      <td>No</td>\n",
       "      <td>39999</td>\n",
       "    </tr>\n",
       "    <tr>\n",
       "      <th>3</th>\n",
       "      <td>ASUS</td>\n",
       "      <td>Intel</td>\n",
       "      <td>Core i5</td>\n",
       "      <td>10</td>\n",
       "      <td>8</td>\n",
       "      <td>DDR4</td>\n",
       "      <td>512</td>\n",
       "      <td>0</td>\n",
       "      <td>Windows</td>\n",
       "      <td>32</td>\n",
       "      <td>2</td>\n",
       "      <td>Casual</td>\n",
       "      <td>No warranty</td>\n",
       "      <td>No</td>\n",
       "      <td>69990</td>\n",
       "    </tr>\n",
       "    <tr>\n",
       "      <th>4</th>\n",
       "      <td>ASUS</td>\n",
       "      <td>Intel</td>\n",
       "      <td>Celeron Dual</td>\n",
       "      <td>Not Available</td>\n",
       "      <td>4</td>\n",
       "      <td>DDR4</td>\n",
       "      <td>0</td>\n",
       "      <td>512</td>\n",
       "      <td>Windows</td>\n",
       "      <td>64</td>\n",
       "      <td>0</td>\n",
       "      <td>Casual</td>\n",
       "      <td>No warranty</td>\n",
       "      <td>No</td>\n",
       "      <td>26990</td>\n",
       "    </tr>\n",
       "  </tbody>\n",
       "</table>\n",
       "</div>"
      ]
     },
     "execution_count": 12,
     "metadata": {},
     "output_type": "execute_result"
    }
   ],
   "execution_count": 12
  },
  {
   "metadata": {
    "ExecuteTime": {
     "end_time": "2025-02-27T01:00:16.418458Z",
     "start_time": "2025-02-27T01:00:16.412631Z"
    }
   },
   "cell_type": "code",
   "source": [
    "# Convert to numeric, 'Not Available' becomes NaN\n",
    "df_train['processor_gnrtn'] = pd.to_numeric(df_train['processor_gnrtn'], errors='coerce')  # Convert to numeric, 'Not Available' becomes NaN\n",
    "median_value = df_train['processor_gnrtn'].median()"
   ],
   "id": "40a0a5e71602b0e4",
   "outputs": [],
   "execution_count": 13
  },
  {
   "metadata": {
    "ExecuteTime": {
     "end_time": "2025-02-27T01:00:21.662813Z",
     "start_time": "2025-02-27T01:00:21.657665Z"
    }
   },
   "cell_type": "code",
   "source": [
    "df_train['processor_gnrtn'].fillna(median_value, inplace=True)\n",
    "df_train['processor_gnrtn'] = df_train['processor_gnrtn'].astype(int)"
   ],
   "id": "748c1589fbfaa944",
   "outputs": [],
   "execution_count": 14
  },
  {
   "metadata": {
    "ExecuteTime": {
     "end_time": "2025-02-27T01:00:25.765062Z",
     "start_time": "2025-02-27T01:00:25.751285Z"
    }
   },
   "cell_type": "code",
   "source": "df_train.head()",
   "id": "af2c8d45d30eb6c4",
   "outputs": [
    {
     "data": {
      "text/plain": [
       "    brand processor_brand processor_name  processor_gnrtn  ram_gb ram_type  \\\n",
       "0    ASUS           Intel        Core i3               10       4     DDR4   \n",
       "1  Lenovo           Intel        Core i3               10       4     DDR4   \n",
       "2  Lenovo           Intel        Core i3               10       4     DDR4   \n",
       "3    ASUS           Intel        Core i5               10       8     DDR4   \n",
       "4    ASUS           Intel   Celeron Dual               11       4     DDR4   \n",
       "\n",
       "   ssd   hdd       os  os_bit  graphic_card_gb  weight     warranty  \\\n",
       "0    0  1024  Windows      64                0  Casual  No warranty   \n",
       "1    0  1024  Windows      64                0  Casual  No warranty   \n",
       "2    0  1024  Windows      64                0  Casual  No warranty   \n",
       "3  512     0  Windows      32                2  Casual  No warranty   \n",
       "4    0   512  Windows      64                0  Casual  No warranty   \n",
       "\n",
       "  Touchscreen  Price  \n",
       "0          No  34649  \n",
       "1          No  38999  \n",
       "2          No  39999  \n",
       "3          No  69990  \n",
       "4          No  26990  "
      ],
      "text/html": [
       "<div>\n",
       "<style scoped>\n",
       "    .dataframe tbody tr th:only-of-type {\n",
       "        vertical-align: middle;\n",
       "    }\n",
       "\n",
       "    .dataframe tbody tr th {\n",
       "        vertical-align: top;\n",
       "    }\n",
       "\n",
       "    .dataframe thead th {\n",
       "        text-align: right;\n",
       "    }\n",
       "</style>\n",
       "<table border=\"1\" class=\"dataframe\">\n",
       "  <thead>\n",
       "    <tr style=\"text-align: right;\">\n",
       "      <th></th>\n",
       "      <th>brand</th>\n",
       "      <th>processor_brand</th>\n",
       "      <th>processor_name</th>\n",
       "      <th>processor_gnrtn</th>\n",
       "      <th>ram_gb</th>\n",
       "      <th>ram_type</th>\n",
       "      <th>ssd</th>\n",
       "      <th>hdd</th>\n",
       "      <th>os</th>\n",
       "      <th>os_bit</th>\n",
       "      <th>graphic_card_gb</th>\n",
       "      <th>weight</th>\n",
       "      <th>warranty</th>\n",
       "      <th>Touchscreen</th>\n",
       "      <th>Price</th>\n",
       "    </tr>\n",
       "  </thead>\n",
       "  <tbody>\n",
       "    <tr>\n",
       "      <th>0</th>\n",
       "      <td>ASUS</td>\n",
       "      <td>Intel</td>\n",
       "      <td>Core i3</td>\n",
       "      <td>10</td>\n",
       "      <td>4</td>\n",
       "      <td>DDR4</td>\n",
       "      <td>0</td>\n",
       "      <td>1024</td>\n",
       "      <td>Windows</td>\n",
       "      <td>64</td>\n",
       "      <td>0</td>\n",
       "      <td>Casual</td>\n",
       "      <td>No warranty</td>\n",
       "      <td>No</td>\n",
       "      <td>34649</td>\n",
       "    </tr>\n",
       "    <tr>\n",
       "      <th>1</th>\n",
       "      <td>Lenovo</td>\n",
       "      <td>Intel</td>\n",
       "      <td>Core i3</td>\n",
       "      <td>10</td>\n",
       "      <td>4</td>\n",
       "      <td>DDR4</td>\n",
       "      <td>0</td>\n",
       "      <td>1024</td>\n",
       "      <td>Windows</td>\n",
       "      <td>64</td>\n",
       "      <td>0</td>\n",
       "      <td>Casual</td>\n",
       "      <td>No warranty</td>\n",
       "      <td>No</td>\n",
       "      <td>38999</td>\n",
       "    </tr>\n",
       "    <tr>\n",
       "      <th>2</th>\n",
       "      <td>Lenovo</td>\n",
       "      <td>Intel</td>\n",
       "      <td>Core i3</td>\n",
       "      <td>10</td>\n",
       "      <td>4</td>\n",
       "      <td>DDR4</td>\n",
       "      <td>0</td>\n",
       "      <td>1024</td>\n",
       "      <td>Windows</td>\n",
       "      <td>64</td>\n",
       "      <td>0</td>\n",
       "      <td>Casual</td>\n",
       "      <td>No warranty</td>\n",
       "      <td>No</td>\n",
       "      <td>39999</td>\n",
       "    </tr>\n",
       "    <tr>\n",
       "      <th>3</th>\n",
       "      <td>ASUS</td>\n",
       "      <td>Intel</td>\n",
       "      <td>Core i5</td>\n",
       "      <td>10</td>\n",
       "      <td>8</td>\n",
       "      <td>DDR4</td>\n",
       "      <td>512</td>\n",
       "      <td>0</td>\n",
       "      <td>Windows</td>\n",
       "      <td>32</td>\n",
       "      <td>2</td>\n",
       "      <td>Casual</td>\n",
       "      <td>No warranty</td>\n",
       "      <td>No</td>\n",
       "      <td>69990</td>\n",
       "    </tr>\n",
       "    <tr>\n",
       "      <th>4</th>\n",
       "      <td>ASUS</td>\n",
       "      <td>Intel</td>\n",
       "      <td>Celeron Dual</td>\n",
       "      <td>11</td>\n",
       "      <td>4</td>\n",
       "      <td>DDR4</td>\n",
       "      <td>0</td>\n",
       "      <td>512</td>\n",
       "      <td>Windows</td>\n",
       "      <td>64</td>\n",
       "      <td>0</td>\n",
       "      <td>Casual</td>\n",
       "      <td>No warranty</td>\n",
       "      <td>No</td>\n",
       "      <td>26990</td>\n",
       "    </tr>\n",
       "  </tbody>\n",
       "</table>\n",
       "</div>"
      ]
     },
     "execution_count": 15,
     "metadata": {},
     "output_type": "execute_result"
    }
   ],
   "execution_count": 15
  },
  {
   "metadata": {
    "ExecuteTime": {
     "end_time": "2025-02-27T01:00:32.052121Z",
     "start_time": "2025-02-27T01:00:32.043543Z"
    }
   },
   "cell_type": "code",
   "source": "df_train.info()",
   "id": "516b22ac809773d2",
   "outputs": [
    {
     "name": "stdout",
     "output_type": "stream",
     "text": [
      "<class 'pandas.core.frame.DataFrame'>\n",
      "RangeIndex: 823 entries, 0 to 822\n",
      "Data columns (total 15 columns):\n",
      " #   Column           Non-Null Count  Dtype \n",
      "---  ------           --------------  ----- \n",
      " 0   brand            823 non-null    object\n",
      " 1   processor_brand  823 non-null    object\n",
      " 2   processor_name   823 non-null    object\n",
      " 3   processor_gnrtn  823 non-null    int64 \n",
      " 4   ram_gb           823 non-null    int32 \n",
      " 5   ram_type         823 non-null    object\n",
      " 6   ssd              823 non-null    int32 \n",
      " 7   hdd              823 non-null    int32 \n",
      " 8   os               823 non-null    object\n",
      " 9   os_bit           823 non-null    int32 \n",
      " 10  graphic_card_gb  823 non-null    int32 \n",
      " 11  weight           823 non-null    object\n",
      " 12  warranty         823 non-null    object\n",
      " 13  Touchscreen      823 non-null    object\n",
      " 14  Price            823 non-null    int64 \n",
      "dtypes: int32(5), int64(2), object(8)\n",
      "memory usage: 80.5+ KB\n"
     ]
    }
   ],
   "execution_count": 16
  },
  {
   "metadata": {
    "ExecuteTime": {
     "end_time": "2025-02-27T01:00:43.483081Z",
     "start_time": "2025-02-27T01:00:43.476306Z"
    }
   },
   "cell_type": "code",
   "source": "df_train.isnull().sum()",
   "id": "4fab350b6b827f74",
   "outputs": [
    {
     "data": {
      "text/plain": [
       "brand              0\n",
       "processor_brand    0\n",
       "processor_name     0\n",
       "processor_gnrtn    0\n",
       "ram_gb             0\n",
       "ram_type           0\n",
       "ssd                0\n",
       "hdd                0\n",
       "os                 0\n",
       "os_bit             0\n",
       "graphic_card_gb    0\n",
       "weight             0\n",
       "warranty           0\n",
       "Touchscreen        0\n",
       "Price              0\n",
       "dtype: int64"
      ]
     },
     "execution_count": 17,
     "metadata": {},
     "output_type": "execute_result"
    }
   ],
   "execution_count": 17
  },
  {
   "metadata": {},
   "cell_type": "markdown",
   "source": "## 3. Do data visualization",
   "id": "c28149287e55b130"
  },
  {
   "metadata": {
    "ExecuteTime": {
     "end_time": "2025-02-27T01:01:09.444660Z",
     "start_time": "2025-02-27T01:01:09.160271Z"
    }
   },
   "cell_type": "code",
   "source": "sns.displot(df['Price'],color='blue')",
   "id": "5b1a9b41db11d91c",
   "outputs": [
    {
     "data": {
      "text/plain": [
       "<seaborn.axisgrid.FacetGrid at 0x2076bff7e50>"
      ]
     },
     "execution_count": 18,
     "metadata": {},
     "output_type": "execute_result"
    },
    {
     "data": {
      "text/plain": [
       "<Figure size 500x500 with 1 Axes>"
      ],
      "image/png": "[encoded data removed]"
     },
     "metadata": {},
     "output_type": "display_data"
    }
   ],
   "execution_count": 18
  },
  {
   "metadata": {
    "ExecuteTime": {
     "end_time": "2025-02-27T01:01:19.160976Z",
     "start_time": "2025-02-27T01:01:18.489149Z"
    }
   },
   "cell_type": "code",
   "source": [
    "def dataplot(col):\n",
    "    plt.figure(figsize= (10,6))\n",
    "    sns.countplot(data = df_train, x=col, palette = 'plasma')\n",
    "    plt.xticks(rotation = 'vertical')\n",
    "    plt.show()\n",
    "    \n",
    "features = ['brand', 'ram_gb', 'processor_name', 'processor_gnrtn', 'os']\n",
    "\n",
    "for col in features:\n",
    "    dataplot(col)"
   ],
   "id": "36b22a696c14a7",
   "outputs": [
    {
     "data": {
      "text/plain": [
       "<Figure size 1000x600 with 1 Axes>"
      ],
      "image/png": "[encoded data removed]"
     },
     "metadata": {},
     "output_type": "display_data"
    },
    {
     "data": {
      "text/plain": [
       "<Figure size 1000x600 with 1 Axes>"
      ],
      "image/png": "[encoded data removed]"
     },
     "metadata": {},
     "output_type": "display_data"
    },
    {
     "data": {
      "text/plain": [
       "<Figure size 1000x600 with 1 Axes>"
      ],
      "image/png": "[encoded data removed]"
     },
     "metadata": {},
     "output_type": "display_data"
    },
    {
     "data": {
      "text/plain": [
       "<Figure size 1000x600 with 1 Axes>"
      ],
      "image/png": "[encoded data removed]"
     },
     "metadata": {},
     "output_type": "display_data"
    },
    {
     "data": {
      "text/plain": [
       "<Figure size 1000x600 with 1 Axes>"
      ],
      "image/png": "[encoded data removed]"
     },
     "metadata": {},
     "output_type": "display_data"
    }
   ],
   "execution_count": 19
  },
  {
   "metadata": {
    "ExecuteTime": {
     "end_time": "2025-02-27T01:01:35.998027Z",
     "start_time": "2025-02-27T01:01:35.729778Z"
    }
   },
   "cell_type": "code",
   "source": [
    "plt.figure(figsize=(15,7))\n",
    "sns.barplot(x = df_train['brand'], y=df_train['Price'])\n",
    "plt.xticks(rotation = 'vertical')\n",
    "plt.show()"
   ],
   "id": "2798e4e1337fa343",
   "outputs": [
    {
     "data": {
      "text/plain": [
       "<Figure size 1500x700 with 1 Axes>"
      ],
      "image/png": "[encoded data removed]"
     },
     "metadata": {},
     "output_type": "display_data"
    }
   ],
   "execution_count": 20
  },
  {
   "metadata": {},
   "cell_type": "markdown",
   "source": "### Visualize the Touchscreen feature",
   "id": "4c34e38cbabcb843"
  },
  {
   "metadata": {
    "ExecuteTime": {
     "end_time": "2025-02-27T01:02:39.994887Z",
     "start_time": "2025-02-27T01:02:39.866643Z"
    }
   },
   "cell_type": "code",
   "source": "sns.countplot(df_train, x =df_train['Touchscreen'],palette='plasma')",
   "id": "4b85455710b4e8a8",
   "outputs": [
    {
     "data": {
      "text/plain": [
       "<Axes: xlabel='Touchscreen', ylabel='count'>"
      ]
     },
     "execution_count": 21,
     "metadata": {},
     "output_type": "execute_result"
    },
    {
     "data": {
      "text/plain": [
       "<Figure size 640x480 with 1 Axes>"
      ],
      "image/png": "[encoded data removed]"
     },
     "metadata": {},
     "output_type": "display_data"
    }
   ],
   "execution_count": 21
  },
  {
   "metadata": {
    "ExecuteTime": {
     "end_time": "2025-02-27T01:02:44.961430Z",
     "start_time": "2025-02-27T01:02:44.755316Z"
    }
   },
   "cell_type": "code",
   "source": "sns.barplot(x = df_train['Touchscreen'], y= df_train['Price'])",
   "id": "a25a1ea0c57ad18d",
   "outputs": [
    {
     "data": {
      "text/plain": [
       "<Axes: xlabel='Touchscreen', ylabel='Price'>"
      ]
     },
     "execution_count": 22,
     "metadata": {},
     "output_type": "execute_result"
    },
    {
     "data": {
      "text/plain": [
       "<Figure size 640x480 with 1 Axes>"
      ],
      "image/png": "[encoded data removed]"
     },
     "metadata": {},
     "output_type": "display_data"
    }
   ],
   "execution_count": 22
  },
  {
   "metadata": {},
   "cell_type": "markdown",
   "source": "### Visualize the Warranty feature",
   "id": "bc37857f2c56da7a"
  },
  {
   "metadata": {
    "ExecuteTime": {
     "end_time": "2025-02-27T01:03:27.639207Z",
     "start_time": "2025-02-27T01:03:27.492388Z"
    }
   },
   "cell_type": "code",
   "source": "sns.countplot(df_train, x =df_train['warranty'],palette='plasma')",
   "id": "fb745bb991f5262c",
   "outputs": [
    {
     "data": {
      "text/plain": [
       "<Axes: xlabel='warranty', ylabel='count'>"
      ]
     },
     "execution_count": 23,
     "metadata": {},
     "output_type": "execute_result"
    },
    {
     "data": {
      "text/plain": [
       "<Figure size 640x480 with 1 Axes>"
      ],
      "image/png": "[encoded data removed]"
     },
     "metadata": {},
     "output_type": "display_data"
    }
   ],
   "execution_count": 23
  },
  {
   "metadata": {
    "ExecuteTime": {
     "end_time": "2025-02-27T01:03:32.908648Z",
     "start_time": "2025-02-27T01:03:32.714436Z"
    }
   },
   "cell_type": "code",
   "source": "sns.barplot(x = df_train['warranty'], y= df_train['Price'])",
   "id": "d661e16d6454705e",
   "outputs": [
    {
     "data": {
      "text/plain": [
       "<Axes: xlabel='warranty', ylabel='Price'>"
      ]
     },
     "execution_count": 24,
     "metadata": {},
     "output_type": "execute_result"
    },
    {
     "data": {
      "text/plain": [
       "<Figure size 640x480 with 1 Axes>"
      ],
      "image/png": "[encoded data removed]"
     },
     "metadata": {},
     "output_type": "display_data"
    }
   ],
   "execution_count": 24
  },
  {
   "metadata": {},
   "cell_type": "markdown",
   "source": "### Visualize the Weight feature",
   "id": "9c73c43661418f1"
  },
  {
   "metadata": {
    "ExecuteTime": {
     "end_time": "2025-02-27T01:03:58.336550Z",
     "start_time": "2025-02-27T01:03:58.233723Z"
    }
   },
   "cell_type": "code",
   "source": "sns.countplot(df_train, x =df_train['weight'],palette='plasma')",
   "id": "aee3f64c64ce05a1",
   "outputs": [
    {
     "data": {
      "text/plain": [
       "<Axes: xlabel='weight', ylabel='count'>"
      ]
     },
     "execution_count": 25,
     "metadata": {},
     "output_type": "execute_result"
    },
    {
     "data": {
      "text/plain": [
       "<Figure size 640x480 with 1 Axes>"
      ],
      "image/png": "[encoded data removed]"
     },
     "metadata": {},
     "output_type": "display_data"
    }
   ],
   "execution_count": 25
  },
  {
   "metadata": {
    "ExecuteTime": {
     "end_time": "2025-02-27T01:04:06.471126Z",
     "start_time": "2025-02-27T01:04:06.301689Z"
    }
   },
   "cell_type": "code",
   "source": "sns.barplot(x = df_train['weight'], y= df_train['Price'])",
   "id": "f4d60fbf3c494101",
   "outputs": [
    {
     "data": {
      "text/plain": [
       "<Axes: xlabel='weight', ylabel='Price'>"
      ]
     },
     "execution_count": 26,
     "metadata": {},
     "output_type": "execute_result"
    },
    {
     "data": {
      "text/plain": [
       "<Figure size 640x480 with 1 Axes>"
      ],
      "image/png": "[encoded data removed]"
     },
     "metadata": {},
     "output_type": "display_data"
    }
   ],
   "execution_count": 26
  },
  {
   "metadata": {},
   "cell_type": "markdown",
   "source": "### Visualize the RAM",
   "id": "2c6b8d7ceec31add"
  },
  {
   "metadata": {
    "ExecuteTime": {
     "end_time": "2025-02-27T01:04:40.966945Z",
     "start_time": "2025-02-27T01:04:40.822833Z"
    }
   },
   "cell_type": "code",
   "source": "sns.countplot(df_train, x =df_train['ram_gb'],palette='plasma')",
   "id": "5d66d2e5b6d7d628",
   "outputs": [
    {
     "data": {
      "text/plain": [
       "<Axes: xlabel='ram_gb', ylabel='count'>"
      ]
     },
     "execution_count": 27,
     "metadata": {},
     "output_type": "execute_result"
    },
    {
     "data": {
      "text/plain": [
       "<Figure size 640x480 with 1 Axes>"
      ],
      "image/png": "[encoded data removed]"
     },
     "metadata": {},
     "output_type": "display_data"
    }
   ],
   "execution_count": 27
  },
  {
   "metadata": {
    "ExecuteTime": {
     "end_time": "2025-02-27T01:04:46.078640Z",
     "start_time": "2025-02-27T01:04:45.898848Z"
    }
   },
   "cell_type": "code",
   "source": "sns.barplot(x = df_train['ram_gb'], y= df_train['Price'])",
   "id": "8c4ee54150b54761",
   "outputs": [
    {
     "data": {
      "text/plain": [
       "<Axes: xlabel='ram_gb', ylabel='Price'>"
      ]
     },
     "execution_count": 28,
     "metadata": {},
     "output_type": "execute_result"
    },
    {
     "data": {
      "text/plain": [
       "<Figure size 640x480 with 1 Axes>"
      ],
      "image/png": "[encoded data removed]"
     },
     "metadata": {},
     "output_type": "display_data"
    }
   ],
   "execution_count": 28
  },
  {
   "metadata": {
    "ExecuteTime": {
     "end_time": "2025-02-27T01:04:55.025444Z",
     "start_time": "2025-02-27T01:04:55.011176Z"
    }
   },
   "cell_type": "code",
   "source": "df_train.sample(10)",
   "id": "68e4143245edbf3c",
   "outputs": [
    {
     "data": {
      "text/plain": [
       "      brand processor_brand processor_name  processor_gnrtn  ram_gb ram_type  \\\n",
       "99      MSI           Intel        Core i3               11       8     DDR4   \n",
       "772      HP             AMD        Ryzen 7               11      16     DDR4   \n",
       "478    DELL           Intel        Core i7                8      16     DDR4   \n",
       "491    ASUS           Intel        Core i7               11       8     DDR4   \n",
       "284      HP           Intel        Core i5               11       8     DDR4   \n",
       "538    ASUS           Intel        Core i7               11      16  LPDDR4X   \n",
       "467    DELL           Intel        Core i5               11       8     DDR4   \n",
       "163    ASUS           Intel   Celeron Dual               11       4   LPDDR4   \n",
       "160    ASUS           Intel        Core i3               11       8     DDR4   \n",
       "659  Lenovo             AMD        Ryzen 3               11       4     DDR4   \n",
       "\n",
       "      ssd   hdd       os  os_bit  graphic_card_gb      weight     warranty  \\\n",
       "99    512     0  Windows      64                0  ThinNlight  No warranty   \n",
       "772   512     0  Windows      64                2      Casual           1    \n",
       "478   256     0  Windows      64                4      Casual           1    \n",
       "491   512     0  Windows      64                0      Casual           1    \n",
       "284   512     0  Windows      64                0  ThinNlight           1    \n",
       "538  1024     0  Windows      64                0  ThinNlight  No warranty   \n",
       "467   256  1024  Windows      64                2      Casual  No warranty   \n",
       "163     0   512  Windows      32                0      Casual  No warranty   \n",
       "160     0  1024  Windows      32                0      Casual  No warranty   \n",
       "659     0  1024  Windows      64                0      Casual  No warranty   \n",
       "\n",
       "    Touchscreen  Price  \n",
       "99           No  48990  \n",
       "772          No  79990  \n",
       "478          No  87990  \n",
       "491          No  77990  \n",
       "284          No  72500  \n",
       "538          No  99990  \n",
       "467          No  66490  \n",
       "163          No  21490  \n",
       "160          No  41500  \n",
       "659          No  34990  "
      ],
      "text/html": [
       "<div>\n",
       "<style scoped>\n",
       "    .dataframe tbody tr th:only-of-type {\n",
       "        vertical-align: middle;\n",
       "    }\n",
       "\n",
       "    .dataframe tbody tr th {\n",
       "        vertical-align: top;\n",
       "    }\n",
       "\n",
       "    .dataframe thead th {\n",
       "        text-align: right;\n",
       "    }\n",
       "</style>\n",
       "<table border=\"1\" class=\"dataframe\">\n",
       "  <thead>\n",
       "    <tr style=\"text-align: right;\">\n",
       "      <th></th>\n",
       "      <th>brand</th>\n",
       "      <th>processor_brand</th>\n",
       "      <th>processor_name</th>\n",
       "      <th>processor_gnrtn</th>\n",
       "      <th>ram_gb</th>\n",
       "      <th>ram_type</th>\n",
       "      <th>ssd</th>\n",
       "      <th>hdd</th>\n",
       "      <th>os</th>\n",
       "      <th>os_bit</th>\n",
       "      <th>graphic_card_gb</th>\n",
       "      <th>weight</th>\n",
       "      <th>warranty</th>\n",
       "      <th>Touchscreen</th>\n",
       "      <th>Price</th>\n",
       "    </tr>\n",
       "  </thead>\n",
       "  <tbody>\n",
       "    <tr>\n",
       "      <th>99</th>\n",
       "      <td>MSI</td>\n",
       "      <td>Intel</td>\n",
       "      <td>Core i3</td>\n",
       "      <td>11</td>\n",
       "      <td>8</td>\n",
       "      <td>DDR4</td>\n",
       "      <td>512</td>\n",
       "      <td>0</td>\n",
       "      <td>Windows</td>\n",
       "      <td>64</td>\n",
       "      <td>0</td>\n",
       "      <td>ThinNlight</td>\n",
       "      <td>No warranty</td>\n",
       "      <td>No</td>\n",
       "      <td>48990</td>\n",
       "    </tr>\n",
       "    <tr>\n",
       "      <th>772</th>\n",
       "      <td>HP</td>\n",
       "      <td>AMD</td>\n",
       "      <td>Ryzen 7</td>\n",
       "      <td>11</td>\n",
       "      <td>16</td>\n",
       "      <td>DDR4</td>\n",
       "      <td>512</td>\n",
       "      <td>0</td>\n",
       "      <td>Windows</td>\n",
       "      <td>64</td>\n",
       "      <td>2</td>\n",
       "      <td>Casual</td>\n",
       "      <td>1</td>\n",
       "      <td>No</td>\n",
       "      <td>79990</td>\n",
       "    </tr>\n",
       "    <tr>\n",
       "      <th>478</th>\n",
       "      <td>DELL</td>\n",
       "      <td>Intel</td>\n",
       "      <td>Core i7</td>\n",
       "      <td>8</td>\n",
       "      <td>16</td>\n",
       "      <td>DDR4</td>\n",
       "      <td>256</td>\n",
       "      <td>0</td>\n",
       "      <td>Windows</td>\n",
       "      <td>64</td>\n",
       "      <td>4</td>\n",
       "      <td>Casual</td>\n",
       "      <td>1</td>\n",
       "      <td>No</td>\n",
       "      <td>87990</td>\n",
       "    </tr>\n",
       "    <tr>\n",
       "      <th>491</th>\n",
       "      <td>ASUS</td>\n",
       "      <td>Intel</td>\n",
       "      <td>Core i7</td>\n",
       "      <td>11</td>\n",
       "      <td>8</td>\n",
       "      <td>DDR4</td>\n",
       "      <td>512</td>\n",
       "      <td>0</td>\n",
       "      <td>Windows</td>\n",
       "      <td>64</td>\n",
       "      <td>0</td>\n",
       "      <td>Casual</td>\n",
       "      <td>1</td>\n",
       "      <td>No</td>\n",
       "      <td>77990</td>\n",
       "    </tr>\n",
       "    <tr>\n",
       "      <th>284</th>\n",
       "      <td>HP</td>\n",
       "      <td>Intel</td>\n",
       "      <td>Core i5</td>\n",
       "      <td>11</td>\n",
       "      <td>8</td>\n",
       "      <td>DDR4</td>\n",
       "      <td>512</td>\n",
       "      <td>0</td>\n",
       "      <td>Windows</td>\n",
       "      <td>64</td>\n",
       "      <td>0</td>\n",
       "      <td>ThinNlight</td>\n",
       "      <td>1</td>\n",
       "      <td>No</td>\n",
       "      <td>72500</td>\n",
       "    </tr>\n",
       "    <tr>\n",
       "      <th>538</th>\n",
       "      <td>ASUS</td>\n",
       "      <td>Intel</td>\n",
       "      <td>Core i7</td>\n",
       "      <td>11</td>\n",
       "      <td>16</td>\n",
       "      <td>LPDDR4X</td>\n",
       "      <td>1024</td>\n",
       "      <td>0</td>\n",
       "      <td>Windows</td>\n",
       "      <td>64</td>\n",
       "      <td>0</td>\n",
       "      <td>ThinNlight</td>\n",
       "      <td>No warranty</td>\n",
       "      <td>No</td>\n",
       "      <td>99990</td>\n",
       "    </tr>\n",
       "    <tr>\n",
       "      <th>467</th>\n",
       "      <td>DELL</td>\n",
       "      <td>Intel</td>\n",
       "      <td>Core i5</td>\n",
       "      <td>11</td>\n",
       "      <td>8</td>\n",
       "      <td>DDR4</td>\n",
       "      <td>256</td>\n",
       "      <td>1024</td>\n",
       "      <td>Windows</td>\n",
       "      <td>64</td>\n",
       "      <td>2</td>\n",
       "      <td>Casual</td>\n",
       "      <td>No warranty</td>\n",
       "      <td>No</td>\n",
       "      <td>66490</td>\n",
       "    </tr>\n",
       "    <tr>\n",
       "      <th>163</th>\n",
       "      <td>ASUS</td>\n",
       "      <td>Intel</td>\n",
       "      <td>Celeron Dual</td>\n",
       "      <td>11</td>\n",
       "      <td>4</td>\n",
       "      <td>LPDDR4</td>\n",
       "      <td>0</td>\n",
       "      <td>512</td>\n",
       "      <td>Windows</td>\n",
       "      <td>32</td>\n",
       "      <td>0</td>\n",
       "      <td>Casual</td>\n",
       "      <td>No warranty</td>\n",
       "      <td>No</td>\n",
       "      <td>21490</td>\n",
       "    </tr>\n",
       "    <tr>\n",
       "      <th>160</th>\n",
       "      <td>ASUS</td>\n",
       "      <td>Intel</td>\n",
       "      <td>Core i3</td>\n",
       "      <td>11</td>\n",
       "      <td>8</td>\n",
       "      <td>DDR4</td>\n",
       "      <td>0</td>\n",
       "      <td>1024</td>\n",
       "      <td>Windows</td>\n",
       "      <td>32</td>\n",
       "      <td>0</td>\n",
       "      <td>Casual</td>\n",
       "      <td>No warranty</td>\n",
       "      <td>No</td>\n",
       "      <td>41500</td>\n",
       "    </tr>\n",
       "    <tr>\n",
       "      <th>659</th>\n",
       "      <td>Lenovo</td>\n",
       "      <td>AMD</td>\n",
       "      <td>Ryzen 3</td>\n",
       "      <td>11</td>\n",
       "      <td>4</td>\n",
       "      <td>DDR4</td>\n",
       "      <td>0</td>\n",
       "      <td>1024</td>\n",
       "      <td>Windows</td>\n",
       "      <td>64</td>\n",
       "      <td>0</td>\n",
       "      <td>Casual</td>\n",
       "      <td>No warranty</td>\n",
       "      <td>No</td>\n",
       "      <td>34990</td>\n",
       "    </tr>\n",
       "  </tbody>\n",
       "</table>\n",
       "</div>"
      ]
     },
     "execution_count": 29,
     "metadata": {},
     "output_type": "execute_result"
    }
   ],
   "execution_count": 29
  },
  {
   "metadata": {},
   "cell_type": "markdown",
   "source": "### Visualize the Operating_system",
   "id": "42aa72fb503cc8e"
  },
  {
   "metadata": {
    "ExecuteTime": {
     "end_time": "2025-02-27T01:05:23.497730Z",
     "start_time": "2025-02-27T01:05:23.368773Z"
    }
   },
   "cell_type": "code",
   "source": "sns.countplot(df_train, x =df_train['os'],palette='plasma')",
   "id": "4c579d91d9fb1c2c",
   "outputs": [
    {
     "data": {
      "text/plain": [
       "<Axes: xlabel='os', ylabel='count'>"
      ]
     },
     "execution_count": 30,
     "metadata": {},
     "output_type": "execute_result"
    },
    {
     "data": {
      "text/plain": [
       "<Figure size 640x480 with 1 Axes>"
      ],
      "image/png": "[encoded data removed]"
     },
     "metadata": {},
     "output_type": "display_data"
    }
   ],
   "execution_count": 30
  },
  {
   "metadata": {
    "ExecuteTime": {
     "end_time": "2025-02-27T01:05:28.533529Z",
     "start_time": "2025-02-27T01:05:28.364889Z"
    }
   },
   "cell_type": "code",
   "source": "sns.barplot(x = df_train['os'], y= df_train['Price'])",
   "id": "4909e26d6a05b7a",
   "outputs": [
    {
     "data": {
      "text/plain": [
       "<Axes: xlabel='os', ylabel='Price'>"
      ]
     },
     "execution_count": 31,
     "metadata": {},
     "output_type": "execute_result"
    },
    {
     "data": {
      "text/plain": [
       "<Figure size 640x480 with 1 Axes>"
      ],
      "image/png": "[encoded data removed]"
     },
     "metadata": {},
     "output_type": "display_data"
    }
   ],
   "execution_count": 31
  },
  {
   "metadata": {},
   "cell_type": "markdown",
   "source": "### Visualize the Price",
   "id": "cfc67f286da85c03"
  },
  {
   "metadata": {
    "ExecuteTime": {
     "end_time": "2025-02-27T01:05:49.014273Z",
     "start_time": "2025-02-27T01:05:48.820600Z"
    }
   },
   "cell_type": "code",
   "source": "sns.distplot(df_train['Price'])",
   "id": "5d2bfc4dc2d723b1",
   "outputs": [
    {
     "data": {
      "text/plain": [
       "<Axes: xlabel='Price', ylabel='Density'>"
      ]
     },
     "execution_count": 32,
     "metadata": {},
     "output_type": "execute_result"
    },
    {
     "data": {
      "text/plain": [
       "<Figure size 640x480 with 1 Axes>"
      ],
      "image/png": "[encoded data removed]"
     },
     "metadata": {},
     "output_type": "display_data"
    }
   ],
   "execution_count": 32
  },
  {
   "metadata": {
    "ExecuteTime": {
     "end_time": "2025-02-27T01:05:56.715644Z",
     "start_time": "2025-02-27T01:05:56.528764Z"
    }
   },
   "cell_type": "code",
   "source": "sns.distplot(np.log(df_train['Price']))",
   "id": "e6253826d517d477",
   "outputs": [
    {
     "data": {
      "text/plain": [
       "<Axes: xlabel='Price', ylabel='Density'>"
      ]
     },
     "execution_count": 33,
     "metadata": {},
     "output_type": "execute_result"
    },
    {
     "data": {
      "text/plain": [
       "<Figure size 640x480 with 1 Axes>"
      ],
      "image/png": "[encoded data removed]"
     },
     "metadata": {},
     "output_type": "display_data"
    }
   ],
   "execution_count": 33
  },
  {
   "metadata": {
    "ExecuteTime": {
     "end_time": "2025-02-27T01:06:25.309513Z",
     "start_time": "2025-02-27T01:06:25.298570Z"
    }
   },
   "cell_type": "code",
   "source": "df_train.info()",
   "id": "69f619a8dffe2761",
   "outputs": [
    {
     "name": "stdout",
     "output_type": "stream",
     "text": [
      "<class 'pandas.core.frame.DataFrame'>\n",
      "RangeIndex: 823 entries, 0 to 822\n",
      "Data columns (total 15 columns):\n",
      " #   Column           Non-Null Count  Dtype \n",
      "---  ------           --------------  ----- \n",
      " 0   brand            823 non-null    object\n",
      " 1   processor_brand  823 non-null    object\n",
      " 2   processor_name   823 non-null    object\n",
      " 3   processor_gnrtn  823 non-null    int64 \n",
      " 4   ram_gb           823 non-null    int32 \n",
      " 5   ram_type         823 non-null    object\n",
      " 6   ssd              823 non-null    int32 \n",
      " 7   hdd              823 non-null    int32 \n",
      " 8   os               823 non-null    object\n",
      " 9   os_bit           823 non-null    int32 \n",
      " 10  graphic_card_gb  823 non-null    int32 \n",
      " 11  weight           823 non-null    object\n",
      " 12  warranty         823 non-null    object\n",
      " 13  Touchscreen      823 non-null    object\n",
      " 14  Price            823 non-null    int64 \n",
      "dtypes: int32(5), int64(2), object(8)\n",
      "memory usage: 80.5+ KB\n"
     ]
    }
   ],
   "execution_count": 34
  },
  {
   "metadata": {
    "ExecuteTime": {
     "end_time": "2025-02-27T01:06:38.418850Z",
     "start_time": "2025-02-27T01:06:38.080386Z"
    }
   },
   "cell_type": "code",
   "source": [
    "numeric_df = df_train.select_dtypes(include=['number'])\n",
    "sns.heatmap(numeric_df.corr(), annot=True)"
   ],
   "id": "e68c52975234fc19",
   "outputs": [
    {
     "data": {
      "text/plain": [
       "<Axes: >"
      ]
     },
     "execution_count": 35,
     "metadata": {},
     "output_type": "execute_result"
    },
    {
     "data": {
      "text/plain": [
       "<Figure size 640x480 with 2 Axes>"
      ],
      "image/png": "[encoded data removed]"
     },
     "metadata": {},
     "output_type": "display_data"
    }
   ],
   "execution_count": 35
  },
  {
   "metadata": {},
   "cell_type": "markdown",
   "source": "## 4. Final data preps",
   "id": "58f4956a070fa54c"
  },
  {
   "metadata": {
    "ExecuteTime": {
     "end_time": "2025-02-27T01:08:55.185699Z",
     "start_time": "2025-02-27T01:08:55.179905Z"
    }
   },
   "cell_type": "code",
   "source": [
    "x = df_train.drop(['Price'], axis=1)\n",
    "y = np.log(df_train['Price'])"
   ],
   "id": "1ee4c784821bdef",
   "outputs": [],
   "execution_count": 37
  },
  {
   "metadata": {
    "ExecuteTime": {
     "end_time": "2025-02-27T01:09:16.847321Z",
     "start_time": "2025-02-27T01:09:16.839134Z"
    }
   },
   "cell_type": "code",
   "source": [
    "X_train, X_test, y_train, y_test = train_test_split(x, y, test_size=0.15, random_state=8418)\n",
    "X_train.shape, X_test.shape"
   ],
   "id": "e1cbe4a194694d2b",
   "outputs": [
    {
     "data": {
      "text/plain": [
       "((699, 14), (124, 14))"
      ]
     },
     "execution_count": 38,
     "metadata": {},
     "output_type": "execute_result"
    }
   ],
   "execution_count": 38
  },
  {
   "metadata": {
    "ExecuteTime": {
     "end_time": "2025-02-27T01:09:22.902062Z",
     "start_time": "2025-02-27T01:09:22.895405Z"
    }
   },
   "cell_type": "code",
   "source": [
    "mapper = {i:value for i,value in enumerate(X_train.columns)}\n",
    "mapper"
   ],
   "id": "6cdfc4c40ef08bc0",
   "outputs": [
    {
     "data": {
      "text/plain": [
       "{0: 'brand',\n",
       " 1: 'processor_brand',\n",
       " 2: 'processor_name',\n",
       " 3: 'processor_gnrtn',\n",
       " 4: 'ram_gb',\n",
       " 5: 'ram_type',\n",
       " 6: 'ssd',\n",
       " 7: 'hdd',\n",
       " 8: 'os',\n",
       " 9: 'os_bit',\n",
       " 10: 'graphic_card_gb',\n",
       " 11: 'weight',\n",
       " 12: 'warranty',\n",
       " 13: 'Touchscreen'}"
      ]
     },
     "execution_count": 39,
     "metadata": {},
     "output_type": "execute_result"
    }
   ],
   "execution_count": 39
  },
  {
   "metadata": {
    "ExecuteTime": {
     "end_time": "2025-02-27T01:09:29.680644Z",
     "start_time": "2025-02-27T01:09:29.667886Z"
    }
   },
   "cell_type": "code",
   "source": "df_train.head()",
   "id": "149e4bb0eef891b6",
   "outputs": [
    {
     "data": {
      "text/plain": [
       "    brand processor_brand processor_name  processor_gnrtn  ram_gb ram_type  \\\n",
       "0    ASUS           Intel        Core i3               10       4     DDR4   \n",
       "1  Lenovo           Intel        Core i3               10       4     DDR4   \n",
       "2  Lenovo           Intel        Core i3               10       4     DDR4   \n",
       "3    ASUS           Intel        Core i5               10       8     DDR4   \n",
       "4    ASUS           Intel   Celeron Dual               11       4     DDR4   \n",
       "\n",
       "   ssd   hdd       os  os_bit  graphic_card_gb  weight     warranty  \\\n",
       "0    0  1024  Windows      64                0  Casual  No warranty   \n",
       "1    0  1024  Windows      64                0  Casual  No warranty   \n",
       "2    0  1024  Windows      64                0  Casual  No warranty   \n",
       "3  512     0  Windows      32                2  Casual  No warranty   \n",
       "4    0   512  Windows      64                0  Casual  No warranty   \n",
       "\n",
       "  Touchscreen  Price  \n",
       "0          No  34649  \n",
       "1          No  38999  \n",
       "2          No  39999  \n",
       "3          No  69990  \n",
       "4          No  26990  "
      ],
      "text/html": [
       "<div>\n",
       "<style scoped>\n",
       "    .dataframe tbody tr th:only-of-type {\n",
       "        vertical-align: middle;\n",
       "    }\n",
       "\n",
       "    .dataframe tbody tr th {\n",
       "        vertical-align: top;\n",
       "    }\n",
       "\n",
       "    .dataframe thead th {\n",
       "        text-align: right;\n",
       "    }\n",
       "</style>\n",
       "<table border=\"1\" class=\"dataframe\">\n",
       "  <thead>\n",
       "    <tr style=\"text-align: right;\">\n",
       "      <th></th>\n",
       "      <th>brand</th>\n",
       "      <th>processor_brand</th>\n",
       "      <th>processor_name</th>\n",
       "      <th>processor_gnrtn</th>\n",
       "      <th>ram_gb</th>\n",
       "      <th>ram_type</th>\n",
       "      <th>ssd</th>\n",
       "      <th>hdd</th>\n",
       "      <th>os</th>\n",
       "      <th>os_bit</th>\n",
       "      <th>graphic_card_gb</th>\n",
       "      <th>weight</th>\n",
       "      <th>warranty</th>\n",
       "      <th>Touchscreen</th>\n",
       "      <th>Price</th>\n",
       "    </tr>\n",
       "  </thead>\n",
       "  <tbody>\n",
       "    <tr>\n",
       "      <th>0</th>\n",
       "      <td>ASUS</td>\n",
       "      <td>Intel</td>\n",
       "      <td>Core i3</td>\n",
       "      <td>10</td>\n",
       "      <td>4</td>\n",
       "      <td>DDR4</td>\n",
       "      <td>0</td>\n",
       "      <td>1024</td>\n",
       "      <td>Windows</td>\n",
       "      <td>64</td>\n",
       "      <td>0</td>\n",
       "      <td>Casual</td>\n",
       "      <td>No warranty</td>\n",
       "      <td>No</td>\n",
       "      <td>34649</td>\n",
       "    </tr>\n",
       "    <tr>\n",
       "      <th>1</th>\n",
       "      <td>Lenovo</td>\n",
       "      <td>Intel</td>\n",
       "      <td>Core i3</td>\n",
       "      <td>10</td>\n",
       "      <td>4</td>\n",
       "      <td>DDR4</td>\n",
       "      <td>0</td>\n",
       "      <td>1024</td>\n",
       "      <td>Windows</td>\n",
       "      <td>64</td>\n",
       "      <td>0</td>\n",
       "      <td>Casual</td>\n",
       "      <td>No warranty</td>\n",
       "      <td>No</td>\n",
       "      <td>38999</td>\n",
       "    </tr>\n",
       "    <tr>\n",
       "      <th>2</th>\n",
       "      <td>Lenovo</td>\n",
       "      <td>Intel</td>\n",
       "      <td>Core i3</td>\n",
       "      <td>10</td>\n",
       "      <td>4</td>\n",
       "      <td>DDR4</td>\n",
       "      <td>0</td>\n",
       "      <td>1024</td>\n",
       "      <td>Windows</td>\n",
       "      <td>64</td>\n",
       "      <td>0</td>\n",
       "      <td>Casual</td>\n",
       "      <td>No warranty</td>\n",
       "      <td>No</td>\n",
       "      <td>39999</td>\n",
       "    </tr>\n",
       "    <tr>\n",
       "      <th>3</th>\n",
       "      <td>ASUS</td>\n",
       "      <td>Intel</td>\n",
       "      <td>Core i5</td>\n",
       "      <td>10</td>\n",
       "      <td>8</td>\n",
       "      <td>DDR4</td>\n",
       "      <td>512</td>\n",
       "      <td>0</td>\n",
       "      <td>Windows</td>\n",
       "      <td>32</td>\n",
       "      <td>2</td>\n",
       "      <td>Casual</td>\n",
       "      <td>No warranty</td>\n",
       "      <td>No</td>\n",
       "      <td>69990</td>\n",
       "    </tr>\n",
       "    <tr>\n",
       "      <th>4</th>\n",
       "      <td>ASUS</td>\n",
       "      <td>Intel</td>\n",
       "      <td>Celeron Dual</td>\n",
       "      <td>11</td>\n",
       "      <td>4</td>\n",
       "      <td>DDR4</td>\n",
       "      <td>0</td>\n",
       "      <td>512</td>\n",
       "      <td>Windows</td>\n",
       "      <td>64</td>\n",
       "      <td>0</td>\n",
       "      <td>Casual</td>\n",
       "      <td>No warranty</td>\n",
       "      <td>No</td>\n",
       "      <td>26990</td>\n",
       "    </tr>\n",
       "  </tbody>\n",
       "</table>\n",
       "</div>"
      ]
     },
     "execution_count": 40,
     "metadata": {},
     "output_type": "execute_result"
    }
   ],
   "execution_count": 40
  },
  {
   "metadata": {
    "ExecuteTime": {
     "end_time": "2025-02-27T01:09:43.745733Z",
     "start_time": "2025-02-27T01:09:43.734819Z"
    }
   },
   "cell_type": "code",
   "source": "df_train.info()",
   "id": "8c41b7092bd771c4",
   "outputs": [
    {
     "name": "stdout",
     "output_type": "stream",
     "text": [
      "<class 'pandas.core.frame.DataFrame'>\n",
      "RangeIndex: 823 entries, 0 to 822\n",
      "Data columns (total 15 columns):\n",
      " #   Column           Non-Null Count  Dtype \n",
      "---  ------           --------------  ----- \n",
      " 0   brand            823 non-null    object\n",
      " 1   processor_brand  823 non-null    object\n",
      " 2   processor_name   823 non-null    object\n",
      " 3   processor_gnrtn  823 non-null    int64 \n",
      " 4   ram_gb           823 non-null    int32 \n",
      " 5   ram_type         823 non-null    object\n",
      " 6   ssd              823 non-null    int32 \n",
      " 7   hdd              823 non-null    int32 \n",
      " 8   os               823 non-null    object\n",
      " 9   os_bit           823 non-null    int32 \n",
      " 10  graphic_card_gb  823 non-null    int32 \n",
      " 11  weight           823 non-null    object\n",
      " 12  warranty         823 non-null    object\n",
      " 13  Touchscreen      823 non-null    object\n",
      " 14  Price            823 non-null    int64 \n",
      "dtypes: int32(5), int64(2), object(8)\n",
      "memory usage: 80.5+ KB\n"
     ]
    }
   ],
   "execution_count": 41
  },
  {
   "metadata": {},
   "cell_type": "markdown",
   "source": "## 5.1 Test Linear Regression method",
   "id": "4b87cdff5505a30"
  },
  {
   "metadata": {
    "ExecuteTime": {
     "end_time": "2025-02-27T01:11:39.064204Z",
     "start_time": "2025-02-27T01:11:39.036585Z"
    }
   },
   "cell_type": "code",
   "source": [
    "encoding = ColumnTransformer(transformers = [\n",
    "    ('col_tnf', OneHotEncoder(sparse_output=False, drop='first'), [0, 1, 2, 5, 8, 11, 12, 13])\n",
    "], remainder='passthrough')\n",
    "\n",
    "lr = LinearRegression()\n",
    "\n",
    "pipe = Pipeline([\n",
    "    ('encoding', encoding),\n",
    "    ('lr', lr)\n",
    "])\n",
    "\n",
    "pipe.fit(X_train, y_train)\n",
    "\n",
    "y_pred = pipe.predict(X_test)\n",
    "\n",
    "print('R2 score',metrics.r2_score(y_test,y_pred))\n",
    "print('MAE',metrics.mean_absolute_error(y_test,y_pred))\n",
    "print(\"MAE on the orig price: \", np.exp(metrics.mean_absolute_error(y_test,y_pred)))"
   ],
   "id": "78f40ead6acd9fde",
   "outputs": [
    {
     "name": "stdout",
     "output_type": "stream",
     "text": [
      "R2 score 0.8509808026096805\n",
      "MAE 0.14356278102642966\n",
      "MAE on the orig price:  1.154379281648378\n"
     ]
    }
   ],
   "execution_count": 45
  },
  {
   "metadata": {},
   "cell_type": "markdown",
   "source": "## 5.2 Test Lasso Regression",
   "id": "5ed4088deb306a6b"
  },
  {
   "metadata": {
    "ExecuteTime": {
     "end_time": "2025-02-27T01:12:48.022605Z",
     "start_time": "2025-02-27T01:12:47.995894Z"
    }
   },
   "cell_type": "code",
   "source": [
    "encoding = ColumnTransformer(transformers = [\n",
    "    ('col_tnf', OneHotEncoder(sparse_output=False, drop='first'), [0, 1, 2, 5, 8, 11, 12, 13])\n",
    "], remainder='passthrough')\n",
    "\n",
    "lasso = Lasso(alpha=0.001)\n",
    "\n",
    "pipe = Pipeline([\n",
    "    ('encoding', encoding),\n",
    "    ('lasso', lasso)\n",
    "])\n",
    "\n",
    "pipe.fit(X_train, y_train)\n",
    "\n",
    "y_pred = pipe.predict(X_test)\n",
    "\n",
    "print('R2 score',metrics.r2_score(y_test,y_pred))\n",
    "print('MAE',metrics.mean_absolute_error(y_test,y_pred))\n",
    "print(\"MAE on the orig price: \", np.exp(metrics.mean_absolute_error(y_test,y_pred)))"
   ],
   "id": "f27b3a65dfacaab5",
   "outputs": [
    {
     "name": "stdout",
     "output_type": "stream",
     "text": [
      "R2 score 0.8227381157196224\n",
      "MAE 0.15846844070149596\n",
      "MAE on the orig price:  1.1717149451399707\n"
     ]
    }
   ],
   "execution_count": 47
  },
  {
   "metadata": {},
   "cell_type": "markdown",
   "source": "## 5.3. Decision Tree",
   "id": "9df6983e67977e66"
  },
  {
   "metadata": {
    "ExecuteTime": {
     "end_time": "2025-02-27T01:13:22.779077Z",
     "start_time": "2025-02-27T01:13:22.757557Z"
    }
   },
   "cell_type": "code",
   "source": [
    "encoding = ColumnTransformer(transformers = [\n",
    "    ('col_tnf', OneHotEncoder(sparse_output=False, drop='first'), [0, 1, 2, 5, 8, 11, 12, 13])\n",
    "], remainder='passthrough')\n",
    "\n",
    "dtr = DecisionTreeRegressor(max_depth=8)\n",
    "\n",
    "pipe = Pipeline([\n",
    "    ('encoding', encoding),\n",
    "    ('dtr', dtr)\n",
    "])\n",
    "\n",
    "pipe.fit(X_train, y_train)\n",
    "\n",
    "y_pred = pipe.predict(X_test)\n",
    "\n",
    "print('R2 score',metrics.r2_score(y_test,y_pred))\n",
    "print('MAE',metrics.mean_absolute_error(y_test,y_pred))\n",
    "print(\"MAE on the orig price: \", np.exp(metrics.mean_absolute_error(y_test,y_pred)))"
   ],
   "id": "3a4ecfd64c342471",
   "outputs": [
    {
     "name": "stdout",
     "output_type": "stream",
     "text": [
      "R2 score 0.7762811960635183\n",
      "MAE 0.17680865636048554\n",
      "MAE on the orig price:  1.1934027212589913\n"
     ]
    }
   ],
   "execution_count": 48
  },
  {
   "metadata": {},
   "cell_type": "markdown",
   "source": "## 5.4. Random Forest",
   "id": "5c6d4b7d4009d6ba"
  },
  {
   "metadata": {
    "ExecuteTime": {
     "end_time": "2025-02-27T01:14:04.431459Z",
     "start_time": "2025-02-27T01:14:04.214644Z"
    }
   },
   "cell_type": "code",
   "source": [
    "encoding = ColumnTransformer(transformers = [\n",
    "    ('col_tnf', OneHotEncoder(sparse_output=False, drop='first'), [0, 1, 2, 5, 8, 11, 12, 13])\n",
    "], remainder='passthrough')\n",
    "\n",
    "random = RandomForestRegressor(n_estimators=100,\n",
    "                              random_state=3,\n",
    "                              max_samples=0.5,\n",
    "                              max_features=0.75,\n",
    "                              max_depth=15)\n",
    "\n",
    "pipe = Pipeline([\n",
    "    ('encoding', encoding),\n",
    "    ('random', random)\n",
    "])\n",
    "\n",
    "pipe.fit(X_train, y_train)\n",
    "\n",
    "y_pred = pipe.predict(X_test)\n",
    "\n",
    "print('R2 score',metrics.r2_score(y_test,y_pred))\n",
    "print('MAE',metrics.mean_absolute_error(y_test,y_pred))\n",
    "print(\"MAE on the orig price:\", np.exp(metrics.mean_absolute_error(y_test,y_pred)))"
   ],
   "id": "f056213410d9dc47",
   "outputs": [
    {
     "name": "stdout",
     "output_type": "stream",
     "text": [
      "R2 score 0.8583367845839139\n",
      "MAE 0.14201903920592035\n",
      "MAE on the orig price: 1.1525985928900564\n"
     ]
    }
   ],
   "execution_count": 50
  },
  {
   "metadata": {},
   "cell_type": "markdown",
   "source": "## 5.4.1 You can also tune hyperparameters of Random Forest",
   "id": "41ee2f5e3e0f5f7f"
  },
  {
   "metadata": {
    "ExecuteTime": {
     "end_time": "2025-02-27T01:16:08.557599Z",
     "start_time": "2025-02-27T01:16:08.550913Z"
    }
   },
   "cell_type": "code",
   "source": [
    "indexlist = [0, 1, 2, 5, 8, 11, 12, 13]\n",
    "transformlist = []\n",
    "for key,value in mapper.items():\n",
    "    if key in indexlist:\n",
    "        transformlist.append(value)\n",
    "        \n",
    "transformlist"
   ],
   "id": "fe45525a6f07832d",
   "outputs": [
    {
     "data": {
      "text/plain": [
       "['brand',\n",
       " 'processor_brand',\n",
       " 'processor_name',\n",
       " 'ram_type',\n",
       " 'os',\n",
       " 'weight',\n",
       " 'warranty',\n",
       " 'Touchscreen']"
      ]
     },
     "execution_count": 51,
     "metadata": {},
     "output_type": "execute_result"
    }
   ],
   "execution_count": 51
  },
  {
   "metadata": {
    "ExecuteTime": {
     "end_time": "2025-02-27T01:16:09.783185Z",
     "start_time": "2025-02-27T01:16:09.759078Z"
    }
   },
   "cell_type": "code",
   "source": [
    "x = pd.get_dummies(x,columns=transformlist,drop_first=True)\n",
    "x.head()"
   ],
   "id": "527c3f20a1435aab",
   "outputs": [
    {
     "data": {
      "text/plain": [
       "   processor_gnrtn  ram_gb  ssd   hdd  os_bit  graphic_card_gb  brand_ASUS  \\\n",
       "0               10       4    0  1024      64                0        True   \n",
       "1               10       4    0  1024      64                0       False   \n",
       "2               10       4    0  1024      64                0       False   \n",
       "3               10       8  512     0      32                2        True   \n",
       "4               11       4    0   512      64                0        True   \n",
       "\n",
       "   brand_Avita  brand_DELL  brand_HP  ...  ram_type_LPDDR4  ram_type_LPDDR4X  \\\n",
       "0        False       False     False  ...            False             False   \n",
       "1        False       False     False  ...            False             False   \n",
       "2        False       False     False  ...            False             False   \n",
       "3        False       False     False  ...            False             False   \n",
       "4        False       False     False  ...            False             False   \n",
       "\n",
       "   os_Mac  os_Windows  weight_Gaming  weight_ThinNlight  warranty_2   \\\n",
       "0   False        True          False              False        False   \n",
       "1   False        True          False              False        False   \n",
       "2   False        True          False              False        False   \n",
       "3   False        True          False              False        False   \n",
       "4   False        True          False              False        False   \n",
       "\n",
       "   warranty_3   warranty_No warranty  Touchscreen_Yes  \n",
       "0        False                  True            False  \n",
       "1        False                  True            False  \n",
       "2        False                  True            False  \n",
       "3        False                  True            False  \n",
       "4        False                  True            False  \n",
       "\n",
       "[5 rows x 38 columns]"
      ],
      "text/html": [
       "<div>\n",
       "<style scoped>\n",
       "    .dataframe tbody tr th:only-of-type {\n",
       "        vertical-align: middle;\n",
       "    }\n",
       "\n",
       "    .dataframe tbody tr th {\n",
       "        vertical-align: top;\n",
       "    }\n",
       "\n",
       "    .dataframe thead th {\n",
       "        text-align: right;\n",
       "    }\n",
       "</style>\n",
       "<table border=\"1\" class=\"dataframe\">\n",
       "  <thead>\n",
       "    <tr style=\"text-align: right;\">\n",
       "      <th></th>\n",
       "      <th>processor_gnrtn</th>\n",
       "      <th>ram_gb</th>\n",
       "      <th>ssd</th>\n",
       "      <th>hdd</th>\n",
       "      <th>os_bit</th>\n",
       "      <th>graphic_card_gb</th>\n",
       "      <th>brand_ASUS</th>\n",
       "      <th>brand_Avita</th>\n",
       "      <th>brand_DELL</th>\n",
       "      <th>brand_HP</th>\n",
       "      <th>...</th>\n",
       "      <th>ram_type_LPDDR4</th>\n",
       "      <th>ram_type_LPDDR4X</th>\n",
       "      <th>os_Mac</th>\n",
       "      <th>os_Windows</th>\n",
       "      <th>weight_Gaming</th>\n",
       "      <th>weight_ThinNlight</th>\n",
       "      <th>warranty_2</th>\n",
       "      <th>warranty_3</th>\n",
       "      <th>warranty_No warranty</th>\n",
       "      <th>Touchscreen_Yes</th>\n",
       "    </tr>\n",
       "  </thead>\n",
       "  <tbody>\n",
       "    <tr>\n",
       "      <th>0</th>\n",
       "      <td>10</td>\n",
       "      <td>4</td>\n",
       "      <td>0</td>\n",
       "      <td>1024</td>\n",
       "      <td>64</td>\n",
       "      <td>0</td>\n",
       "      <td>True</td>\n",
       "      <td>False</td>\n",
       "      <td>False</td>\n",
       "      <td>False</td>\n",
       "      <td>...</td>\n",
       "      <td>False</td>\n",
       "      <td>False</td>\n",
       "      <td>False</td>\n",
       "      <td>True</td>\n",
       "      <td>False</td>\n",
       "      <td>False</td>\n",
       "      <td>False</td>\n",
       "      <td>False</td>\n",
       "      <td>True</td>\n",
       "      <td>False</td>\n",
       "    </tr>\n",
       "    <tr>\n",
       "      <th>1</th>\n",
       "      <td>10</td>\n",
       "      <td>4</td>\n",
       "      <td>0</td>\n",
       "      <td>1024</td>\n",
       "      <td>64</td>\n",
       "      <td>0</td>\n",
       "      <td>False</td>\n",
       "      <td>False</td>\n",
       "      <td>False</td>\n",
       "      <td>False</td>\n",
       "      <td>...</td>\n",
       "      <td>False</td>\n",
       "      <td>False</td>\n",
       "      <td>False</td>\n",
       "      <td>True</td>\n",
       "      <td>False</td>\n",
       "      <td>False</td>\n",
       "      <td>False</td>\n",
       "      <td>False</td>\n",
       "      <td>True</td>\n",
       "      <td>False</td>\n",
       "    </tr>\n",
       "    <tr>\n",
       "      <th>2</th>\n",
       "      <td>10</td>\n",
       "      <td>4</td>\n",
       "      <td>0</td>\n",
       "      <td>1024</td>\n",
       "      <td>64</td>\n",
       "      <td>0</td>\n",
       "      <td>False</td>\n",
       "      <td>False</td>\n",
       "      <td>False</td>\n",
       "      <td>False</td>\n",
       "      <td>...</td>\n",
       "      <td>False</td>\n",
       "      <td>False</td>\n",
       "      <td>False</td>\n",
       "      <td>True</td>\n",
       "      <td>False</td>\n",
       "      <td>False</td>\n",
       "      <td>False</td>\n",
       "      <td>False</td>\n",
       "      <td>True</td>\n",
       "      <td>False</td>\n",
       "    </tr>\n",
       "    <tr>\n",
       "      <th>3</th>\n",
       "      <td>10</td>\n",
       "      <td>8</td>\n",
       "      <td>512</td>\n",
       "      <td>0</td>\n",
       "      <td>32</td>\n",
       "      <td>2</td>\n",
       "      <td>True</td>\n",
       "      <td>False</td>\n",
       "      <td>False</td>\n",
       "      <td>False</td>\n",
       "      <td>...</td>\n",
       "      <td>False</td>\n",
       "      <td>False</td>\n",
       "      <td>False</td>\n",
       "      <td>True</td>\n",
       "      <td>False</td>\n",
       "      <td>False</td>\n",
       "      <td>False</td>\n",
       "      <td>False</td>\n",
       "      <td>True</td>\n",
       "      <td>False</td>\n",
       "    </tr>\n",
       "    <tr>\n",
       "      <th>4</th>\n",
       "      <td>11</td>\n",
       "      <td>4</td>\n",
       "      <td>0</td>\n",
       "      <td>512</td>\n",
       "      <td>64</td>\n",
       "      <td>0</td>\n",
       "      <td>True</td>\n",
       "      <td>False</td>\n",
       "      <td>False</td>\n",
       "      <td>False</td>\n",
       "      <td>...</td>\n",
       "      <td>False</td>\n",
       "      <td>False</td>\n",
       "      <td>False</td>\n",
       "      <td>True</td>\n",
       "      <td>False</td>\n",
       "      <td>False</td>\n",
       "      <td>False</td>\n",
       "      <td>False</td>\n",
       "      <td>True</td>\n",
       "      <td>False</td>\n",
       "    </tr>\n",
       "  </tbody>\n",
       "</table>\n",
       "<p>5 rows × 38 columns</p>\n",
       "</div>"
      ]
     },
     "execution_count": 52,
     "metadata": {},
     "output_type": "execute_result"
    }
   ],
   "execution_count": 52
  },
  {
   "metadata": {
    "ExecuteTime": {
     "end_time": "2025-02-27T01:16:22.778927Z",
     "start_time": "2025-02-27T01:16:22.770006Z"
    }
   },
   "cell_type": "code",
   "source": [
    "X_train, X_test, y_train, y_test = train_test_split(x,y,\n",
    "                                                   test_size=0.15,random_state=4818)\n",
    "\n",
    "X_train.shape,X_test.shape"
   ],
   "id": "cba1e47cfd1e172",
   "outputs": [
    {
     "data": {
      "text/plain": [
       "((699, 38), (124, 38))"
      ]
     },
     "execution_count": 53,
     "metadata": {},
     "output_type": "execute_result"
    }
   ],
   "execution_count": 53
  },
  {
   "metadata": {
    "ExecuteTime": {
     "end_time": "2025-02-27T01:19:16.408196Z",
     "start_time": "2025-02-27T01:19:16.404212Z"
    }
   },
   "cell_type": "code",
   "source": "rfr = RandomForestRegressor()",
   "id": "5b556d65b4c93eb1",
   "outputs": [],
   "execution_count": 56
  },
  {
   "metadata": {
    "ExecuteTime": {
     "end_time": "2025-02-27T01:19:21.233759Z",
     "start_time": "2025-02-27T01:19:21.229839Z"
    }
   },
   "cell_type": "code",
   "source": [
    "param_grid = { \n",
    "            \"n_estimators\"      : [10,20,30],\n",
    "            \"max_features\"      : [\"sqrt\", \"log2\"],\n",
    "            \"min_samples_split\" : [2,4,8],\n",
    "            \"bootstrap\": [True, False],\n",
    "            }"
   ],
   "id": "b30b280bc91fd07d",
   "outputs": [],
   "execution_count": 57
  },
  {
   "metadata": {
    "ExecuteTime": {
     "end_time": "2025-02-27T01:19:27.608971Z",
     "start_time": "2025-02-27T01:19:27.604668Z"
    }
   },
   "cell_type": "code",
   "source": "grid_search = GridSearchCV(rfr, param_grid, cv=5, scoring='r2')",
   "id": "656b5680769fdb6b",
   "outputs": [],
   "execution_count": 58
  },
  {
   "metadata": {
    "ExecuteTime": {
     "end_time": "2025-02-27T01:19:39.900022Z",
     "start_time": "2025-02-27T01:19:33.029520Z"
    }
   },
   "cell_type": "code",
   "source": "grid_search.fit(X_train,y_train)",
   "id": "a733722a831cdcb5",
   "outputs": [
    {
     "data": {
      "text/plain": [
       "GridSearchCV(cv=5, estimator=RandomForestRegressor(),\n",
       "             param_grid={'bootstrap': [True, False],\n",
       "                         'max_features': ['sqrt', 'log2'],\n",
       "                         'min_samples_split': [2, 4, 8],\n",
       "                         'n_estimators': [10, 20, 30]},\n",
       "             scoring='r2')"
      ],
      "text/html": [
       "<style>#sk-container-id-1 {\n",
       "  /* Definition of color scheme common for light and dark mode */\n",
       "  --sklearn-color-text: #000;\n",
       "  --sklearn-color-text-muted: #666;\n",
       "  --sklearn-color-line: gray;\n",
       "  /* Definition of color scheme for unfitted estimators */\n",
       "  --sklearn-color-unfitted-level-0: #fff5e6;\n",
       "  --sklearn-color-unfitted-level-1: #f6e4d2;\n",
       "  --sklearn-color-unfitted-level-2: #ffe0b3;\n",
       "  --sklearn-color-unfitted-level-3: chocolate;\n",
       "  /* Definition of color scheme for fitted estimators */\n",
       "  --sklearn-color-fitted-level-0: #f0f8ff;\n",
       "  --sklearn-color-fitted-level-1: #d4ebff;\n",
       "  --sklearn-color-fitted-level-2: #b3dbfd;\n",
       "  --sklearn-color-fitted-level-3: cornflowerblue;\n",
       "\n",
       "  /* Specific color for light theme */\n",
       "  --sklearn-color-text-on-default-background: var(--sg-text-color, var(--theme-code-foreground, var(--jp-content-font-color1, black)));\n",
       "  --sklearn-color-background: var(--sg-background-color, var(--theme-background, var(--jp-layout-color0, white)));\n",
       "  --sklearn-color-border-box: var(--sg-text-color, var(--theme-code-foreground, var(--jp-content-font-color1, black)));\n",
       "  --sklearn-color-icon: #696969;\n",
       "\n",
       "  @media (prefers-color-scheme: dark) {\n",
       "    /* Redefinition of color scheme for dark theme */\n",
       "    --sklearn-color-text-on-default-background: var(--sg-text-color, var(--theme-code-foreground, var(--jp-content-font-color1, white)));\n",
       "    --sklearn-color-background: var(--sg-background-color, var(--theme-background, var(--jp-layout-color0, #111)));\n",
       "    --sklearn-color-border-box: var(--sg-text-color, var(--theme-code-foreground, var(--jp-content-font-color1, white)));\n",
       "    --sklearn-color-icon: #878787;\n",
       "  }\n",
       "}\n",
       "\n",
       "#sk-container-id-1 {\n",
       "  color: var(--sklearn-color-text);\n",
       "}\n",
       "\n",
       "#sk-container-id-1 pre {\n",
       "  padding: 0;\n",
       "}\n",
       "\n",
       "#sk-container-id-1 input.sk-hidden--visually {\n",
       "  border: 0;\n",
       "  clip: rect(1px 1px 1px 1px);\n",
       "  clip: rect(1px, 1px, 1px, 1px);\n",
       "  height: 1px;\n",
       "  margin: -1px;\n",
       "  overflow: hidden;\n",
       "  padding: 0;\n",
       "  position: absolute;\n",
       "  width: 1px;\n",
       "}\n",
       "\n",
       "#sk-container-id-1 div.sk-dashed-wrapped {\n",
       "  border: 1px dashed var(--sklearn-color-line);\n",
       "  margin: 0 0.4em 0.5em 0.4em;\n",
       "  box-sizing: border-box;\n",
       "  padding-bottom: 0.4em;\n",
       "  background-color: var(--sklearn-color-background);\n",
       "}\n",
       "\n",
       "#sk-container-id-1 div.sk-container {\n",
       "  /* jupyter's `normalize.less` sets `[hidden] { display: none; }`\n",
       "     but bootstrap.min.css set `[hidden] { display: none !important; }`\n",
       "     so we also need the `!important` here to be able to override the\n",
       "     default hidden behavior on the sphinx rendered scikit-learn.org.\n",
       "     See: https://github.com/scikit-learn/scikit-learn/issues/21755 */\n",
       "  display: inline-block !important;\n",
       "  position: relative;\n",
       "}\n",
       "\n",
       "#sk-container-id-1 div.sk-text-repr-fallback {\n",
       "  display: none;\n",
       "}\n",
       "\n",
       "div.sk-parallel-item,\n",
       "div.sk-serial,\n",
       "div.sk-item {\n",
       "  /* draw centered vertical line to link estimators */\n",
       "  background-image: linear-gradient(var(--sklearn-color-text-on-default-background), var(--sklearn-color-text-on-default-background));\n",
       "  background-size: 2px 100%;\n",
       "  background-repeat: no-repeat;\n",
       "  background-position: center center;\n",
       "}\n",
       "\n",
       "/* Parallel-specific style estimator block */\n",
       "\n",
       "#sk-container-id-1 div.sk-parallel-item::after {\n",
       "  content: \"\";\n",
       "  width: 100%;\n",
       "  border-bottom: 2px solid var(--sklearn-color-text-on-default-background);\n",
       "  flex-grow: 1;\n",
       "}\n",
       "\n",
       "#sk-container-id-1 div.sk-parallel {\n",
       "  display: flex;\n",
       "  align-items: stretch;\n",
       "  justify-content: center;\n",
       "  background-color: var(--sklearn-color-background);\n",
       "  position: relative;\n",
       "}\n",
       "\n",
       "#sk-container-id-1 div.sk-parallel-item {\n",
       "  display: flex;\n",
       "  flex-direction: column;\n",
       "}\n",
       "\n",
       "#sk-container-id-1 div.sk-parallel-item:first-child::after {\n",
       "  align-self: flex-end;\n",
       "  width: 50%;\n",
       "}\n",
       "\n",
       "#sk-container-id-1 div.sk-parallel-item:last-child::after {\n",
       "  align-self: flex-start;\n",
       "  width: 50%;\n",
       "}\n",
       "\n",
       "#sk-container-id-1 div.sk-parallel-item:only-child::after {\n",
       "  width: 0;\n",
       "}\n",
       "\n",
       "/* Serial-specific style estimator block */\n",
       "\n",
       "#sk-container-id-1 div.sk-serial {\n",
       "  display: flex;\n",
       "  flex-direction: column;\n",
       "  align-items: center;\n",
       "  background-color: var(--sklearn-color-background);\n",
       "  padding-right: 1em;\n",
       "  padding-left: 1em;\n",
       "}\n",
       "\n",
       "\n",
       "/* Toggleable style: style used for estimator/Pipeline/ColumnTransformer box that is\n",
       "clickable and can be expanded/collapsed.\n",
       "- Pipeline and ColumnTransformer use this feature and define the default style\n",
       "- Estimators will overwrite some part of the style using the `sk-estimator` class\n",
       "*/\n",
       "\n",
       "/* Pipeline and ColumnTransformer style (default) */\n",
       "\n",
       "#sk-container-id-1 div.sk-toggleable {\n",
       "  /* Default theme specific background. It is overwritten whether we have a\n",
       "  specific estimator or a Pipeline/ColumnTransformer */\n",
       "  background-color: var(--sklearn-color-background);\n",
       "}\n",
       "\n",
       "/* Toggleable label */\n",
       "#sk-container-id-1 label.sk-toggleable__label {\n",
       "  cursor: pointer;\n",
       "  display: flex;\n",
       "  width: 100%;\n",
       "  margin-bottom: 0;\n",
       "  padding: 0.5em;\n",
       "  box-sizing: border-box;\n",
       "  text-align: center;\n",
       "  align-items: start;\n",
       "  justify-content: space-between;\n",
       "  gap: 0.5em;\n",
       "}\n",
       "\n",
       "#sk-container-id-1 label.sk-toggleable__label .caption {\n",
       "  font-size: 0.6rem;\n",
       "  font-weight: lighter;\n",
       "  color: var(--sklearn-color-text-muted);\n",
       "}\n",
       "\n",
       "#sk-container-id-1 label.sk-toggleable__label-arrow:before {\n",
       "  /* Arrow on the left of the label */\n",
       "  content: \"▸\";\n",
       "  float: left;\n",
       "  margin-right: 0.25em;\n",
       "  color: var(--sklearn-color-icon);\n",
       "}\n",
       "\n",
       "#sk-container-id-1 label.sk-toggleable__label-arrow:hover:before {\n",
       "  color: var(--sklearn-color-text);\n",
       "}\n",
       "\n",
       "/* Toggleable content - dropdown */\n",
       "\n",
       "#sk-container-id-1 div.sk-toggleable__content {\n",
       "  max-height: 0;\n",
       "  max-width: 0;\n",
       "  overflow: hidden;\n",
       "  text-align: left;\n",
       "  /* unfitted */\n",
       "  background-color: var(--sklearn-color-unfitted-level-0);\n",
       "}\n",
       "\n",
       "#sk-container-id-1 div.sk-toggleable__content.fitted {\n",
       "  /* fitted */\n",
       "  background-color: var(--sklearn-color-fitted-level-0);\n",
       "}\n",
       "\n",
       "#sk-container-id-1 div.sk-toggleable__content pre {\n",
       "  margin: 0.2em;\n",
       "  border-radius: 0.25em;\n",
       "  color: var(--sklearn-color-text);\n",
       "  /* unfitted */\n",
       "  background-color: var(--sklearn-color-unfitted-level-0);\n",
       "}\n",
       "\n",
       "#sk-container-id-1 div.sk-toggleable__content.fitted pre {\n",
       "  /* unfitted */\n",
       "  background-color: var(--sklearn-color-fitted-level-0);\n",
       "}\n",
       "\n",
       "#sk-container-id-1 input.sk-toggleable__control:checked~div.sk-toggleable__content {\n",
       "  /* Expand drop-down */\n",
       "  max-height: 200px;\n",
       "  max-width: 100%;\n",
       "  overflow: auto;\n",
       "}\n",
       "\n",
       "#sk-container-id-1 input.sk-toggleable__control:checked~label.sk-toggleable__label-arrow:before {\n",
       "  content: \"▾\";\n",
       "}\n",
       "\n",
       "/* Pipeline/ColumnTransformer-specific style */\n",
       "\n",
       "#sk-container-id-1 div.sk-label input.sk-toggleable__control:checked~label.sk-toggleable__label {\n",
       "  color: var(--sklearn-color-text);\n",
       "  background-color: var(--sklearn-color-unfitted-level-2);\n",
       "}\n",
       "\n",
       "#sk-container-id-1 div.sk-label.fitted input.sk-toggleable__control:checked~label.sk-toggleable__label {\n",
       "  background-color: var(--sklearn-color-fitted-level-2);\n",
       "}\n",
       "\n",
       "/* Estimator-specific style */\n",
       "\n",
       "/* Colorize estimator box */\n",
       "#sk-container-id-1 div.sk-estimator input.sk-toggleable__control:checked~label.sk-toggleable__label {\n",
       "  /* unfitted */\n",
       "  background-color: var(--sklearn-color-unfitted-level-2);\n",
       "}\n",
       "\n",
       "#sk-container-id-1 div.sk-estimator.fitted input.sk-toggleable__control:checked~label.sk-toggleable__label {\n",
       "  /* fitted */\n",
       "  background-color: var(--sklearn-color-fitted-level-2);\n",
       "}\n",
       "\n",
       "#sk-container-id-1 div.sk-label label.sk-toggleable__label,\n",
       "#sk-container-id-1 div.sk-label label {\n",
       "  /* The background is the default theme color */\n",
       "  color: var(--sklearn-color-text-on-default-background);\n",
       "}\n",
       "\n",
       "/* On hover, darken the color of the background */\n",
       "#sk-container-id-1 div.sk-label:hover label.sk-toggleable__label {\n",
       "  color: var(--sklearn-color-text);\n",
       "  background-color: var(--sklearn-color-unfitted-level-2);\n",
       "}\n",
       "\n",
       "/* Label box, darken color on hover, fitted */\n",
       "#sk-container-id-1 div.sk-label.fitted:hover label.sk-toggleable__label.fitted {\n",
       "  color: var(--sklearn-color-text);\n",
       "  background-color: var(--sklearn-color-fitted-level-2);\n",
       "}\n",
       "\n",
       "/* Estimator label */\n",
       "\n",
       "#sk-container-id-1 div.sk-label label {\n",
       "  font-family: monospace;\n",
       "  font-weight: bold;\n",
       "  display: inline-block;\n",
       "  line-height: 1.2em;\n",
       "}\n",
       "\n",
       "#sk-container-id-1 div.sk-label-container {\n",
       "  text-align: center;\n",
       "}\n",
       "\n",
       "/* Estimator-specific */\n",
       "#sk-container-id-1 div.sk-estimator {\n",
       "  font-family: monospace;\n",
       "  border: 1px dotted var(--sklearn-color-border-box);\n",
       "  border-radius: 0.25em;\n",
       "  box-sizing: border-box;\n",
       "  margin-bottom: 0.5em;\n",
       "  /* unfitted */\n",
       "  background-color: var(--sklearn-color-unfitted-level-0);\n",
       "}\n",
       "\n",
       "#sk-container-id-1 div.sk-estimator.fitted {\n",
       "  /* fitted */\n",
       "  background-color: var(--sklearn-color-fitted-level-0);\n",
       "}\n",
       "\n",
       "/* on hover */\n",
       "#sk-container-id-1 div.sk-estimator:hover {\n",
       "  /* unfitted */\n",
       "  background-color: var(--sklearn-color-unfitted-level-2);\n",
       "}\n",
       "\n",
       "#sk-container-id-1 div.sk-estimator.fitted:hover {\n",
       "  /* fitted */\n",
       "  background-color: var(--sklearn-color-fitted-level-2);\n",
       "}\n",
       "\n",
       "/* Specification for estimator info (e.g. \"i\" and \"?\") */\n",
       "\n",
       "/* Common style for \"i\" and \"?\" */\n",
       "\n",
       ".sk-estimator-doc-link,\n",
       "a:link.sk-estimator-doc-link,\n",
       "a:visited.sk-estimator-doc-link {\n",
       "  float: right;\n",
       "  font-size: smaller;\n",
       "  line-height: 1em;\n",
       "  font-family: monospace;\n",
       "  background-color: var(--sklearn-color-background);\n",
       "  border-radius: 1em;\n",
       "  height: 1em;\n",
       "  width: 1em;\n",
       "  text-decoration: none !important;\n",
       "  margin-left: 0.5em;\n",
       "  text-align: center;\n",
       "  /* unfitted */\n",
       "  border: var(--sklearn-color-unfitted-level-1) 1pt solid;\n",
       "  color: var(--sklearn-color-unfitted-level-1);\n",
       "}\n",
       "\n",
       ".sk-estimator-doc-link.fitted,\n",
       "a:link.sk-estimator-doc-link.fitted,\n",
       "a:visited.sk-estimator-doc-link.fitted {\n",
       "  /* fitted */\n",
       "  border: var(--sklearn-color-fitted-level-1) 1pt solid;\n",
       "  color: var(--sklearn-color-fitted-level-1);\n",
       "}\n",
       "\n",
       "/* On hover */\n",
       "div.sk-estimator:hover .sk-estimator-doc-link:hover,\n",
       ".sk-estimator-doc-link:hover,\n",
       "div.sk-label-container:hover .sk-estimator-doc-link:hover,\n",
       ".sk-estimator-doc-link:hover {\n",
       "  /* unfitted */\n",
       "  background-color: var(--sklearn-color-unfitted-level-3);\n",
       "  color: var(--sklearn-color-background);\n",
       "  text-decoration: none;\n",
       "}\n",
       "\n",
       "div.sk-estimator.fitted:hover .sk-estimator-doc-link.fitted:hover,\n",
       ".sk-estimator-doc-link.fitted:hover,\n",
       "div.sk-label-container:hover .sk-estimator-doc-link.fitted:hover,\n",
       ".sk-estimator-doc-link.fitted:hover {\n",
       "  /* fitted */\n",
       "  background-color: var(--sklearn-color-fitted-level-3);\n",
       "  color: var(--sklearn-color-background);\n",
       "  text-decoration: none;\n",
       "}\n",
       "\n",
       "/* Span, style for the box shown on hovering the info icon */\n",
       ".sk-estimator-doc-link span {\n",
       "  display: none;\n",
       "  z-index: 9999;\n",
       "  position: relative;\n",
       "  font-weight: normal;\n",
       "  right: .2ex;\n",
       "  padding: .5ex;\n",
       "  margin: .5ex;\n",
       "  width: min-content;\n",
       "  min-width: 20ex;\n",
       "  max-width: 50ex;\n",
       "  color: var(--sklearn-color-text);\n",
       "  box-shadow: 2pt 2pt 4pt #999;\n",
       "  /* unfitted */\n",
       "  background: var(--sklearn-color-unfitted-level-0);\n",
       "  border: .5pt solid var(--sklearn-color-unfitted-level-3);\n",
       "}\n",
       "\n",
       ".sk-estimator-doc-link.fitted span {\n",
       "  /* fitted */\n",
       "  background: var(--sklearn-color-fitted-level-0);\n",
       "  border: var(--sklearn-color-fitted-level-3);\n",
       "}\n",
       "\n",
       ".sk-estimator-doc-link:hover span {\n",
       "  display: block;\n",
       "}\n",
       "\n",
       "/* \"?\"-specific style due to the `<a>` HTML tag */\n",
       "\n",
       "#sk-container-id-1 a.estimator_doc_link {\n",
       "  float: right;\n",
       "  font-size: 1rem;\n",
       "  line-height: 1em;\n",
       "  font-family: monospace;\n",
       "  background-color: var(--sklearn-color-background);\n",
       "  border-radius: 1rem;\n",
       "  height: 1rem;\n",
       "  width: 1rem;\n",
       "  text-decoration: none;\n",
       "  /* unfitted */\n",
       "  color: var(--sklearn-color-unfitted-level-1);\n",
       "  border: var(--sklearn-color-unfitted-level-1) 1pt solid;\n",
       "}\n",
       "\n",
       "#sk-container-id-1 a.estimator_doc_link.fitted {\n",
       "  /* fitted */\n",
       "  border: var(--sklearn-color-fitted-level-1) 1pt solid;\n",
       "  color: var(--sklearn-color-fitted-level-1);\n",
       "}\n",
       "\n",
       "/* On hover */\n",
       "#sk-container-id-1 a.estimator_doc_link:hover {\n",
       "  /* unfitted */\n",
       "  background-color: var(--sklearn-color-unfitted-level-3);\n",
       "  color: var(--sklearn-color-background);\n",
       "  text-decoration: none;\n",
       "}\n",
       "\n",
       "#sk-container-id-1 a.estimator_doc_link.fitted:hover {\n",
       "  /* fitted */\n",
       "  background-color: var(--sklearn-color-fitted-level-3);\n",
       "}\n",
       "</style><div id=\"sk-container-id-1\" class=\"sk-top-container\"><div class=\"sk-text-repr-fallback\"><pre>GridSearchCV(cv=5, estimator=RandomForestRegressor(),\n",
       "             param_grid={&#x27;bootstrap&#x27;: [True, False],\n",
       "                         &#x27;max_features&#x27;: [&#x27;sqrt&#x27;, &#x27;log2&#x27;],\n",
       "                         &#x27;min_samples_split&#x27;: [2, 4, 8],\n",
       "                         &#x27;n_estimators&#x27;: [10, 20, 30]},\n",
       "             scoring=&#x27;r2&#x27;)</pre><b>In a Jupyter environment, please rerun this cell to show the HTML representation or trust the notebook. <br />On GitHub, the HTML representation is unable to render, please try loading this page with nbviewer.org.</b></div><div class=\"sk-container\" hidden><div class=\"sk-item sk-dashed-wrapped\"><div class=\"sk-label-container\"><div class=\"sk-label fitted sk-toggleable\"><input class=\"sk-toggleable__control sk-hidden--visually\" id=\"sk-estimator-id-1\" type=\"checkbox\" ><label for=\"sk-estimator-id-1\" class=\"sk-toggleable__label fitted sk-toggleable__label-arrow\"><div><div>GridSearchCV</div></div><div><a class=\"sk-estimator-doc-link fitted\" rel=\"noreferrer\" target=\"_blank\" href=\"https://scikit-learn.org/1.6/modules/generated/sklearn.model_selection.GridSearchCV.html\">?<span>Documentation for GridSearchCV</span></a><span class=\"sk-estimator-doc-link fitted\">i<span>Fitted</span></span></div></label><div class=\"sk-toggleable__content fitted\"><pre>GridSearchCV(cv=5, estimator=RandomForestRegressor(),\n",
       "             param_grid={&#x27;bootstrap&#x27;: [True, False],\n",
       "                         &#x27;max_features&#x27;: [&#x27;sqrt&#x27;, &#x27;log2&#x27;],\n",
       "                         &#x27;min_samples_split&#x27;: [2, 4, 8],\n",
       "                         &#x27;n_estimators&#x27;: [10, 20, 30]},\n",
       "             scoring=&#x27;r2&#x27;)</pre></div> </div></div><div class=\"sk-parallel\"><div class=\"sk-parallel-item\"><div class=\"sk-item\"><div class=\"sk-label-container\"><div class=\"sk-label fitted sk-toggleable\"><input class=\"sk-toggleable__control sk-hidden--visually\" id=\"sk-estimator-id-2\" type=\"checkbox\" ><label for=\"sk-estimator-id-2\" class=\"sk-toggleable__label fitted sk-toggleable__label-arrow\"><div><div>best_estimator_: RandomForestRegressor</div></div></label><div class=\"sk-toggleable__content fitted\"><pre>RandomForestRegressor(bootstrap=False, max_features=&#x27;sqrt&#x27;, min_samples_split=4,\n",
       "                      n_estimators=10)</pre></div> </div></div><div class=\"sk-serial\"><div class=\"sk-item\"><div class=\"sk-estimator fitted sk-toggleable\"><input class=\"sk-toggleable__control sk-hidden--visually\" id=\"sk-estimator-id-3\" type=\"checkbox\" ><label for=\"sk-estimator-id-3\" class=\"sk-toggleable__label fitted sk-toggleable__label-arrow\"><div><div>RandomForestRegressor</div></div><div><a class=\"sk-estimator-doc-link fitted\" rel=\"noreferrer\" target=\"_blank\" href=\"https://scikit-learn.org/1.6/modules/generated/sklearn.ensemble.RandomForestRegressor.html\">?<span>Documentation for RandomForestRegressor</span></a></div></label><div class=\"sk-toggleable__content fitted\"><pre>RandomForestRegressor(bootstrap=False, max_features=&#x27;sqrt&#x27;, min_samples_split=4,\n",
       "                      n_estimators=10)</pre></div> </div></div></div></div></div></div></div></div></div>"
      ]
     },
     "execution_count": 59,
     "metadata": {},
     "output_type": "execute_result"
    }
   ],
   "execution_count": 59
  },
  {
   "metadata": {
    "ExecuteTime": {
     "end_time": "2025-02-27T01:19:40.309240Z",
     "start_time": "2025-02-27T01:19:40.304193Z"
    }
   },
   "cell_type": "code",
   "source": [
    "print('Best hyper parameter :' , grid_search.best_params_)\n",
    "print('Best model :' , grid_search.best_estimator_)"
   ],
   "id": "223a2fbb9fc1877d",
   "outputs": [
    {
     "name": "stdout",
     "output_type": "stream",
     "text": [
      "Best hyper parameter : {'bootstrap': False, 'max_features': 'sqrt', 'min_samples_split': 4, 'n_estimators': 10}\n",
      "Best model : RandomForestRegressor(bootstrap=False, max_features='sqrt', min_samples_split=4,\n",
      "                      n_estimators=10)\n"
     ]
    }
   ],
   "execution_count": 60
  },
  {
   "metadata": {
    "ExecuteTime": {
     "end_time": "2025-02-27T01:20:04.584737Z",
     "start_time": "2025-02-27T01:20:04.580655Z"
    }
   },
   "cell_type": "code",
   "source": [
    "rfr =  RandomForestRegressor(bootstrap=False, max_features='log2', min_samples_split=4,\n",
    "                      n_estimators=30)"
   ],
   "id": "8ad5f27a1766a935",
   "outputs": [],
   "execution_count": 61
  },
  {
   "metadata": {
    "ExecuteTime": {
     "end_time": "2025-02-27T01:20:09.360269Z",
     "start_time": "2025-02-27T01:20:09.306671Z"
    }
   },
   "cell_type": "code",
   "source": "rf_grid = rfr.fit(X_train,y_train)",
   "id": "7044fcdaa239bfa",
   "outputs": [],
   "execution_count": 62
  },
  {
   "metadata": {
    "ExecuteTime": {
     "end_time": "2025-02-27T01:20:13.391893Z",
     "start_time": "2025-02-27T01:20:13.381840Z"
    }
   },
   "cell_type": "code",
   "source": "y_pred_rfr_grid = rf_grid.predict(X_test)",
   "id": "438aed675ae6f95f",
   "outputs": [],
   "execution_count": 63
  },
  {
   "metadata": {
    "ExecuteTime": {
     "end_time": "2025-02-27T01:20:33.948963Z",
     "start_time": "2025-02-27T01:20:33.940698Z"
    }
   },
   "cell_type": "code",
   "source": [
    "print('R2 score',metrics.r2_score(y_test,y_pred_rfr_grid))\n",
    "print('MAE',metrics.mean_absolute_error(y_test,y_pred_rfr_grid))\n",
    "print(\"MAE on the orig price: \", np.exp(metrics.mean_absolute_error(y_test,y_pred)))"
   ],
   "id": "db4ce704eb6a331f",
   "outputs": [
    {
     "name": "stdout",
     "output_type": "stream",
     "text": [
      "R2 score 0.8612727700682764\n",
      "MAE 0.12947009892220546\n",
      "MAE on the orig price:  1.815578246234682\n"
     ]
    }
   ],
   "execution_count": 64
  },
  {
   "metadata": {
    "ExecuteTime": {
     "end_time": "2025-02-27T01:20:46.935645Z",
     "start_time": "2025-02-27T01:20:43.702260Z"
    }
   },
   "cell_type": "code",
   "source": [
    "predicted = []\n",
    "testtrain = np.array(x)\n",
    "for i in range(len(testtrain)):\n",
    "    predicted.append(rfr.predict([testtrain[i]]))\n",
    "    \n",
    "predicted"
   ],
   "id": "6028203ca8d003b5",
   "outputs": [
    {
     "data": {
      "text/plain": [
       "[array([10.49496226]),\n",
       " array([10.57098846]),\n",
       " array([10.57098846]),\n",
       " array([11.19966097]),\n",
       " array([10.09628365]),\n",
       " array([10.09628365]),\n",
       " array([10.03112602]),\n",
       " array([11.04841343]),\n",
       " array([10.76534031]),\n",
       " array([11.113448]),\n",
       " array([11.30576398]),\n",
       " array([11.113448]),\n",
       " array([9.81377498]),\n",
       " array([10.09628365]),\n",
       " array([10.55806699]),\n",
       " array([10.91027914]),\n",
       " array([11.08981497]),\n",
       " array([10.42967677]),\n",
       " array([10.49266469]),\n",
       " array([10.42967677]),\n",
       " array([10.42039084]),\n",
       " array([10.43400573]),\n",
       " array([10.48716722]),\n",
       " array([10.77130586]),\n",
       " array([10.49034616]),\n",
       " array([10.55960867]),\n",
       " array([10.55241194]),\n",
       " array([10.48283327]),\n",
       " array([10.6320675]),\n",
       " array([10.61399862]),\n",
       " array([10.91027914]),\n",
       " array([10.58923631]),\n",
       " array([10.55336885]),\n",
       " array([10.64323869]),\n",
       " array([10.60421065]),\n",
       " array([10.54041622]),\n",
       " array([10.67997122]),\n",
       " array([10.64323869]),\n",
       " array([10.60421065]),\n",
       " array([10.65159967]),\n",
       " array([10.59060387]),\n",
       " array([10.89653497]),\n",
       " array([10.54779594]),\n",
       " array([10.60091755]),\n",
       " array([10.62710229]),\n",
       " array([10.64323869]),\n",
       " array([10.59653273]),\n",
       " array([10.67997122]),\n",
       " array([10.86826428]),\n",
       " array([10.67997122]),\n",
       " array([10.65159967]),\n",
       " array([10.60421065]),\n",
       " array([10.64323869]),\n",
       " array([10.64997106]),\n",
       " array([10.68605742]),\n",
       " array([10.54362337]),\n",
       " array([10.5782089]),\n",
       " array([10.67345676]),\n",
       " array([10.57821186]),\n",
       " array([10.69601547]),\n",
       " array([10.51139024]),\n",
       " array([10.62332324]),\n",
       " array([10.62911787]),\n",
       " array([10.59060387]),\n",
       " array([10.16577229]),\n",
       " array([11.04315272]),\n",
       " array([10.57035713]),\n",
       " array([10.62332324]),\n",
       " array([10.66945407]),\n",
       " array([10.60091755]),\n",
       " array([10.60443084]),\n",
       " array([10.6416589]),\n",
       " array([10.67345676]),\n",
       " array([10.62911787]),\n",
       " array([10.66945407]),\n",
       " array([10.67345676]),\n",
       " array([10.71793733]),\n",
       " array([10.7534147]),\n",
       " array([10.62911787]),\n",
       " array([10.59060387]),\n",
       " array([10.61834068]),\n",
       " array([10.52460526]),\n",
       " array([10.76480608]),\n",
       " array([10.72393802]),\n",
       " array([9.99609334]),\n",
       " array([10.93541148]),\n",
       " array([10.54021743]),\n",
       " array([10.66331272]),\n",
       " array([10.66331272]),\n",
       " array([10.59159274]),\n",
       " array([10.71275315]),\n",
       " array([10.90589838]),\n",
       " array([10.71275315]),\n",
       " array([10.71275315]),\n",
       " array([10.618136]),\n",
       " array([10.73110153]),\n",
       " array([10.64174749]),\n",
       " array([10.66331272]),\n",
       " array([10.63114123]),\n",
       " array([10.68721922]),\n",
       " array([10.67857166]),\n",
       " array([10.61666091]),\n",
       " array([10.69193519]),\n",
       " array([10.91995004]),\n",
       " array([10.71275315]),\n",
       " array([10.67857166]),\n",
       " array([10.69973508]),\n",
       " array([10.71275315]),\n",
       " array([10.90508936]),\n",
       " array([10.70780287]),\n",
       " array([10.68703667]),\n",
       " array([10.68703667]),\n",
       " array([10.69193519]),\n",
       " array([10.67672899]),\n",
       " array([10.76717614]),\n",
       " array([10.59092099]),\n",
       " array([11.08475066]),\n",
       " array([10.70112918]),\n",
       " array([10.76717614]),\n",
       " array([10.59159274]),\n",
       " array([10.63114123]),\n",
       " array([10.70112918]),\n",
       " array([10.59159274]),\n",
       " array([10.72217857]),\n",
       " array([10.76717614]),\n",
       " array([10.59159274]),\n",
       " array([10.63627461]),\n",
       " array([10.9920199]),\n",
       " array([10.73110153]),\n",
       " array([10.94674241]),\n",
       " array([10.47351277]),\n",
       " array([10.57777871]),\n",
       " array([10.64312284]),\n",
       " array([10.64312284]),\n",
       " array([10.60169848]),\n",
       " array([10.67394302]),\n",
       " array([10.51374252]),\n",
       " array([10.66232762]),\n",
       " array([10.57374661]),\n",
       " array([10.50318686]),\n",
       " array([10.57781962]),\n",
       " array([10.64884967]),\n",
       " array([10.61720383]),\n",
       " array([10.53584345]),\n",
       " array([10.61098079]),\n",
       " array([10.61098079]),\n",
       " array([10.61131668]),\n",
       " array([10.61098079]),\n",
       " array([10.45597412]),\n",
       " array([10.555102]),\n",
       " array([10.50318686]),\n",
       " array([10.45597412]),\n",
       " array([10.6689796]),\n",
       " array([9.99609334]),\n",
       " array([10.555102]),\n",
       " array([10.64884967]),\n",
       " array([10.49496226]),\n",
       " array([10.62206036]),\n",
       " array([10.74604246]),\n",
       " array([10.57374661]),\n",
       " array([10.62083058]),\n",
       " array([10.45688]),\n",
       " array([10.66232762]),\n",
       " array([9.99609334]),\n",
       " array([10.66232762]),\n",
       " array([10.50816308]),\n",
       " array([10.57781962]),\n",
       " array([9.99609334]),\n",
       " array([10.62838783]),\n",
       " array([10.46452045]),\n",
       " array([9.99609334]),\n",
       " array([10.63905114]),\n",
       " array([10.72524524]),\n",
       " array([10.72524524]),\n",
       " array([10.63340692]),\n",
       " array([10.68100782]),\n",
       " array([10.6375091]),\n",
       " array([10.7296701]),\n",
       " array([10.68100782]),\n",
       " array([10.68638391]),\n",
       " array([10.59404395]),\n",
       " array([10.68100782]),\n",
       " array([10.68100782]),\n",
       " array([10.66797233]),\n",
       " array([10.66797233]),\n",
       " array([10.76752918]),\n",
       " array([10.68100782]),\n",
       " array([10.63459508]),\n",
       " array([9.92065944]),\n",
       " array([9.99609334]),\n",
       " array([10.20726991]),\n",
       " array([10.20726991]),\n",
       " array([10.34547556]),\n",
       " array([10.51797027]),\n",
       " array([10.15622454]),\n",
       " array([10.15622454]),\n",
       " array([10.94143992]),\n",
       " array([11.46938047]),\n",
       " array([11.38296943]),\n",
       " array([11.50088349]),\n",
       " array([11.2198896]),\n",
       " array([11.09649434]),\n",
       " array([11.03728901]),\n",
       " array([11.41640977]),\n",
       " array([10.84424551]),\n",
       " array([11.21380486]),\n",
       " array([10.88539498]),\n",
       " array([11.26289943]),\n",
       " array([10.81433677]),\n",
       " array([10.91226869]),\n",
       " array([11.35635253]),\n",
       " array([11.65240546]),\n",
       " array([11.08577417]),\n",
       " array([10.81433677]),\n",
       " array([10.98825004]),\n",
       " array([10.97736007]),\n",
       " array([11.03558876]),\n",
       " array([10.94371346]),\n",
       " array([11.15265635]),\n",
       " array([11.05343879]),\n",
       " array([11.04553888]),\n",
       " array([10.98250671]),\n",
       " array([10.86830138]),\n",
       " array([11.05440899]),\n",
       " array([11.06764854]),\n",
       " array([11.17624155]),\n",
       " array([10.91435841]),\n",
       " array([10.95359926]),\n",
       " array([11.18088927]),\n",
       " array([10.84477734]),\n",
       " array([10.83878529]),\n",
       " array([11.18088927]),\n",
       " array([11.22500153]),\n",
       " array([11.3916098]),\n",
       " array([11.02271509]),\n",
       " array([11.05343879]),\n",
       " array([11.18632823]),\n",
       " array([11.18632823]),\n",
       " array([11.05440899]),\n",
       " array([11.02576449]),\n",
       " array([10.97736007]),\n",
       " array([11.26535927]),\n",
       " array([11.15265635]),\n",
       " array([11.03558876]),\n",
       " array([10.91435841]),\n",
       " array([11.14678138]),\n",
       " array([11.02576449]),\n",
       " array([11.32082203]),\n",
       " array([11.11233821]),\n",
       " array([11.14678138]),\n",
       " array([10.86302232]),\n",
       " array([10.98949891]),\n",
       " array([11.59680249]),\n",
       " array([10.92756747]),\n",
       " array([10.98250671]),\n",
       " array([10.98250671]),\n",
       " array([11.15265635]),\n",
       " array([11.09177777]),\n",
       " array([10.83239115]),\n",
       " array([11.09817904]),\n",
       " array([11.33475881]),\n",
       " array([11.05343879]),\n",
       " array([11.03558876]),\n",
       " array([11.02576449]),\n",
       " array([10.98250671]),\n",
       " array([11.02576449]),\n",
       " array([11.03558876]),\n",
       " array([11.35245425]),\n",
       " array([11.30925565]),\n",
       " array([11.3085626]),\n",
       " array([11.1454386]),\n",
       " array([11.12121133]),\n",
       " array([11.35245425]),\n",
       " array([11.18173579]),\n",
       " array([11.1100128]),\n",
       " array([11.02449007]),\n",
       " array([11.30025868]),\n",
       " array([11.02436949]),\n",
       " array([11.00286861]),\n",
       " array([11.08400117]),\n",
       " array([11.06699254]),\n",
       " array([10.98250671]),\n",
       " array([11.17624155]),\n",
       " array([11.35683386]),\n",
       " array([11.03558876]),\n",
       " array([11.05999773]),\n",
       " array([11.25142213]),\n",
       " array([10.97736007]),\n",
       " array([11.06699254]),\n",
       " array([11.1454386]),\n",
       " array([11.25463233]),\n",
       " array([11.45210904]),\n",
       " array([11.28048262]),\n",
       " array([11.06699254]),\n",
       " array([10.98250671]),\n",
       " array([11.32265162]),\n",
       " array([11.09273688]),\n",
       " array([11.57078037]),\n",
       " array([11.11233821]),\n",
       " array([11.20683574]),\n",
       " array([11.06699254]),\n",
       " array([11.06375394]),\n",
       " array([11.41218255]),\n",
       " array([10.93422261]),\n",
       " array([11.09089143]),\n",
       " array([10.88243963]),\n",
       " array([11.21554392]),\n",
       " array([11.58306478]),\n",
       " array([11.07190837]),\n",
       " array([11.8578391]),\n",
       " array([12.01634361]),\n",
       " array([11.17180676]),\n",
       " array([10.92791459]),\n",
       " array([11.71715309]),\n",
       " array([10.98250671]),\n",
       " array([11.2971146]),\n",
       " array([11.44880451]),\n",
       " array([11.25164305]),\n",
       " array([11.17624155]),\n",
       " array([10.92497916]),\n",
       " array([11.05343879]),\n",
       " array([10.92791459]),\n",
       " array([11.59680249]),\n",
       " array([11.20893251]),\n",
       " array([11.04916499]),\n",
       " array([11.14743753]),\n",
       " array([10.96769573]),\n",
       " array([11.22312517]),\n",
       " array([11.12359528]),\n",
       " array([11.0109124]),\n",
       " array([11.32671344]),\n",
       " array([10.94371346]),\n",
       " array([11.21554392]),\n",
       " array([11.67435606]),\n",
       " array([11.13001395]),\n",
       " array([11.11233821]),\n",
       " array([11.4500032]),\n",
       " array([11.45210904]),\n",
       " array([11.03558876]),\n",
       " array([11.45210904]),\n",
       " array([10.98250671]),\n",
       " array([11.21554392]),\n",
       " array([10.98250671]),\n",
       " array([11.04855856]),\n",
       " array([10.92470591]),\n",
       " array([10.88243963]),\n",
       " array([10.99348308]),\n",
       " array([11.20818803]),\n",
       " array([11.3058175]),\n",
       " array([11.3085626]),\n",
       " array([11.36145982]),\n",
       " array([11.45210904]),\n",
       " array([11.3085626]),\n",
       " array([11.11274364]),\n",
       " array([11.24517096]),\n",
       " array([11.24517096]),\n",
       " array([11.00908471]),\n",
       " array([11.09273688]),\n",
       " array([11.21554392]),\n",
       " array([11.32549017]),\n",
       " array([11.19454218]),\n",
       " array([11.67435606]),\n",
       " array([11.37991009]),\n",
       " array([11.57152691]),\n",
       " array([11.30025868]),\n",
       " array([11.30378716]),\n",
       " array([11.32017474]),\n",
       " array([11.30025868]),\n",
       " array([11.45210904]),\n",
       " array([11.67682495]),\n",
       " array([11.82609611]),\n",
       " array([11.18432988]),\n",
       " array([11.25137288]),\n",
       " array([11.13001395]),\n",
       " array([11.11233821]),\n",
       " array([11.45210904]),\n",
       " array([11.30862106]),\n",
       " array([11.25696345]),\n",
       " array([11.28048262]),\n",
       " array([11.2581122]),\n",
       " array([11.27446152]),\n",
       " array([11.48459207]),\n",
       " array([11.54323736]),\n",
       " array([11.06382201]),\n",
       " array([11.17624155]),\n",
       " array([11.21554392]),\n",
       " array([11.54323736]),\n",
       " array([11.05999773]),\n",
       " array([11.09066002]),\n",
       " array([11.14678138]),\n",
       " array([11.30025868]),\n",
       " array([11.09066002]),\n",
       " array([11.25534449]),\n",
       " array([11.09066002]),\n",
       " array([11.03745008]),\n",
       " array([11.32265162]),\n",
       " array([11.38703816]),\n",
       " array([11.33538387]),\n",
       " array([11.03745008]),\n",
       " array([11.03745008]),\n",
       " array([11.4012208]),\n",
       " array([11.18942229]),\n",
       " array([11.25008148]),\n",
       " array([11.25164305]),\n",
       " array([11.26799254]),\n",
       " array([11.24958274]),\n",
       " array([11.32250564]),\n",
       " array([12.03804032]),\n",
       " array([12.03804032]),\n",
       " array([11.31355041]),\n",
       " array([11.29925071]),\n",
       " array([11.3034622]),\n",
       " array([11.27336731]),\n",
       " array([11.10599117]),\n",
       " array([11.8446288]),\n",
       " array([11.8446288]),\n",
       " array([10.86165298]),\n",
       " array([10.81260387]),\n",
       " array([10.85158783]),\n",
       " array([11.07171925]),\n",
       " array([10.81101825]),\n",
       " array([10.92354084]),\n",
       " array([10.95058474]),\n",
       " array([10.84789766]),\n",
       " array([10.97216256]),\n",
       " array([11.03858939]),\n",
       " array([10.96123917]),\n",
       " array([11.01658577]),\n",
       " array([11.03343742]),\n",
       " array([11.20199277]),\n",
       " array([11.01658577]),\n",
       " array([10.96123917]),\n",
       " array([11.19181319]),\n",
       " array([12.02705646]),\n",
       " array([12.02705646]),\n",
       " array([12.17126532]),\n",
       " array([11.00750172]),\n",
       " array([10.82598511]),\n",
       " array([10.72445901]),\n",
       " array([11.07171925]),\n",
       " array([10.8096963]),\n",
       " array([10.98443286]),\n",
       " array([10.88138043]),\n",
       " array([10.98166]),\n",
       " array([10.96812571]),\n",
       " array([10.97814016]),\n",
       " array([10.96937343]),\n",
       " array([10.89697742]),\n",
       " array([10.93557054]),\n",
       " array([11.04745477]),\n",
       " array([11.0564475]),\n",
       " array([11.04803653]),\n",
       " array([11.01250237]),\n",
       " array([10.94104554]),\n",
       " array([11.01314417]),\n",
       " array([10.92149744]),\n",
       " array([11.0564475]),\n",
       " array([11.01141092]),\n",
       " array([10.97847328]),\n",
       " array([11.16186244]),\n",
       " array([11.04745477]),\n",
       " array([11.04803653]),\n",
       " array([10.97814016]),\n",
       " array([10.97847328]),\n",
       " array([11.18825142]),\n",
       " array([10.98744739]),\n",
       " array([10.97814016]),\n",
       " array([11.13490595]),\n",
       " array([11.08554309]),\n",
       " array([11.13490595]),\n",
       " array([10.97847328]),\n",
       " array([10.96937343]),\n",
       " array([11.18825142]),\n",
       " array([10.97814016]),\n",
       " array([11.13490595]),\n",
       " array([11.02246643]),\n",
       " array([11.02403768]),\n",
       " array([12.17126532]),\n",
       " array([11.46100528]),\n",
       " array([11.21168523]),\n",
       " array([11.21168523]),\n",
       " array([11.21168523]),\n",
       " array([11.21168523]),\n",
       " array([11.21168523]),\n",
       " array([11.21168523]),\n",
       " array([11.16143099]),\n",
       " array([11.09616011]),\n",
       " array([11.38304675]),\n",
       " array([11.17036547]),\n",
       " array([11.49358386]),\n",
       " array([11.52767978]),\n",
       " array([11.20964659]),\n",
       " array([11.21653457]),\n",
       " array([11.49330112]),\n",
       " array([11.4888505]),\n",
       " array([11.42651544]),\n",
       " array([11.01413068]),\n",
       " array([11.53581627]),\n",
       " array([11.50534543]),\n",
       " array([11.38167319]),\n",
       " array([11.53581627]),\n",
       " array([11.2753849]),\n",
       " array([11.42243118]),\n",
       " array([11.4766963]),\n",
       " array([11.49443846]),\n",
       " array([11.33774681]),\n",
       " array([11.50940958]),\n",
       " array([12.27028146]),\n",
       " array([11.3038083]),\n",
       " array([11.64425108]),\n",
       " array([11.76609537]),\n",
       " array([11.35000104]),\n",
       " array([11.42243118]),\n",
       " array([11.95240206]),\n",
       " array([11.57456215]),\n",
       " array([11.18490425]),\n",
       " array([11.70177262]),\n",
       " array([11.81715905]),\n",
       " array([11.64770343]),\n",
       " array([11.53581627]),\n",
       " array([11.48953036]),\n",
       " array([11.58562486]),\n",
       " array([11.55841296]),\n",
       " array([12.15194391]),\n",
       " array([11.50431644]),\n",
       " array([11.76430201]),\n",
       " array([11.95922619]),\n",
       " array([11.63025256]),\n",
       " array([12.16180175]),\n",
       " array([11.60677047]),\n",
       " array([11.50534543]),\n",
       " array([11.29964559]),\n",
       " array([11.10925793]),\n",
       " array([11.56927163]),\n",
       " array([11.64146655]),\n",
       " array([11.70567164]),\n",
       " array([11.53695865]),\n",
       " array([11.93111631]),\n",
       " array([11.50105784]),\n",
       " array([11.66642935]),\n",
       " array([11.98407611]),\n",
       " array([11.8550078]),\n",
       " array([11.48709863]),\n",
       " array([12.01480038]),\n",
       " array([11.89381058]),\n",
       " array([11.64281542]),\n",
       " array([12.19316927]),\n",
       " array([12.41611743]),\n",
       " array([11.6882142]),\n",
       " array([11.6882142]),\n",
       " array([11.89948348]),\n",
       " array([11.74817228]),\n",
       " array([11.89858961]),\n",
       " array([11.97997316]),\n",
       " array([11.8019241]),\n",
       " array([11.97199958]),\n",
       " array([11.4426173]),\n",
       " array([12.29122846]),\n",
       " array([11.89858961]),\n",
       " array([11.61778841]),\n",
       " array([11.70567164]),\n",
       " array([11.85026475]),\n",
       " array([11.95792211]),\n",
       " array([11.71494297]),\n",
       " array([11.86591839]),\n",
       " array([12.06363417]),\n",
       " array([12.06363417]),\n",
       " array([11.68962741]),\n",
       " array([12.06363417]),\n",
       " array([11.89858961]),\n",
       " array([11.14164853]),\n",
       " array([11.44157969]),\n",
       " array([11.58210947]),\n",
       " array([11.82122651]),\n",
       " array([12.24854578]),\n",
       " array([12.03355048]),\n",
       " array([12.17690452]),\n",
       " array([11.3894906]),\n",
       " array([11.65737244]),\n",
       " array([11.09836629]),\n",
       " array([11.28432944]),\n",
       " array([11.36382138]),\n",
       " array([11.66317723]),\n",
       " array([11.81855882]),\n",
       " array([11.45270014]),\n",
       " array([11.46388944]),\n",
       " array([11.6614934]),\n",
       " array([12.00174784]),\n",
       " array([11.9195902]),\n",
       " array([12.13494066]),\n",
       " array([12.43827628]),\n",
       " array([12.05449164]),\n",
       " array([11.95012929]),\n",
       " array([12.36646756]),\n",
       " array([12.02519835]),\n",
       " array([11.47934363]),\n",
       " array([12.02705646]),\n",
       " array([11.47934363]),\n",
       " array([11.87798542]),\n",
       " array([11.45300906]),\n",
       " array([11.45300906]),\n",
       " array([11.64042333]),\n",
       " array([11.45300906]),\n",
       " array([11.64042333]),\n",
       " array([11.64042333]),\n",
       " array([11.45300906]),\n",
       " array([12.03552929]),\n",
       " array([11.62372668]),\n",
       " array([11.62372668]),\n",
       " array([11.62372668]),\n",
       " array([11.62372668]),\n",
       " array([11.62372668]),\n",
       " array([12.03552929]),\n",
       " array([12.03552929]),\n",
       " array([12.03552929]),\n",
       " array([11.54406767]),\n",
       " array([11.62372668]),\n",
       " array([11.94430772]),\n",
       " array([12.27621737]),\n",
       " array([12.27621737]),\n",
       " array([12.27621737]),\n",
       " array([12.62426864]),\n",
       " array([12.27621737]),\n",
       " array([10.69731807]),\n",
       " array([10.88499985]),\n",
       " array([10.99699082]),\n",
       " array([10.43523956]),\n",
       " array([10.42739306]),\n",
       " array([10.43115687]),\n",
       " array([10.49438429]),\n",
       " array([10.42739306]),\n",
       " array([10.55887738]),\n",
       " array([10.26403155]),\n",
       " array([10.2016362]),\n",
       " array([10.2016362]),\n",
       " array([10.28841425]),\n",
       " array([10.59832302]),\n",
       " array([10.50909205]),\n",
       " array([10.60330937]),\n",
       " array([10.60330937]),\n",
       " array([10.58861168]),\n",
       " array([10.46676032]),\n",
       " array([10.60330937]),\n",
       " array([10.50807535]),\n",
       " array([10.46676032]),\n",
       " array([10.53919383]),\n",
       " array([10.68095728]),\n",
       " array([10.64978216]),\n",
       " array([10.51723003]),\n",
       " array([10.66682746]),\n",
       " array([10.67412848]),\n",
       " array([10.64420252]),\n",
       " array([10.54618129]),\n",
       " array([10.580222]),\n",
       " array([10.56853858]),\n",
       " array([10.58184377]),\n",
       " array([10.60252135]),\n",
       " array([10.60252135]),\n",
       " array([10.60285269]),\n",
       " array([10.50745202]),\n",
       " array([10.56853858]),\n",
       " array([10.6419879]),\n",
       " array([10.68368123]),\n",
       " array([10.71361114]),\n",
       " array([10.68368123]),\n",
       " array([10.71361114]),\n",
       " array([10.90110804]),\n",
       " array([10.82477367]),\n",
       " array([11.03828999]),\n",
       " array([10.99878939]),\n",
       " array([10.84169506]),\n",
       " array([10.860903]),\n",
       " array([10.85815775]),\n",
       " array([10.860903]),\n",
       " array([10.94912795]),\n",
       " array([10.90583053]),\n",
       " array([10.73196549]),\n",
       " array([11.00496667]),\n",
       " array([11.0517968]),\n",
       " array([10.76664354]),\n",
       " array([11.03828999]),\n",
       " array([11.08043581]),\n",
       " array([11.03828999]),\n",
       " array([10.93556843]),\n",
       " array([11.06299998]),\n",
       " array([10.8970601]),\n",
       " array([11.10463824]),\n",
       " array([11.01312615]),\n",
       " array([10.860903]),\n",
       " array([11.06376506]),\n",
       " array([11.03828999]),\n",
       " array([11.13485037]),\n",
       " array([11.35738336]),\n",
       " array([11.11468603]),\n",
       " array([10.93092816]),\n",
       " array([10.93556843]),\n",
       " array([10.93556843]),\n",
       " array([11.20390613]),\n",
       " array([11.02995543]),\n",
       " array([11.30077601]),\n",
       " array([11.25302016]),\n",
       " array([11.08217053]),\n",
       " array([11.13889445]),\n",
       " array([11.19988126]),\n",
       " array([10.89503698]),\n",
       " array([11.38847966]),\n",
       " array([11.24980276]),\n",
       " array([10.86706898]),\n",
       " array([10.89503698]),\n",
       " array([11.23067093]),\n",
       " array([11.3601698]),\n",
       " array([10.93970894]),\n",
       " array([10.86706898]),\n",
       " array([11.03698613]),\n",
       " array([10.99868268]),\n",
       " array([10.89503698]),\n",
       " array([10.95542688]),\n",
       " array([10.99868268]),\n",
       " array([11.08217053]),\n",
       " array([11.02007317]),\n",
       " array([10.89503698]),\n",
       " array([11.20416316]),\n",
       " array([10.860903]),\n",
       " array([11.15533673]),\n",
       " array([11.06299998]),\n",
       " array([11.06027516]),\n",
       " array([11.05082534]),\n",
       " array([11.29927673]),\n",
       " array([11.10600828]),\n",
       " array([10.83048893]),\n",
       " array([10.93596284]),\n",
       " array([11.11571887]),\n",
       " array([10.93596284]),\n",
       " array([10.9193665]),\n",
       " array([11.03200773]),\n",
       " array([11.16815983]),\n",
       " array([10.89283928]),\n",
       " array([11.03310398]),\n",
       " array([10.93185383]),\n",
       " array([11.07586443]),\n",
       " array([11.28356152]),\n",
       " array([11.32150433]),\n",
       " array([11.18932329]),\n",
       " array([11.18932329]),\n",
       " array([11.42199068]),\n",
       " array([11.27836389]),\n",
       " array([11.41922823]),\n",
       " array([11.29770015]),\n",
       " array([11.4922076]),\n",
       " array([11.15245348]),\n",
       " array([11.30342285]),\n",
       " array([11.15245348]),\n",
       " array([11.11121271]),\n",
       " array([11.13701416]),\n",
       " array([11.43166913]),\n",
       " array([11.41293166]),\n",
       " array([11.15245348]),\n",
       " array([11.13701416]),\n",
       " array([11.13283523]),\n",
       " array([11.28207207]),\n",
       " array([11.27562726]),\n",
       " array([10.99553357]),\n",
       " array([11.5667485]),\n",
       " array([11.48593283]),\n",
       " array([11.37833683]),\n",
       " array([11.26823731]),\n",
       " array([11.25986609]),\n",
       " array([11.43166913]),\n",
       " array([11.28207207]),\n",
       " array([11.35958036]),\n",
       " array([11.13283523]),\n",
       " array([11.2613991]),\n",
       " array([11.29652169]),\n",
       " array([11.31137827]),\n",
       " array([11.60469608]),\n",
       " array([11.28793286]),\n",
       " array([11.40094495]),\n",
       " array([11.36063456]),\n",
       " array([11.50946077]),\n",
       " array([11.6447755]),\n",
       " array([11.41804594]),\n",
       " array([11.4338473]),\n",
       " array([11.63465071]),\n",
       " array([11.4050076]),\n",
       " array([11.68733174]),\n",
       " array([11.4050076]),\n",
       " array([11.59356778]),\n",
       " array([11.30578195]),\n",
       " array([11.4050076]),\n",
       " array([11.61358783]),\n",
       " array([11.4050076]),\n",
       " array([11.35015805]),\n",
       " array([11.26203044]),\n",
       " array([11.4017792]),\n",
       " array([11.32298749]),\n",
       " array([11.04816904]),\n",
       " array([11.83919162]),\n",
       " array([11.7263176]),\n",
       " array([12.02924277]),\n",
       " array([11.67937742]),\n",
       " array([11.83919162]),\n",
       " array([11.80740382]),\n",
       " array([11.83397896]),\n",
       " array([11.75540212]),\n",
       " array([11.87248134]),\n",
       " array([11.87248134]),\n",
       " array([11.74803899]),\n",
       " array([11.88925791]),\n",
       " array([11.75540212]),\n",
       " array([11.87248134]),\n",
       " array([11.75540212]),\n",
       " array([11.87248134]),\n",
       " array([11.80890791]),\n",
       " array([11.93009934]),\n",
       " array([11.75540212]),\n",
       " array([11.71979457]),\n",
       " array([11.79879973]),\n",
       " array([11.87248134]),\n",
       " array([11.75540212]),\n",
       " array([11.75540212]),\n",
       " array([11.93009934]),\n",
       " array([11.93009934]),\n",
       " array([10.97727145])]"
      ]
     },
     "execution_count": 65,
     "metadata": {},
     "output_type": "execute_result"
    }
   ],
   "execution_count": 65
  },
  {
   "metadata": {
    "ExecuteTime": {
     "end_time": "2025-02-27T01:20:53.502509Z",
     "start_time": "2025-02-27T01:20:53.497191Z"
    }
   },
   "cell_type": "code",
   "source": "ans = [np.exp(predicted[i][0]) for i in range(len(predicted))]",
   "id": "4209f654623c462f",
   "outputs": [],
   "execution_count": 66
  },
  {
   "metadata": {
    "ExecuteTime": {
     "end_time": "2025-02-27T01:20:58.607384Z",
     "start_time": "2025-02-27T01:20:58.602482Z"
    }
   },
   "cell_type": "code",
   "source": "rounded_prices = [round(pred) for pred in ans]",
   "id": "e8722887b695bba1",
   "outputs": [],
   "execution_count": 67
  },
  {
   "metadata": {
    "ExecuteTime": {
     "end_time": "2025-02-27T01:21:02.725068Z",
     "start_time": "2025-02-27T01:21:02.710804Z"
    }
   },
   "cell_type": "code",
   "source": [
    "df_train['Predicted Price'] = np.array(rounded_prices)\n",
    "df_train"
   ],
   "id": "ed50ce4ab107c943",
   "outputs": [
    {
     "data": {
      "text/plain": [
       "      brand processor_brand processor_name  processor_gnrtn  ram_gb ram_type  \\\n",
       "0      ASUS           Intel        Core i3               10       4     DDR4   \n",
       "1    Lenovo           Intel        Core i3               10       4     DDR4   \n",
       "2    Lenovo           Intel        Core i3               10       4     DDR4   \n",
       "3      ASUS           Intel        Core i5               10       8     DDR4   \n",
       "4      ASUS           Intel   Celeron Dual               11       4     DDR4   \n",
       "..      ...             ...            ...              ...     ...      ...   \n",
       "818    ASUS             AMD        Ryzen 9               11       4     DDR4   \n",
       "819    ASUS             AMD        Ryzen 9               11       4     DDR4   \n",
       "820    ASUS             AMD        Ryzen 9               11       4     DDR4   \n",
       "821    ASUS             AMD        Ryzen 9               11       4     DDR4   \n",
       "822  Lenovo             AMD        Ryzen 5               10       8     DDR4   \n",
       "\n",
       "      ssd   hdd       os  os_bit  graphic_card_gb      weight     warranty  \\\n",
       "0       0  1024  Windows      64                0      Casual  No warranty   \n",
       "1       0  1024  Windows      64                0      Casual  No warranty   \n",
       "2       0  1024  Windows      64                0      Casual  No warranty   \n",
       "3     512     0  Windows      32                2      Casual  No warranty   \n",
       "4       0   512  Windows      64                0      Casual  No warranty   \n",
       "..    ...   ...      ...     ...              ...         ...          ...   \n",
       "818  1024     0  Windows      64                0      Casual           1    \n",
       "819  1024     0  Windows      64                0      Casual           1    \n",
       "820  1024     0  Windows      64                4      Casual           1    \n",
       "821  1024     0  Windows      64                4      Casual           1    \n",
       "822   512     0      DOS      64                0  ThinNlight  No warranty   \n",
       "\n",
       "    Touchscreen   Price  Predicted Price  \n",
       "0            No   34649            36133  \n",
       "1            No   38999            38987  \n",
       "2            No   39999            38987  \n",
       "3            No   69990            73106  \n",
       "4            No   26990            24253  \n",
       "..          ...     ...              ...  \n",
       "818          No  135990           127440  \n",
       "819          No  144990           127440  \n",
       "820          No  149990           151767  \n",
       "821          No  142990           151767  \n",
       "822          No   57490            58529  \n",
       "\n",
       "[823 rows x 16 columns]"
      ],
      "text/html": [
       "<div>\n",
       "<style scoped>\n",
       "    .dataframe tbody tr th:only-of-type {\n",
       "        vertical-align: middle;\n",
       "    }\n",
       "\n",
       "    .dataframe tbody tr th {\n",
       "        vertical-align: top;\n",
       "    }\n",
       "\n",
       "    .dataframe thead th {\n",
       "        text-align: right;\n",
       "    }\n",
       "</style>\n",
       "<table border=\"1\" class=\"dataframe\">\n",
       "  <thead>\n",
       "    <tr style=\"text-align: right;\">\n",
       "      <th></th>\n",
       "      <th>brand</th>\n",
       "      <th>processor_brand</th>\n",
       "      <th>processor_name</th>\n",
       "      <th>processor_gnrtn</th>\n",
       "      <th>ram_gb</th>\n",
       "      <th>ram_type</th>\n",
       "      <th>ssd</th>\n",
       "      <th>hdd</th>\n",
       "      <th>os</th>\n",
       "      <th>os_bit</th>\n",
       "      <th>graphic_card_gb</th>\n",
       "      <th>weight</th>\n",
       "      <th>warranty</th>\n",
       "      <th>Touchscreen</th>\n",
       "      <th>Price</th>\n",
       "      <th>Predicted Price</th>\n",
       "    </tr>\n",
       "  </thead>\n",
       "  <tbody>\n",
       "    <tr>\n",
       "      <th>0</th>\n",
       "      <td>ASUS</td>\n",
       "      <td>Intel</td>\n",
       "      <td>Core i3</td>\n",
       "      <td>10</td>\n",
       "      <td>4</td>\n",
       "      <td>DDR4</td>\n",
       "      <td>0</td>\n",
       "      <td>1024</td>\n",
       "      <td>Windows</td>\n",
       "      <td>64</td>\n",
       "      <td>0</td>\n",
       "      <td>Casual</td>\n",
       "      <td>No warranty</td>\n",
       "      <td>No</td>\n",
       "      <td>34649</td>\n",
       "      <td>36133</td>\n",
       "    </tr>\n",
       "    <tr>\n",
       "      <th>1</th>\n",
       "      <td>Lenovo</td>\n",
       "      <td>Intel</td>\n",
       "      <td>Core i3</td>\n",
       "      <td>10</td>\n",
       "      <td>4</td>\n",
       "      <td>DDR4</td>\n",
       "      <td>0</td>\n",
       "      <td>1024</td>\n",
       "      <td>Windows</td>\n",
       "      <td>64</td>\n",
       "      <td>0</td>\n",
       "      <td>Casual</td>\n",
       "      <td>No warranty</td>\n",
       "      <td>No</td>\n",
       "      <td>38999</td>\n",
       "      <td>38987</td>\n",
       "    </tr>\n",
       "    <tr>\n",
       "      <th>2</th>\n",
       "      <td>Lenovo</td>\n",
       "      <td>Intel</td>\n",
       "      <td>Core i3</td>\n",
       "      <td>10</td>\n",
       "      <td>4</td>\n",
       "      <td>DDR4</td>\n",
       "      <td>0</td>\n",
       "      <td>1024</td>\n",
       "      <td>Windows</td>\n",
       "      <td>64</td>\n",
       "      <td>0</td>\n",
       "      <td>Casual</td>\n",
       "      <td>No warranty</td>\n",
       "      <td>No</td>\n",
       "      <td>39999</td>\n",
       "      <td>38987</td>\n",
       "    </tr>\n",
       "    <tr>\n",
       "      <th>3</th>\n",
       "      <td>ASUS</td>\n",
       "      <td>Intel</td>\n",
       "      <td>Core i5</td>\n",
       "      <td>10</td>\n",
       "      <td>8</td>\n",
       "      <td>DDR4</td>\n",
       "      <td>512</td>\n",
       "      <td>0</td>\n",
       "      <td>Windows</td>\n",
       "      <td>32</td>\n",
       "      <td>2</td>\n",
       "      <td>Casual</td>\n",
       "      <td>No warranty</td>\n",
       "      <td>No</td>\n",
       "      <td>69990</td>\n",
       "      <td>73106</td>\n",
       "    </tr>\n",
       "    <tr>\n",
       "      <th>4</th>\n",
       "      <td>ASUS</td>\n",
       "      <td>Intel</td>\n",
       "      <td>Celeron Dual</td>\n",
       "      <td>11</td>\n",
       "      <td>4</td>\n",
       "      <td>DDR4</td>\n",
       "      <td>0</td>\n",
       "      <td>512</td>\n",
       "      <td>Windows</td>\n",
       "      <td>64</td>\n",
       "      <td>0</td>\n",
       "      <td>Casual</td>\n",
       "      <td>No warranty</td>\n",
       "      <td>No</td>\n",
       "      <td>26990</td>\n",
       "      <td>24253</td>\n",
       "    </tr>\n",
       "    <tr>\n",
       "      <th>...</th>\n",
       "      <td>...</td>\n",
       "      <td>...</td>\n",
       "      <td>...</td>\n",
       "      <td>...</td>\n",
       "      <td>...</td>\n",
       "      <td>...</td>\n",
       "      <td>...</td>\n",
       "      <td>...</td>\n",
       "      <td>...</td>\n",
       "      <td>...</td>\n",
       "      <td>...</td>\n",
       "      <td>...</td>\n",
       "      <td>...</td>\n",
       "      <td>...</td>\n",
       "      <td>...</td>\n",
       "      <td>...</td>\n",
       "    </tr>\n",
       "    <tr>\n",
       "      <th>818</th>\n",
       "      <td>ASUS</td>\n",
       "      <td>AMD</td>\n",
       "      <td>Ryzen 9</td>\n",
       "      <td>11</td>\n",
       "      <td>4</td>\n",
       "      <td>DDR4</td>\n",
       "      <td>1024</td>\n",
       "      <td>0</td>\n",
       "      <td>Windows</td>\n",
       "      <td>64</td>\n",
       "      <td>0</td>\n",
       "      <td>Casual</td>\n",
       "      <td>1</td>\n",
       "      <td>No</td>\n",
       "      <td>135990</td>\n",
       "      <td>127440</td>\n",
       "    </tr>\n",
       "    <tr>\n",
       "      <th>819</th>\n",
       "      <td>ASUS</td>\n",
       "      <td>AMD</td>\n",
       "      <td>Ryzen 9</td>\n",
       "      <td>11</td>\n",
       "      <td>4</td>\n",
       "      <td>DDR4</td>\n",
       "      <td>1024</td>\n",
       "      <td>0</td>\n",
       "      <td>Windows</td>\n",
       "      <td>64</td>\n",
       "      <td>0</td>\n",
       "      <td>Casual</td>\n",
       "      <td>1</td>\n",
       "      <td>No</td>\n",
       "      <td>144990</td>\n",
       "      <td>127440</td>\n",
       "    </tr>\n",
       "    <tr>\n",
       "      <th>820</th>\n",
       "      <td>ASUS</td>\n",
       "      <td>AMD</td>\n",
       "      <td>Ryzen 9</td>\n",
       "      <td>11</td>\n",
       "      <td>4</td>\n",
       "      <td>DDR4</td>\n",
       "      <td>1024</td>\n",
       "      <td>0</td>\n",
       "      <td>Windows</td>\n",
       "      <td>64</td>\n",
       "      <td>4</td>\n",
       "      <td>Casual</td>\n",
       "      <td>1</td>\n",
       "      <td>No</td>\n",
       "      <td>149990</td>\n",
       "      <td>151767</td>\n",
       "    </tr>\n",
       "    <tr>\n",
       "      <th>821</th>\n",
       "      <td>ASUS</td>\n",
       "      <td>AMD</td>\n",
       "      <td>Ryzen 9</td>\n",
       "      <td>11</td>\n",
       "      <td>4</td>\n",
       "      <td>DDR4</td>\n",
       "      <td>1024</td>\n",
       "      <td>0</td>\n",
       "      <td>Windows</td>\n",
       "      <td>64</td>\n",
       "      <td>4</td>\n",
       "      <td>Casual</td>\n",
       "      <td>1</td>\n",
       "      <td>No</td>\n",
       "      <td>142990</td>\n",
       "      <td>151767</td>\n",
       "    </tr>\n",
       "    <tr>\n",
       "      <th>822</th>\n",
       "      <td>Lenovo</td>\n",
       "      <td>AMD</td>\n",
       "      <td>Ryzen 5</td>\n",
       "      <td>10</td>\n",
       "      <td>8</td>\n",
       "      <td>DDR4</td>\n",
       "      <td>512</td>\n",
       "      <td>0</td>\n",
       "      <td>DOS</td>\n",
       "      <td>64</td>\n",
       "      <td>0</td>\n",
       "      <td>ThinNlight</td>\n",
       "      <td>No warranty</td>\n",
       "      <td>No</td>\n",
       "      <td>57490</td>\n",
       "      <td>58529</td>\n",
       "    </tr>\n",
       "  </tbody>\n",
       "</table>\n",
       "<p>823 rows × 16 columns</p>\n",
       "</div>"
      ]
     },
     "execution_count": 68,
     "metadata": {},
     "output_type": "execute_result"
    }
   ],
   "execution_count": 68
  },
  {
   "metadata": {
    "ExecuteTime": {
     "end_time": "2025-02-27T01:21:09.047891Z",
     "start_time": "2025-02-27T01:21:08.889557Z"
    }
   },
   "cell_type": "code",
   "source": [
    "sns.distplot(df_train['Price'],hist=False,color='orange',label='Actual')\n",
    "sns.distplot(df_train['Predicted Price'],hist=False,color='blue',label='Predicted')\n",
    "plt.legend()\n",
    "plt.show()"
   ],
   "id": "e1f1c63a5ad37bf3",
   "outputs": [
    {
     "data": {
      "text/plain": [
       "<Figure size 640x480 with 1 Axes>"
      ],
      "image/png": "[encoded data removed]"
     },
     "metadata": {},
     "output_type": "display_data"
    }
   ],
   "execution_count": 69
  },
  {
   "metadata": {},
   "cell_type": "code",
   "outputs": [],
   "execution_count": null,
   "source": "",
   "id": "547acbb9553954a2"
  },
  {
   "metadata": {},
   "cell_type": "code",
   "outputs": [],
   "execution_count": null,
   "source": "",
   "id": "62f18ae30d970cca"
  },
  {
   "metadata": {},
   "cell_type": "code",
   "outputs": [],
   "execution_count": null,
   "source": "",
   "id": "706211ae708dddc9"
  },
  {
   "metadata": {},
   "cell_type": "code",
   "outputs": [],
   "execution_count": null,
   "source": "",
   "id": "fcf9b4c125a05f46"
  },
  {
   "metadata": {},
   "cell_type": "code",
   "outputs": [],
   "execution_count": null,
   "source": "",
   "id": "9babfed883540858"
  },
  {
   "metadata": {},
   "cell_type": "markdown",
   "source": [
    "# The lab work task\n",
    "Solve the regression problem for the one of the presented datasets using the same steps into your work.\n",
    "To get you variant: (your_num % 9), where your_num is your number in the group list.\n",
    "\n",
    "In addition to presented in the example methods consider other ML methods like Support Vector Machine, Gradient Boosting Regression, Bayesian Ridge Regression.\n",
    "\n",
    "Present your work in the Jupyter Notebook variant\n",
    "\n",
    "P.s. in provided data sources you can find examples of solving this problem, but be ready to explain the code and results."
   ],
   "id": "19952dd618576545"
  },
  {
   "metadata": {},
   "cell_type": "markdown",
   "source": [
    "# Data to choose\n",
    "1. [Gold Price Prediction](https://www.kaggle.com/datasets/franciscogcc/financial-data)\n",
    "2. [Possum Regression](https://www.kaggle.com/datasets/abrambeyer/openintro-possum/data)\n",
    "3. [Student Performance](https://www.kaggle.com/datasets/nikhil7280/student-performance-multiple-linear-regression)\n",
    "4. [Boston House Prices](https://www.kaggle.com/datasets/fedesoriano/the-boston-houseprice-data/data)\n",
    "5. [Car Price](https://www.kaggle.com/datasets/hellbuoy/car-price-prediction)\n",
    "6. [Medical Cost](https://www.kaggle.com/datasets/mirichoi0218/insurance)\n",
    "7. [Crab Age Prediction](https://www.kaggle.com/datasets/sidhus/crab-age-prediction)\n",
    "8. [Calculate Concrete Strength](https://www.kaggle.com/datasets/prathamtripathi/regression-with-neural-networking)\n",
    "9. [Advertising dataset](https://www.kaggle.com/datasets/tawfikelmetwally/advertising-dataset)"
   ],
   "id": "ab2c69683a1d1b02"
  },
  {
   "metadata": {},
   "cell_type": "code",
   "outputs": [],
   "execution_count": null,
   "source": "",
   "id": "d6fb578a323e2399"
  }
 ],
 "metadata": {
  "kernelspec": {
   "display_name": "Python 3",
   "language": "python",
   "name": "python3"
  },
  "language_info": {
   "codemirror_mode": {
    "name": "ipython",
    "version": 2
   },
   "file_extension": ".py",
   "mimetype": "text/x-python",
   "name": "python",
   "nbconvert_exporter": "python",
   "pygments_lexer": "ipython2",
   "version": "2.7.6"
  }
 },
 "nbformat": 4,
 "nbformat_minor": 5
}
