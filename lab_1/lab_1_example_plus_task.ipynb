{
 "cells": [
  {
   "metadata": {},
   "cell_type": "markdown",
   "source": [
    "# Example of the solution the regression problem\n",
    "# Laptop price prediction\n",
    "[source of the data + code of example](https://www.kaggle.com/datasets/anubhavgoyal10/laptop-prices-dataset/data)"
   ],
   "id": "450b4526183225cd"
  },
  {
   "metadata": {},
   "cell_type": "markdown",
   "source": "## 0. Import the dependencies",
   "id": "b6cd48ce980255f3"
  },
  {
   "metadata": {
    "ExecuteTime": {
     "end_time": "2025-02-28T11:50:09.918894Z",
     "start_time": "2025-02-28T11:50:09.865409Z"
    }
   },
   "cell_type": "code",
   "source": [
    "import os\n",
    "\n",
    "import numpy as np # linear algebra\n",
    "import pandas as pd \n",
    "\n",
    "import seaborn as sns\n",
    "import matplotlib.pyplot as plt\n",
    "%matplotlib inline\n",
    "\n",
    "import warnings\n",
    "warnings.filterwarnings('ignore')"
   ],
   "id": "bc9ed387ed7d57ef",
   "outputs": [],
   "execution_count": 1
  },
  {
   "metadata": {
    "ExecuteTime": {
     "end_time": "2025-02-28T11:50:10.529971Z",
     "start_time": "2025-02-28T11:50:09.920521Z"
    }
   },
   "cell_type": "code",
   "source": [
    "from sklearn.model_selection import train_test_split\n",
    "from sklearn.preprocessing import MinMaxScaler, StandardScaler\n",
    "from sklearn.pipeline import Pipeline\n",
    "from sklearn.compose import ColumnTransformer\n",
    "from sklearn.preprocessing import LabelEncoder, OneHotEncoder\n",
    "from sklearn import metrics\n",
    "from sklearn.model_selection import RandomizedSearchCV\n",
    "from sklearn.linear_model import LinearRegression, Lasso, Ridge\n",
    "from sklearn.tree import DecisionTreeRegressor\n",
    "from sklearn.ensemble import RandomForestRegressor, GradientBoostingRegressor\n",
    "from xgboost import XGBRegressor\n",
    "from sklearn.svm import SVR\n",
    "from sklearn.neighbors import KNeighborsRegressor\n",
    "from sklearn import tree\n",
    "\n",
    "from sklearn.model_selection import GridSearchCV"
   ],
   "id": "38a974426925be49",
   "outputs": [],
   "execution_count": 2
  },
  {
   "metadata": {},
   "cell_type": "markdown",
   "source": "## 1. Load the data",
   "id": "b6db32b73ff7a1da"
  },
  {
   "metadata": {
    "ExecuteTime": {
     "end_time": "2025-02-28T11:51:02.877734Z",
     "start_time": "2025-02-28T11:51:02.836027Z"
    }
   },
   "cell_type": "code",
   "source": [
    "df = pd.read_csv(\"./src/laptop_price.csv\")\n",
    "df.head()"
   ],
   "id": "df2ddddf48931c34",
   "outputs": [
    {
     "data": {
      "text/plain": [
       "    brand processor_brand processor_name processor_gnrtn ram_gb ram_type  \\\n",
       "0    ASUS           Intel        Core i3            10th   4 GB     DDR4   \n",
       "1  Lenovo           Intel        Core i3            10th   4 GB     DDR4   \n",
       "2  Lenovo           Intel        Core i3            10th   4 GB     DDR4   \n",
       "3    ASUS           Intel        Core i5            10th   8 GB     DDR4   \n",
       "4    ASUS           Intel   Celeron Dual   Not Available   4 GB     DDR4   \n",
       "\n",
       "      ssd      hdd       os  os_bit graphic_card_gb  weight     warranty  \\\n",
       "0    0 GB  1024 GB  Windows  64-bit            0 GB  Casual  No warranty   \n",
       "1    0 GB  1024 GB  Windows  64-bit            0 GB  Casual  No warranty   \n",
       "2    0 GB  1024 GB  Windows  64-bit            0 GB  Casual  No warranty   \n",
       "3  512 GB     0 GB  Windows  32-bit            2 GB  Casual  No warranty   \n",
       "4    0 GB   512 GB  Windows  64-bit            0 GB  Casual  No warranty   \n",
       "\n",
       "  Touchscreen msoffice  Price   rating  Number of Ratings  Number of Reviews  \n",
       "0          No       No  34649  2 stars                  3                  0  \n",
       "1          No       No  38999  3 stars                 65                  5  \n",
       "2          No       No  39999  3 stars                  8                  1  \n",
       "3          No       No  69990  3 stars                  0                  0  \n",
       "4          No       No  26990  3 stars                  0                  0  "
      ],
      "text/html": [
       "<div>\n",
       "<style scoped>\n",
       "    .dataframe tbody tr th:only-of-type {\n",
       "        vertical-align: middle;\n",
       "    }\n",
       "\n",
       "    .dataframe tbody tr th {\n",
       "        vertical-align: top;\n",
       "    }\n",
       "\n",
       "    .dataframe thead th {\n",
       "        text-align: right;\n",
       "    }\n",
       "</style>\n",
       "<table border=\"1\" class=\"dataframe\">\n",
       "  <thead>\n",
       "    <tr style=\"text-align: right;\">\n",
       "      <th></th>\n",
       "      <th>brand</th>\n",
       "      <th>processor_brand</th>\n",
       "      <th>processor_name</th>\n",
       "      <th>processor_gnrtn</th>\n",
       "      <th>ram_gb</th>\n",
       "      <th>ram_type</th>\n",
       "      <th>ssd</th>\n",
       "      <th>hdd</th>\n",
       "      <th>os</th>\n",
       "      <th>os_bit</th>\n",
       "      <th>graphic_card_gb</th>\n",
       "      <th>weight</th>\n",
       "      <th>warranty</th>\n",
       "      <th>Touchscreen</th>\n",
       "      <th>msoffice</th>\n",
       "      <th>Price</th>\n",
       "      <th>rating</th>\n",
       "      <th>Number of Ratings</th>\n",
       "      <th>Number of Reviews</th>\n",
       "    </tr>\n",
       "  </thead>\n",
       "  <tbody>\n",
       "    <tr>\n",
       "      <th>0</th>\n",
       "      <td>ASUS</td>\n",
       "      <td>Intel</td>\n",
       "      <td>Core i3</td>\n",
       "      <td>10th</td>\n",
       "      <td>4 GB</td>\n",
       "      <td>DDR4</td>\n",
       "      <td>0 GB</td>\n",
       "      <td>1024 GB</td>\n",
       "      <td>Windows</td>\n",
       "      <td>64-bit</td>\n",
       "      <td>0 GB</td>\n",
       "      <td>Casual</td>\n",
       "      <td>No warranty</td>\n",
       "      <td>No</td>\n",
       "      <td>No</td>\n",
       "      <td>34649</td>\n",
       "      <td>2 stars</td>\n",
       "      <td>3</td>\n",
       "      <td>0</td>\n",
       "    </tr>\n",
       "    <tr>\n",
       "      <th>1</th>\n",
       "      <td>Lenovo</td>\n",
       "      <td>Intel</td>\n",
       "      <td>Core i3</td>\n",
       "      <td>10th</td>\n",
       "      <td>4 GB</td>\n",
       "      <td>DDR4</td>\n",
       "      <td>0 GB</td>\n",
       "      <td>1024 GB</td>\n",
       "      <td>Windows</td>\n",
       "      <td>64-bit</td>\n",
       "      <td>0 GB</td>\n",
       "      <td>Casual</td>\n",
       "      <td>No warranty</td>\n",
       "      <td>No</td>\n",
       "      <td>No</td>\n",
       "      <td>38999</td>\n",
       "      <td>3 stars</td>\n",
       "      <td>65</td>\n",
       "      <td>5</td>\n",
       "    </tr>\n",
       "    <tr>\n",
       "      <th>2</th>\n",
       "      <td>Lenovo</td>\n",
       "      <td>Intel</td>\n",
       "      <td>Core i3</td>\n",
       "      <td>10th</td>\n",
       "      <td>4 GB</td>\n",
       "      <td>DDR4</td>\n",
       "      <td>0 GB</td>\n",
       "      <td>1024 GB</td>\n",
       "      <td>Windows</td>\n",
       "      <td>64-bit</td>\n",
       "      <td>0 GB</td>\n",
       "      <td>Casual</td>\n",
       "      <td>No warranty</td>\n",
       "      <td>No</td>\n",
       "      <td>No</td>\n",
       "      <td>39999</td>\n",
       "      <td>3 stars</td>\n",
       "      <td>8</td>\n",
       "      <td>1</td>\n",
       "    </tr>\n",
       "    <tr>\n",
       "      <th>3</th>\n",
       "      <td>ASUS</td>\n",
       "      <td>Intel</td>\n",
       "      <td>Core i5</td>\n",
       "      <td>10th</td>\n",
       "      <td>8 GB</td>\n",
       "      <td>DDR4</td>\n",
       "      <td>512 GB</td>\n",
       "      <td>0 GB</td>\n",
       "      <td>Windows</td>\n",
       "      <td>32-bit</td>\n",
       "      <td>2 GB</td>\n",
       "      <td>Casual</td>\n",
       "      <td>No warranty</td>\n",
       "      <td>No</td>\n",
       "      <td>No</td>\n",
       "      <td>69990</td>\n",
       "      <td>3 stars</td>\n",
       "      <td>0</td>\n",
       "      <td>0</td>\n",
       "    </tr>\n",
       "    <tr>\n",
       "      <th>4</th>\n",
       "      <td>ASUS</td>\n",
       "      <td>Intel</td>\n",
       "      <td>Celeron Dual</td>\n",
       "      <td>Not Available</td>\n",
       "      <td>4 GB</td>\n",
       "      <td>DDR4</td>\n",
       "      <td>0 GB</td>\n",
       "      <td>512 GB</td>\n",
       "      <td>Windows</td>\n",
       "      <td>64-bit</td>\n",
       "      <td>0 GB</td>\n",
       "      <td>Casual</td>\n",
       "      <td>No warranty</td>\n",
       "      <td>No</td>\n",
       "      <td>No</td>\n",
       "      <td>26990</td>\n",
       "      <td>3 stars</td>\n",
       "      <td>0</td>\n",
       "      <td>0</td>\n",
       "    </tr>\n",
       "  </tbody>\n",
       "</table>\n",
       "</div>"
      ]
     },
     "execution_count": 3,
     "metadata": {},
     "output_type": "execute_result"
    }
   ],
   "execution_count": 3
  },
  {
   "metadata": {},
   "cell_type": "markdown",
   "source": "## 2. Preprocess the data",
   "id": "c038d32dd15f123d"
  },
  {
   "metadata": {
    "ExecuteTime": {
     "end_time": "2025-02-28T11:51:31.053592Z",
     "start_time": "2025-02-28T11:51:31.047590Z"
    }
   },
   "cell_type": "code",
   "source": "df.columns",
   "id": "585e372bccaa481",
   "outputs": [
    {
     "data": {
      "text/plain": [
       "Index(['brand', 'processor_brand', 'processor_name', 'processor_gnrtn',\n",
       "       'ram_gb', 'ram_type', 'ssd', 'hdd', 'os', 'os_bit', 'graphic_card_gb',\n",
       "       'weight', 'warranty', 'Touchscreen', 'msoffice', 'Price', 'rating',\n",
       "       'Number of Ratings', 'Number of Reviews'],\n",
       "      dtype='object')"
      ]
     },
     "execution_count": 4,
     "metadata": {},
     "output_type": "execute_result"
    }
   ],
   "execution_count": 4
  },
  {
   "metadata": {
    "ExecuteTime": {
     "end_time": "2025-02-28T11:51:48.538210Z",
     "start_time": "2025-02-28T11:51:48.532822Z"
    }
   },
   "cell_type": "code",
   "source": [
    "# select few feature to predict the price of laptop\n",
    "selected_columns = ['brand', 'processor_brand', 'processor_name', 'processor_gnrtn',\n",
    "                    'ram_gb', 'ram_type', 'ssd', 'hdd', 'os', 'os_bit', 'graphic_card_gb',\n",
    "                    'weight', 'warranty', 'Touchscreen', 'Price']\n",
    "df_train = df[selected_columns]"
   ],
   "id": "da668238e05aa0c",
   "outputs": [],
   "execution_count": 5
  },
  {
   "metadata": {
    "ExecuteTime": {
     "end_time": "2025-02-28T11:51:54.575178Z",
     "start_time": "2025-02-28T11:51:54.569845Z"
    }
   },
   "cell_type": "code",
   "source": [
    "# check Null values in data column\n",
    "print(df_train.isnull().sum())"
   ],
   "id": "db1f8aa78291e37d",
   "outputs": [
    {
     "name": "stdout",
     "output_type": "stream",
     "text": [
      "brand              0\n",
      "processor_brand    0\n",
      "processor_name     0\n",
      "processor_gnrtn    0\n",
      "ram_gb             0\n",
      "ram_type           0\n",
      "ssd                0\n",
      "hdd                0\n",
      "os                 0\n",
      "os_bit             0\n",
      "graphic_card_gb    0\n",
      "weight             0\n",
      "warranty           0\n",
      "Touchscreen        0\n",
      "Price              0\n",
      "dtype: int64\n"
     ]
    }
   ],
   "execution_count": 6
  },
  {
   "metadata": {
    "ExecuteTime": {
     "end_time": "2025-02-28T11:52:05.953078Z",
     "start_time": "2025-02-28T11:52:05.941306Z"
    }
   },
   "cell_type": "code",
   "source": [
    "# checking for duplicated rows\n",
    "df_train.duplicated().sum()"
   ],
   "id": "2b62d88f3853703e",
   "outputs": [
    {
     "data": {
      "text/plain": [
       "np.int64(41)"
      ]
     },
     "execution_count": 7,
     "metadata": {},
     "output_type": "execute_result"
    }
   ],
   "execution_count": 7
  },
  {
   "metadata": {
    "ExecuteTime": {
     "end_time": "2025-02-28T11:52:13.422993Z",
     "start_time": "2025-02-28T11:52:13.412794Z"
    }
   },
   "cell_type": "code",
   "source": [
    "# check overview of columns, their data types, and non-null counts.\n",
    "df_train.info()"
   ],
   "id": "389b3829166814df",
   "outputs": [
    {
     "name": "stdout",
     "output_type": "stream",
     "text": [
      "<class 'pandas.core.frame.DataFrame'>\n",
      "RangeIndex: 823 entries, 0 to 822\n",
      "Data columns (total 15 columns):\n",
      " #   Column           Non-Null Count  Dtype \n",
      "---  ------           --------------  ----- \n",
      " 0   brand            823 non-null    object\n",
      " 1   processor_brand  823 non-null    object\n",
      " 2   processor_name   823 non-null    object\n",
      " 3   processor_gnrtn  823 non-null    object\n",
      " 4   ram_gb           823 non-null    object\n",
      " 5   ram_type         823 non-null    object\n",
      " 6   ssd              823 non-null    object\n",
      " 7   hdd              823 non-null    object\n",
      " 8   os               823 non-null    object\n",
      " 9   os_bit           823 non-null    object\n",
      " 10  graphic_card_gb  823 non-null    object\n",
      " 11  weight           823 non-null    object\n",
      " 12  warranty         823 non-null    object\n",
      " 13  Touchscreen      823 non-null    object\n",
      " 14  Price            823 non-null    int64 \n",
      "dtypes: int64(1), object(14)\n",
      "memory usage: 96.6+ KB\n"
     ]
    }
   ],
   "execution_count": 8
  },
  {
   "metadata": {
    "ExecuteTime": {
     "end_time": "2025-02-28T11:53:41.898158Z",
     "start_time": "2025-02-28T11:53:41.892257Z"
    }
   },
   "cell_type": "code",
   "source": [
    "# make to different variables for categorical and numerical feature identification\n",
    "cat_val = df_train.select_dtypes(include=['object']).columns\n",
    "num_val = df_train.select_dtypes(include=['int', \"float\"]).columns\n",
    "\n",
    "print(cat_val,'\\n',num_val)"
   ],
   "id": "a3b28076323cc7f1",
   "outputs": [
    {
     "name": "stdout",
     "output_type": "stream",
     "text": [
      "Index(['brand', 'processor_brand', 'processor_name', 'processor_gnrtn',\n",
      "       'ram_gb', 'ram_type', 'ssd', 'hdd', 'os', 'os_bit', 'graphic_card_gb',\n",
      "       'weight', 'warranty', 'Touchscreen'],\n",
      "      dtype='object') \n",
      " Index(['Price'], dtype='object')\n"
     ]
    }
   ],
   "execution_count": 10
  },
  {
   "metadata": {
    "ExecuteTime": {
     "end_time": "2025-02-28T11:53:54.424261Z",
     "start_time": "2025-02-28T11:53:54.417170Z"
    }
   },
   "cell_type": "code",
   "source": [
    "# check all unique values in features\n",
    "for column in df_train.columns:\n",
    "    unique_values = df_train[column].unique()\n",
    "    print(f\"Unique values in column '{column}': {unique_values}\")"
   ],
   "id": "1643f42615ad0ed2",
   "outputs": [
    {
     "name": "stdout",
     "output_type": "stream",
     "text": [
      "Unique values in column 'brand': ['ASUS' 'Lenovo' 'acer' 'Avita' 'HP' 'DELL' 'MSI' 'APPLE']\n",
      "Unique values in column 'processor_brand': ['Intel' 'AMD' 'M1']\n",
      "Unique values in column 'processor_name': ['Core i3' 'Core i5' 'Celeron Dual' 'Ryzen 5' 'Core i7' 'Core i9' 'M1'\n",
      " 'Pentium Quad' 'Ryzen 3' 'Ryzen 7' 'Ryzen 9']\n",
      "Unique values in column 'processor_gnrtn': ['10th' 'Not Available' '11th' '7th' '8th' '9th' '4th' '12th']\n",
      "Unique values in column 'ram_gb': ['4 GB' '8 GB' '16 GB' '32 GB']\n",
      "Unique values in column 'ram_type': ['DDR4' 'LPDDR4' 'LPDDR4X' 'DDR5' 'DDR3' 'LPDDR3']\n",
      "Unique values in column 'ssd': ['0 GB' '512 GB' '256 GB' '128 GB' '1024 GB' '2048 GB' '3072 GB']\n",
      "Unique values in column 'hdd': ['1024 GB' '0 GB' '512 GB' '2048 GB']\n",
      "Unique values in column 'os': ['Windows' 'DOS' 'Mac']\n",
      "Unique values in column 'os_bit': ['64-bit' '32-bit']\n",
      "Unique values in column 'graphic_card_gb': ['0 GB' '2 GB' '4 GB' '6 GB' '8 GB']\n",
      "Unique values in column 'weight': ['Casual' 'ThinNlight' 'Gaming']\n",
      "Unique values in column 'warranty': ['No warranty' '1 year' '2 years' '3 years']\n",
      "Unique values in column 'Touchscreen': ['No' 'Yes']\n",
      "Unique values in column 'Price': [ 34649  38999  39999  69990  26990  22990  21990  58799  49999  59990\n",
      "  93700  72990  17490  35990  56490  65390  31999  32490  31799  29890\n",
      "  23990  32955  46200  34429  37990  33980  39990  39490  53990  38990\n",
      "  37890  41990  45990  42490  36990  38940  42990  49990  41490  38490\n",
      "  44990  36490  38970  44900  44427  40200  40990  71999  41998  39998\n",
      "  48490  44376  43900  46690  43990  48500  48990  23490  54238  51990\n",
      "  43970  54990  41250  60790  45650  45490  38799  69267  51649  47990\n",
      "  44890  50990  48900  41790  57999  45930  55490  32890  42190  43690\n",
      "  43800  34990  38900  40890  39790  35590  33990  43400  24990  40750\n",
      "  43000  38000  49279  41500  36999  42900  21490  41480  32990  38680\n",
      "  40390  20490  44490  41890  43590  44690  41390  44290  48999  46390\n",
      "  18990  17990  26470  27990  29999  25990  16990 119990  94190 106167\n",
      "  68090 139990  55990 102551  46990  76012  49490  86867  81998 136590\n",
      "  59490  49800  61999  52990  67990  57990  62300  61990  63990  65990\n",
      "  71990  76990  89990  71890  64990  55999  73490  74490  58340  82990\n",
      "  64190  70090  97990  66999  60990  59999  79990  69490  89390  74990\n",
      "  66490  89702  70990  58990  57500  56541  61290  84990  72500  87990\n",
      "  68990  77990 105990 111890  71090  53400  74500 114990 159990 172090\n",
      " 147000 106490 111999  70798  99500  62998  88990 113590  73990  61000\n",
      "  99990  70799  53690  53190  58999  82000  89998  69899  76300  72900\n",
      "  73519 126000 114999 109999 129999 149990  71290  79500  70980  94000\n",
      "  85990  86990  91999  78900 132790  65556  70190  79590  86999  78000\n",
      "  73063 100990  75990  84086 179990  84500  74190 155411 125394  52490\n",
      "  56990  58090  61597  81990  61249  83990 291190 145990  46790  44599\n",
      "  72964  48790  56491  62490  60190  54490  55790  69900  74590  77900\n",
      "  67490  74999  68900  71695  62317 207290  93190  94990 102990 104000\n",
      "  90190  88488 109990 239759  78990 121890  92000 162990 135300 174527\n",
      " 162299 109190  99999 104990 244801  86000 162399 119599 211753 110999\n",
      "  66990 134990  98990 144690 194990 124990 122410 154990 122990 224990\n",
      " 279990 121990 116990 151098 129990 149999 171990  93955 234990 128500\n",
      " 120980 157249 229900 131500 165990 167990 165000  62990 136990 233990\n",
      "  93990 116941  82500  98912  92990 169990 192990 299990 269990 265998\n",
      " 441990 109590 146490 112990 132990 125990 103990 101990 131990 128990\n",
      " 184990 225990 243990 309990  58100  30990  36000  30780  33690  40590\n",
      "  34500  43490  42090  37390  52632  32917  41999  44390  49970  47490\n",
      "  67500  62450  98020  49890  73999  76190  74798  68100  55090  91990\n",
      "  84208  53490  76498  98920  52380  52500  75999  80990  59900  54590\n",
      "  75500  51890  57900  81978  68500  80000  75100 106990  81490  84988\n",
      "  90990  72400 111990 109000  78988  73138  89570  73400  84190  95990\n",
      " 130990  77988  76000 111000  84970  80490 135990 199990 146990 141990\n",
      " 142990 130500 138990 144990  57490]\n"
     ]
    }
   ],
   "execution_count": 11
  },
  {
   "metadata": {
    "ExecuteTime": {
     "end_time": "2025-02-28T11:55:48.747113Z",
     "start_time": "2025-02-28T11:55:48.722009Z"
    }
   },
   "cell_type": "code",
   "source": [
    "# Removed units ('GB', 'years', 'bit', etc.) from certain columns using string manipulation (str.replace) \n",
    "# and transformed them into appropriate numeric types (astype or pd.to_numeric)\n",
    "df_train['ram_gb'] = df_train['ram_gb'].str.replace('GB','')\n",
    "df_train['ssd'] = df_train['ssd'].str.replace('GB','')\n",
    "df_train['hdd'] = df_train['hdd'].str.replace('GB','')\n",
    "df_train['graphic_card_gb'] = df_train['graphic_card_gb'].str.replace('GB','')\n",
    "df_train['os_bit'] = df_train['os_bit'].str.replace('-bit','')\n",
    "df_train['warranty'] = df_train['warranty'].str.replace(r'\\byears?\\b', '', regex=True)\n",
    "df_train['processor_gnrtn'] = df_train['processor_gnrtn'].str.replace('th','')\n",
    "\n",
    "\n",
    "df_train['ram_gb'] = df_train['ram_gb'].astype('int32')\n",
    "df_train['ssd'] = df_train['ssd'].astype('int32')\n",
    "df_train['hdd'] = df_train['hdd'].astype('int32')\n",
    "df_train['graphic_card_gb'] = df_train['graphic_card_gb'].astype('int32')\n",
    "df_train['os_bit'] = df_train['os_bit'].astype('int32')\n",
    "\n",
    "df_train.head()"
   ],
   "id": "b53f9f0868051e1b",
   "outputs": [
    {
     "data": {
      "text/plain": [
       "    brand processor_brand processor_name processor_gnrtn  ram_gb ram_type  \\\n",
       "0    ASUS           Intel        Core i3              10       4     DDR4   \n",
       "1  Lenovo           Intel        Core i3              10       4     DDR4   \n",
       "2  Lenovo           Intel        Core i3              10       4     DDR4   \n",
       "3    ASUS           Intel        Core i5              10       8     DDR4   \n",
       "4    ASUS           Intel   Celeron Dual   Not Available       4     DDR4   \n",
       "\n",
       "   ssd   hdd       os  os_bit  graphic_card_gb  weight     warranty  \\\n",
       "0    0  1024  Windows      64                0  Casual  No warranty   \n",
       "1    0  1024  Windows      64                0  Casual  No warranty   \n",
       "2    0  1024  Windows      64                0  Casual  No warranty   \n",
       "3  512     0  Windows      32                2  Casual  No warranty   \n",
       "4    0   512  Windows      64                0  Casual  No warranty   \n",
       "\n",
       "  Touchscreen  Price  \n",
       "0          No  34649  \n",
       "1          No  38999  \n",
       "2          No  39999  \n",
       "3          No  69990  \n",
       "4          No  26990  "
      ],
      "text/html": [
       "<div>\n",
       "<style scoped>\n",
       "    .dataframe tbody tr th:only-of-type {\n",
       "        vertical-align: middle;\n",
       "    }\n",
       "\n",
       "    .dataframe tbody tr th {\n",
       "        vertical-align: top;\n",
       "    }\n",
       "\n",
       "    .dataframe thead th {\n",
       "        text-align: right;\n",
       "    }\n",
       "</style>\n",
       "<table border=\"1\" class=\"dataframe\">\n",
       "  <thead>\n",
       "    <tr style=\"text-align: right;\">\n",
       "      <th></th>\n",
       "      <th>brand</th>\n",
       "      <th>processor_brand</th>\n",
       "      <th>processor_name</th>\n",
       "      <th>processor_gnrtn</th>\n",
       "      <th>ram_gb</th>\n",
       "      <th>ram_type</th>\n",
       "      <th>ssd</th>\n",
       "      <th>hdd</th>\n",
       "      <th>os</th>\n",
       "      <th>os_bit</th>\n",
       "      <th>graphic_card_gb</th>\n",
       "      <th>weight</th>\n",
       "      <th>warranty</th>\n",
       "      <th>Touchscreen</th>\n",
       "      <th>Price</th>\n",
       "    </tr>\n",
       "  </thead>\n",
       "  <tbody>\n",
       "    <tr>\n",
       "      <th>0</th>\n",
       "      <td>ASUS</td>\n",
       "      <td>Intel</td>\n",
       "      <td>Core i3</td>\n",
       "      <td>10</td>\n",
       "      <td>4</td>\n",
       "      <td>DDR4</td>\n",
       "      <td>0</td>\n",
       "      <td>1024</td>\n",
       "      <td>Windows</td>\n",
       "      <td>64</td>\n",
       "      <td>0</td>\n",
       "      <td>Casual</td>\n",
       "      <td>No warranty</td>\n",
       "      <td>No</td>\n",
       "      <td>34649</td>\n",
       "    </tr>\n",
       "    <tr>\n",
       "      <th>1</th>\n",
       "      <td>Lenovo</td>\n",
       "      <td>Intel</td>\n",
       "      <td>Core i3</td>\n",
       "      <td>10</td>\n",
       "      <td>4</td>\n",
       "      <td>DDR4</td>\n",
       "      <td>0</td>\n",
       "      <td>1024</td>\n",
       "      <td>Windows</td>\n",
       "      <td>64</td>\n",
       "      <td>0</td>\n",
       "      <td>Casual</td>\n",
       "      <td>No warranty</td>\n",
       "      <td>No</td>\n",
       "      <td>38999</td>\n",
       "    </tr>\n",
       "    <tr>\n",
       "      <th>2</th>\n",
       "      <td>Lenovo</td>\n",
       "      <td>Intel</td>\n",
       "      <td>Core i3</td>\n",
       "      <td>10</td>\n",
       "      <td>4</td>\n",
       "      <td>DDR4</td>\n",
       "      <td>0</td>\n",
       "      <td>1024</td>\n",
       "      <td>Windows</td>\n",
       "      <td>64</td>\n",
       "      <td>0</td>\n",
       "      <td>Casual</td>\n",
       "      <td>No warranty</td>\n",
       "      <td>No</td>\n",
       "      <td>39999</td>\n",
       "    </tr>\n",
       "    <tr>\n",
       "      <th>3</th>\n",
       "      <td>ASUS</td>\n",
       "      <td>Intel</td>\n",
       "      <td>Core i5</td>\n",
       "      <td>10</td>\n",
       "      <td>8</td>\n",
       "      <td>DDR4</td>\n",
       "      <td>512</td>\n",
       "      <td>0</td>\n",
       "      <td>Windows</td>\n",
       "      <td>32</td>\n",
       "      <td>2</td>\n",
       "      <td>Casual</td>\n",
       "      <td>No warranty</td>\n",
       "      <td>No</td>\n",
       "      <td>69990</td>\n",
       "    </tr>\n",
       "    <tr>\n",
       "      <th>4</th>\n",
       "      <td>ASUS</td>\n",
       "      <td>Intel</td>\n",
       "      <td>Celeron Dual</td>\n",
       "      <td>Not Available</td>\n",
       "      <td>4</td>\n",
       "      <td>DDR4</td>\n",
       "      <td>0</td>\n",
       "      <td>512</td>\n",
       "      <td>Windows</td>\n",
       "      <td>64</td>\n",
       "      <td>0</td>\n",
       "      <td>Casual</td>\n",
       "      <td>No warranty</td>\n",
       "      <td>No</td>\n",
       "      <td>26990</td>\n",
       "    </tr>\n",
       "  </tbody>\n",
       "</table>\n",
       "</div>"
      ]
     },
     "execution_count": 12,
     "metadata": {},
     "output_type": "execute_result"
    }
   ],
   "execution_count": 12
  },
  {
   "metadata": {
    "ExecuteTime": {
     "end_time": "2025-02-28T11:56:36.606282Z",
     "start_time": "2025-02-28T11:56:36.600774Z"
    }
   },
   "cell_type": "code",
   "source": [
    "# Convert to numeric, 'Not Available' becomes NaN\n",
    "df_train['processor_gnrtn'] = pd.to_numeric(df_train['processor_gnrtn'], errors='coerce')  # Convert to numeric, 'Not Available' becomes NaN\n",
    "median_value = df_train['processor_gnrtn'].median()"
   ],
   "id": "40a0a5e71602b0e4",
   "outputs": [],
   "execution_count": 13
  },
  {
   "metadata": {
    "ExecuteTime": {
     "end_time": "2025-02-28T11:56:42.916835Z",
     "start_time": "2025-02-28T11:56:42.911918Z"
    }
   },
   "cell_type": "code",
   "source": [
    "df_train['processor_gnrtn'].fillna(median_value, inplace=True)\n",
    "df_train['processor_gnrtn'] = df_train['processor_gnrtn'].astype(int)"
   ],
   "id": "748c1589fbfaa944",
   "outputs": [],
   "execution_count": 14
  },
  {
   "metadata": {
    "ExecuteTime": {
     "end_time": "2025-02-28T11:57:06.857363Z",
     "start_time": "2025-02-28T11:57:06.847057Z"
    }
   },
   "cell_type": "code",
   "source": "df_train.head()",
   "id": "af2c8d45d30eb6c4",
   "outputs": [
    {
     "data": {
      "text/plain": [
       "    brand processor_brand processor_name  processor_gnrtn  ram_gb ram_type  \\\n",
       "0    ASUS           Intel        Core i3               10       4     DDR4   \n",
       "1  Lenovo           Intel        Core i3               10       4     DDR4   \n",
       "2  Lenovo           Intel        Core i3               10       4     DDR4   \n",
       "3    ASUS           Intel        Core i5               10       8     DDR4   \n",
       "4    ASUS           Intel   Celeron Dual               11       4     DDR4   \n",
       "\n",
       "   ssd   hdd       os  os_bit  graphic_card_gb  weight     warranty  \\\n",
       "0    0  1024  Windows      64                0  Casual  No warranty   \n",
       "1    0  1024  Windows      64                0  Casual  No warranty   \n",
       "2    0  1024  Windows      64                0  Casual  No warranty   \n",
       "3  512     0  Windows      32                2  Casual  No warranty   \n",
       "4    0   512  Windows      64                0  Casual  No warranty   \n",
       "\n",
       "  Touchscreen  Price  \n",
       "0          No  34649  \n",
       "1          No  38999  \n",
       "2          No  39999  \n",
       "3          No  69990  \n",
       "4          No  26990  "
      ],
      "text/html": [
       "<div>\n",
       "<style scoped>\n",
       "    .dataframe tbody tr th:only-of-type {\n",
       "        vertical-align: middle;\n",
       "    }\n",
       "\n",
       "    .dataframe tbody tr th {\n",
       "        vertical-align: top;\n",
       "    }\n",
       "\n",
       "    .dataframe thead th {\n",
       "        text-align: right;\n",
       "    }\n",
       "</style>\n",
       "<table border=\"1\" class=\"dataframe\">\n",
       "  <thead>\n",
       "    <tr style=\"text-align: right;\">\n",
       "      <th></th>\n",
       "      <th>brand</th>\n",
       "      <th>processor_brand</th>\n",
       "      <th>processor_name</th>\n",
       "      <th>processor_gnrtn</th>\n",
       "      <th>ram_gb</th>\n",
       "      <th>ram_type</th>\n",
       "      <th>ssd</th>\n",
       "      <th>hdd</th>\n",
       "      <th>os</th>\n",
       "      <th>os_bit</th>\n",
       "      <th>graphic_card_gb</th>\n",
       "      <th>weight</th>\n",
       "      <th>warranty</th>\n",
       "      <th>Touchscreen</th>\n",
       "      <th>Price</th>\n",
       "    </tr>\n",
       "  </thead>\n",
       "  <tbody>\n",
       "    <tr>\n",
       "      <th>0</th>\n",
       "      <td>ASUS</td>\n",
       "      <td>Intel</td>\n",
       "      <td>Core i3</td>\n",
       "      <td>10</td>\n",
       "      <td>4</td>\n",
       "      <td>DDR4</td>\n",
       "      <td>0</td>\n",
       "      <td>1024</td>\n",
       "      <td>Windows</td>\n",
       "      <td>64</td>\n",
       "      <td>0</td>\n",
       "      <td>Casual</td>\n",
       "      <td>No warranty</td>\n",
       "      <td>No</td>\n",
       "      <td>34649</td>\n",
       "    </tr>\n",
       "    <tr>\n",
       "      <th>1</th>\n",
       "      <td>Lenovo</td>\n",
       "      <td>Intel</td>\n",
       "      <td>Core i3</td>\n",
       "      <td>10</td>\n",
       "      <td>4</td>\n",
       "      <td>DDR4</td>\n",
       "      <td>0</td>\n",
       "      <td>1024</td>\n",
       "      <td>Windows</td>\n",
       "      <td>64</td>\n",
       "      <td>0</td>\n",
       "      <td>Casual</td>\n",
       "      <td>No warranty</td>\n",
       "      <td>No</td>\n",
       "      <td>38999</td>\n",
       "    </tr>\n",
       "    <tr>\n",
       "      <th>2</th>\n",
       "      <td>Lenovo</td>\n",
       "      <td>Intel</td>\n",
       "      <td>Core i3</td>\n",
       "      <td>10</td>\n",
       "      <td>4</td>\n",
       "      <td>DDR4</td>\n",
       "      <td>0</td>\n",
       "      <td>1024</td>\n",
       "      <td>Windows</td>\n",
       "      <td>64</td>\n",
       "      <td>0</td>\n",
       "      <td>Casual</td>\n",
       "      <td>No warranty</td>\n",
       "      <td>No</td>\n",
       "      <td>39999</td>\n",
       "    </tr>\n",
       "    <tr>\n",
       "      <th>3</th>\n",
       "      <td>ASUS</td>\n",
       "      <td>Intel</td>\n",
       "      <td>Core i5</td>\n",
       "      <td>10</td>\n",
       "      <td>8</td>\n",
       "      <td>DDR4</td>\n",
       "      <td>512</td>\n",
       "      <td>0</td>\n",
       "      <td>Windows</td>\n",
       "      <td>32</td>\n",
       "      <td>2</td>\n",
       "      <td>Casual</td>\n",
       "      <td>No warranty</td>\n",
       "      <td>No</td>\n",
       "      <td>69990</td>\n",
       "    </tr>\n",
       "    <tr>\n",
       "      <th>4</th>\n",
       "      <td>ASUS</td>\n",
       "      <td>Intel</td>\n",
       "      <td>Celeron Dual</td>\n",
       "      <td>11</td>\n",
       "      <td>4</td>\n",
       "      <td>DDR4</td>\n",
       "      <td>0</td>\n",
       "      <td>512</td>\n",
       "      <td>Windows</td>\n",
       "      <td>64</td>\n",
       "      <td>0</td>\n",
       "      <td>Casual</td>\n",
       "      <td>No warranty</td>\n",
       "      <td>No</td>\n",
       "      <td>26990</td>\n",
       "    </tr>\n",
       "  </tbody>\n",
       "</table>\n",
       "</div>"
      ]
     },
     "execution_count": 15,
     "metadata": {},
     "output_type": "execute_result"
    }
   ],
   "execution_count": 15
  },
  {
   "metadata": {
    "ExecuteTime": {
     "end_time": "2025-02-28T11:57:07.584473Z",
     "start_time": "2025-02-28T11:57:07.576292Z"
    }
   },
   "cell_type": "code",
   "source": "df_train.info()",
   "id": "516b22ac809773d2",
   "outputs": [
    {
     "name": "stdout",
     "output_type": "stream",
     "text": [
      "<class 'pandas.core.frame.DataFrame'>\n",
      "RangeIndex: 823 entries, 0 to 822\n",
      "Data columns (total 15 columns):\n",
      " #   Column           Non-Null Count  Dtype \n",
      "---  ------           --------------  ----- \n",
      " 0   brand            823 non-null    object\n",
      " 1   processor_brand  823 non-null    object\n",
      " 2   processor_name   823 non-null    object\n",
      " 3   processor_gnrtn  823 non-null    int64 \n",
      " 4   ram_gb           823 non-null    int32 \n",
      " 5   ram_type         823 non-null    object\n",
      " 6   ssd              823 non-null    int32 \n",
      " 7   hdd              823 non-null    int32 \n",
      " 8   os               823 non-null    object\n",
      " 9   os_bit           823 non-null    int32 \n",
      " 10  graphic_card_gb  823 non-null    int32 \n",
      " 11  weight           823 non-null    object\n",
      " 12  warranty         823 non-null    object\n",
      " 13  Touchscreen      823 non-null    object\n",
      " 14  Price            823 non-null    int64 \n",
      "dtypes: int32(5), int64(2), object(8)\n",
      "memory usage: 80.5+ KB\n"
     ]
    }
   ],
   "execution_count": 16
  },
  {
   "metadata": {
    "ExecuteTime": {
     "end_time": "2025-02-28T11:57:08.408315Z",
     "start_time": "2025-02-28T11:57:08.401219Z"
    }
   },
   "cell_type": "code",
   "source": "df_train.isnull().sum()",
   "id": "4fab350b6b827f74",
   "outputs": [
    {
     "data": {
      "text/plain": [
       "brand              0\n",
       "processor_brand    0\n",
       "processor_name     0\n",
       "processor_gnrtn    0\n",
       "ram_gb             0\n",
       "ram_type           0\n",
       "ssd                0\n",
       "hdd                0\n",
       "os                 0\n",
       "os_bit             0\n",
       "graphic_card_gb    0\n",
       "weight             0\n",
       "warranty           0\n",
       "Touchscreen        0\n",
       "Price              0\n",
       "dtype: int64"
      ]
     },
     "execution_count": 17,
     "metadata": {},
     "output_type": "execute_result"
    }
   ],
   "execution_count": 17
  },
  {
   "metadata": {},
   "cell_type": "markdown",
   "source": "## 3. Do data visualization",
   "id": "c28149287e55b130"
  },
  {
   "metadata": {
    "ExecuteTime": {
     "end_time": "2025-02-28T11:57:47.411463Z",
     "start_time": "2025-02-28T11:57:46.992618Z"
    }
   },
   "cell_type": "code",
   "source": "sns.displot(df['Price'],color='blue')",
   "id": "5b1a9b41db11d91c",
   "outputs": [
    {
     "data": {
      "text/plain": [
       "<seaborn.axisgrid.FacetGrid at 0x1b01e713250>"
      ]
     },
     "execution_count": 18,
     "metadata": {},
     "output_type": "execute_result"
    },
    {
     "data": {
      "text/plain": [
       "<Figure size 500x500 with 1 Axes>"
      ],
      "image/png": "[encoded data removed]"
     },
     "metadata": {},
     "output_type": "display_data"
    }
   ],
   "execution_count": 18
  },
  {
   "metadata": {
    "ExecuteTime": {
     "end_time": "2025-02-28T11:57:50.532590Z",
     "start_time": "2025-02-28T11:57:49.845672Z"
    }
   },
   "cell_type": "code",
   "source": [
    "def dataplot(col):\n",
    "    plt.figure(figsize= (10,6))\n",
    "    sns.countplot(data = df_train, x=col, palette = 'plasma')\n",
    "    plt.xticks(rotation = 'vertical')\n",
    "    plt.show()\n",
    "    \n",
    "features = ['brand', 'ram_gb', 'processor_name', 'processor_gnrtn', 'os']\n",
    "\n",
    "for col in features:\n",
    "    dataplot(col)"
   ],
   "id": "36b22a696c14a7",
   "outputs": [
    {
     "data": {
      "text/plain": [
       "<Figure size 1000x600 with 1 Axes>"
      ],
      "image/png": "[encoded data removed]"
     },
     "metadata": {},
     "output_type": "display_data"
    },
    {
     "data": {
      "text/plain": [
       "<Figure size 1000x600 with 1 Axes>"
      ],
      "image/png": "[encoded data removed]"
     },
     "metadata": {},
     "output_type": "display_data"
    },
    {
     "data": {
      "text/plain": [
       "<Figure size 1000x600 with 1 Axes>"
      ],
      "image/png": "[encoded data removed]"
     },
     "metadata": {},
     "output_type": "display_data"
    },
    {
     "data": {
      "text/plain": [
       "<Figure size 1000x600 with 1 Axes>"
      ],
      "image/png": "[encoded data removed]"
     },
     "metadata": {},
     "output_type": "display_data"
    },
    {
     "data": {
      "text/plain": [
       "<Figure size 1000x600 with 1 Axes>"
      ],
      "image/png": "[encoded data removed]"
     },
     "metadata": {},
     "output_type": "display_data"
    }
   ],
   "execution_count": 19
  },
  {
   "metadata": {
    "ExecuteTime": {
     "end_time": "2025-02-28T11:58:33.332295Z",
     "start_time": "2025-02-28T11:58:33.057570Z"
    }
   },
   "cell_type": "code",
   "source": [
    "plt.figure(figsize=(15,7))\n",
    "sns.barplot(x = df_train['brand'], y=df_train['Price'])\n",
    "plt.xticks(rotation = 'vertical')\n",
    "plt.show()"
   ],
   "id": "2798e4e1337fa343",
   "outputs": [
    {
     "data": {
      "text/plain": [
       "<Figure size 1500x700 with 1 Axes>"
      ],
      "image/png": "[encoded data removed]"
     },
     "metadata": {},
     "output_type": "display_data"
    }
   ],
   "execution_count": 20
  },
  {
   "metadata": {},
   "cell_type": "markdown",
   "source": "### Visualize the Touchscreen feature",
   "id": "4c34e38cbabcb843"
  },
  {
   "metadata": {
    "ExecuteTime": {
     "end_time": "2025-02-28T11:59:04.288134Z",
     "start_time": "2025-02-28T11:59:04.173548Z"
    }
   },
   "cell_type": "code",
   "source": "sns.countplot(df_train, x =df_train['Touchscreen'],palette='plasma')",
   "id": "4b85455710b4e8a8",
   "outputs": [
    {
     "data": {
      "text/plain": [
       "<Axes: xlabel='Touchscreen', ylabel='count'>"
      ]
     },
     "execution_count": 21,
     "metadata": {},
     "output_type": "execute_result"
    },
    {
     "data": {
      "text/plain": [
       "<Figure size 640x480 with 1 Axes>"
      ],
      "image/png": "[encoded data removed]"
     },
     "metadata": {},
     "output_type": "display_data"
    }
   ],
   "execution_count": 21
  },
  {
   "metadata": {
    "ExecuteTime": {
     "end_time": "2025-02-28T11:59:04.906890Z",
     "start_time": "2025-02-28T11:59:04.765114Z"
    }
   },
   "cell_type": "code",
   "source": "sns.barplot(x = df_train['Touchscreen'], y= df_train['Price'])",
   "id": "a25a1ea0c57ad18d",
   "outputs": [
    {
     "data": {
      "text/plain": [
       "<Axes: xlabel='Touchscreen', ylabel='Price'>"
      ]
     },
     "execution_count": 22,
     "metadata": {},
     "output_type": "execute_result"
    },
    {
     "data": {
      "text/plain": [
       "<Figure size 640x480 with 1 Axes>"
      ],
      "image/png": "[encoded data removed]"
     },
     "metadata": {},
     "output_type": "display_data"
    }
   ],
   "execution_count": 22
  },
  {
   "metadata": {},
   "cell_type": "markdown",
   "source": "### Visualize the Warranty feature",
   "id": "bc37857f2c56da7a"
  },
  {
   "metadata": {
    "ExecuteTime": {
     "end_time": "2025-02-28T11:59:19.448714Z",
     "start_time": "2025-02-28T11:59:19.318401Z"
    }
   },
   "cell_type": "code",
   "source": "sns.countplot(df_train, x =df_train['warranty'],palette='plasma')",
   "id": "fb745bb991f5262c",
   "outputs": [
    {
     "data": {
      "text/plain": [
       "<Axes: xlabel='warranty', ylabel='count'>"
      ]
     },
     "execution_count": 23,
     "metadata": {},
     "output_type": "execute_result"
    },
    {
     "data": {
      "text/plain": [
       "<Figure size 640x480 with 1 Axes>"
      ],
      "image/png": "[encoded data removed]"
     },
     "metadata": {},
     "output_type": "display_data"
    }
   ],
   "execution_count": 23
  },
  {
   "metadata": {
    "ExecuteTime": {
     "end_time": "2025-02-28T11:59:20.280807Z",
     "start_time": "2025-02-28T11:59:20.062580Z"
    }
   },
   "cell_type": "code",
   "source": "sns.barplot(x = df_train['warranty'], y= df_train['Price'])",
   "id": "d661e16d6454705e",
   "outputs": [
    {
     "data": {
      "text/plain": [
       "<Axes: xlabel='warranty', ylabel='Price'>"
      ]
     },
     "execution_count": 24,
     "metadata": {},
     "output_type": "execute_result"
    },
    {
     "data": {
      "text/plain": [
       "<Figure size 640x480 with 1 Axes>"
      ],
      "image/png": "[encoded data removed]"
     },
     "metadata": {},
     "output_type": "display_data"
    }
   ],
   "execution_count": 24
  },
  {
   "metadata": {},
   "cell_type": "markdown",
   "source": "### Visualize the Weight feature",
   "id": "9c73c43661418f1"
  },
  {
   "metadata": {
    "ExecuteTime": {
     "end_time": "2025-02-28T11:59:25.755211Z",
     "start_time": "2025-02-28T11:59:25.613207Z"
    }
   },
   "cell_type": "code",
   "source": "sns.countplot(df_train, x =df_train['weight'],palette='plasma')",
   "id": "aee3f64c64ce05a1",
   "outputs": [
    {
     "data": {
      "text/plain": [
       "<Axes: xlabel='weight', ylabel='count'>"
      ]
     },
     "execution_count": 25,
     "metadata": {},
     "output_type": "execute_result"
    },
    {
     "data": {
      "text/plain": [
       "<Figure size 640x480 with 1 Axes>"
      ],
      "image/png": "[encoded data removed]"
     },
     "metadata": {},
     "output_type": "display_data"
    }
   ],
   "execution_count": 25
  },
  {
   "metadata": {
    "ExecuteTime": {
     "end_time": "2025-02-28T11:59:26.309215Z",
     "start_time": "2025-02-28T11:59:26.132851Z"
    }
   },
   "cell_type": "code",
   "source": "sns.barplot(x = df_train['weight'], y= df_train['Price'])",
   "id": "f4d60fbf3c494101",
   "outputs": [
    {
     "data": {
      "text/plain": [
       "<Axes: xlabel='weight', ylabel='Price'>"
      ]
     },
     "execution_count": 26,
     "metadata": {},
     "output_type": "execute_result"
    },
    {
     "data": {
      "text/plain": [
       "<Figure size 640x480 with 1 Axes>"
      ],
      "image/png": "[encoded data removed]"
     },
     "metadata": {},
     "output_type": "display_data"
    }
   ],
   "execution_count": 26
  },
  {
   "metadata": {},
   "cell_type": "markdown",
   "source": "### Visualize the RAM",
   "id": "2c6b8d7ceec31add"
  },
  {
   "metadata": {
    "ExecuteTime": {
     "end_time": "2025-02-28T11:59:31.634185Z",
     "start_time": "2025-02-28T11:59:31.472832Z"
    }
   },
   "cell_type": "code",
   "source": "sns.countplot(df_train, x =df_train['ram_gb'],palette='plasma')",
   "id": "5d66d2e5b6d7d628",
   "outputs": [
    {
     "data": {
      "text/plain": [
       "<Axes: xlabel='ram_gb', ylabel='count'>"
      ]
     },
     "execution_count": 27,
     "metadata": {},
     "output_type": "execute_result"
    },
    {
     "data": {
      "text/plain": [
       "<Figure size 640x480 with 1 Axes>"
      ],
      "image/png": "[encoded data removed]"
     },
     "metadata": {},
     "output_type": "display_data"
    }
   ],
   "execution_count": 27
  },
  {
   "metadata": {
    "ExecuteTime": {
     "end_time": "2025-02-28T11:59:32.287919Z",
     "start_time": "2025-02-28T11:59:32.099111Z"
    }
   },
   "cell_type": "code",
   "source": "sns.barplot(x = df_train['ram_gb'], y= df_train['Price'])",
   "id": "8c4ee54150b54761",
   "outputs": [
    {
     "data": {
      "text/plain": [
       "<Axes: xlabel='ram_gb', ylabel='Price'>"
      ]
     },
     "execution_count": 28,
     "metadata": {},
     "output_type": "execute_result"
    },
    {
     "data": {
      "text/plain": [
       "<Figure size 640x480 with 1 Axes>"
      ],
      "image/png": "[encoded data removed]"
     },
     "metadata": {},
     "output_type": "display_data"
    }
   ],
   "execution_count": 28
  },
  {
   "metadata": {
    "ExecuteTime": {
     "end_time": "2025-02-28T11:59:33.066838Z",
     "start_time": "2025-02-28T11:59:33.051937Z"
    }
   },
   "cell_type": "code",
   "source": "df_train.sample(10)",
   "id": "68e4143245edbf3c",
   "outputs": [
    {
     "data": {
      "text/plain": [
       "      brand processor_brand processor_name  processor_gnrtn  ram_gb ram_type  \\\n",
       "792      HP             AMD        Ryzen 7               11      16     DDR4   \n",
       "469    DELL           Intel        Core i5               11       8     DDR4   \n",
       "660    DELL             AMD        Ryzen 3               11       8     DDR4   \n",
       "662    DELL             AMD        Ryzen 5               11       8     DDR4   \n",
       "191      HP           Intel   Celeron Dual               11       4     DDR4   \n",
       "342  Lenovo           Intel        Core i5               11       8     DDR4   \n",
       "513      HP           Intel        Core i7               10      16     DDR4   \n",
       "288    DELL           Intel        Core i5               11       8     DDR4   \n",
       "180    ASUS           Intel        Core i3               10       4     DDR4   \n",
       "303     MSI           Intel        Core i5               11       8     DDR4   \n",
       "\n",
       "     ssd   hdd       os  os_bit  graphic_card_gb      weight     warranty  \\\n",
       "792  256  1024  Windows      64                4      Gaming           1    \n",
       "469  256  1024  Windows      64                2      Casual  No warranty   \n",
       "660    0  1024  Windows      64                0  ThinNlight  No warranty   \n",
       "662  256     0  Windows      64                0      Casual           1    \n",
       "191    0   512  Windows      64                0      Casual  No warranty   \n",
       "342  512     0  Windows      64                0  ThinNlight           1    \n",
       "513  512     0  Windows      64                0      Casual           1    \n",
       "288  512     0  Windows      64                0  ThinNlight           1    \n",
       "180  256  1024  Windows      64                0      Casual  No warranty   \n",
       "303  512     0  Windows      64                0      Casual           1    \n",
       "\n",
       "    Touchscreen   Price  \n",
       "792          No   75990  \n",
       "469          No   67490  \n",
       "660          No   39990  \n",
       "662          No   41990  \n",
       "191          No   27990  \n",
       "342          No   65990  \n",
       "513         Yes  162990  \n",
       "288          No   69490  \n",
       "180          No   40990  \n",
       "303          No   55490  "
      ],
      "text/html": [
       "<div>\n",
       "<style scoped>\n",
       "    .dataframe tbody tr th:only-of-type {\n",
       "        vertical-align: middle;\n",
       "    }\n",
       "\n",
       "    .dataframe tbody tr th {\n",
       "        vertical-align: top;\n",
       "    }\n",
       "\n",
       "    .dataframe thead th {\n",
       "        text-align: right;\n",
       "    }\n",
       "</style>\n",
       "<table border=\"1\" class=\"dataframe\">\n",
       "  <thead>\n",
       "    <tr style=\"text-align: right;\">\n",
       "      <th></th>\n",
       "      <th>brand</th>\n",
       "      <th>processor_brand</th>\n",
       "      <th>processor_name</th>\n",
       "      <th>processor_gnrtn</th>\n",
       "      <th>ram_gb</th>\n",
       "      <th>ram_type</th>\n",
       "      <th>ssd</th>\n",
       "      <th>hdd</th>\n",
       "      <th>os</th>\n",
       "      <th>os_bit</th>\n",
       "      <th>graphic_card_gb</th>\n",
       "      <th>weight</th>\n",
       "      <th>warranty</th>\n",
       "      <th>Touchscreen</th>\n",
       "      <th>Price</th>\n",
       "    </tr>\n",
       "  </thead>\n",
       "  <tbody>\n",
       "    <tr>\n",
       "      <th>792</th>\n",
       "      <td>HP</td>\n",
       "      <td>AMD</td>\n",
       "      <td>Ryzen 7</td>\n",
       "      <td>11</td>\n",
       "      <td>16</td>\n",
       "      <td>DDR4</td>\n",
       "      <td>256</td>\n",
       "      <td>1024</td>\n",
       "      <td>Windows</td>\n",
       "      <td>64</td>\n",
       "      <td>4</td>\n",
       "      <td>Gaming</td>\n",
       "      <td>1</td>\n",
       "      <td>No</td>\n",
       "      <td>75990</td>\n",
       "    </tr>\n",
       "    <tr>\n",
       "      <th>469</th>\n",
       "      <td>DELL</td>\n",
       "      <td>Intel</td>\n",
       "      <td>Core i5</td>\n",
       "      <td>11</td>\n",
       "      <td>8</td>\n",
       "      <td>DDR4</td>\n",
       "      <td>256</td>\n",
       "      <td>1024</td>\n",
       "      <td>Windows</td>\n",
       "      <td>64</td>\n",
       "      <td>2</td>\n",
       "      <td>Casual</td>\n",
       "      <td>No warranty</td>\n",
       "      <td>No</td>\n",
       "      <td>67490</td>\n",
       "    </tr>\n",
       "    <tr>\n",
       "      <th>660</th>\n",
       "      <td>DELL</td>\n",
       "      <td>AMD</td>\n",
       "      <td>Ryzen 3</td>\n",
       "      <td>11</td>\n",
       "      <td>8</td>\n",
       "      <td>DDR4</td>\n",
       "      <td>0</td>\n",
       "      <td>1024</td>\n",
       "      <td>Windows</td>\n",
       "      <td>64</td>\n",
       "      <td>0</td>\n",
       "      <td>ThinNlight</td>\n",
       "      <td>No warranty</td>\n",
       "      <td>No</td>\n",
       "      <td>39990</td>\n",
       "    </tr>\n",
       "    <tr>\n",
       "      <th>662</th>\n",
       "      <td>DELL</td>\n",
       "      <td>AMD</td>\n",
       "      <td>Ryzen 5</td>\n",
       "      <td>11</td>\n",
       "      <td>8</td>\n",
       "      <td>DDR4</td>\n",
       "      <td>256</td>\n",
       "      <td>0</td>\n",
       "      <td>Windows</td>\n",
       "      <td>64</td>\n",
       "      <td>0</td>\n",
       "      <td>Casual</td>\n",
       "      <td>1</td>\n",
       "      <td>No</td>\n",
       "      <td>41990</td>\n",
       "    </tr>\n",
       "    <tr>\n",
       "      <th>191</th>\n",
       "      <td>HP</td>\n",
       "      <td>Intel</td>\n",
       "      <td>Celeron Dual</td>\n",
       "      <td>11</td>\n",
       "      <td>4</td>\n",
       "      <td>DDR4</td>\n",
       "      <td>0</td>\n",
       "      <td>512</td>\n",
       "      <td>Windows</td>\n",
       "      <td>64</td>\n",
       "      <td>0</td>\n",
       "      <td>Casual</td>\n",
       "      <td>No warranty</td>\n",
       "      <td>No</td>\n",
       "      <td>27990</td>\n",
       "    </tr>\n",
       "    <tr>\n",
       "      <th>342</th>\n",
       "      <td>Lenovo</td>\n",
       "      <td>Intel</td>\n",
       "      <td>Core i5</td>\n",
       "      <td>11</td>\n",
       "      <td>8</td>\n",
       "      <td>DDR4</td>\n",
       "      <td>512</td>\n",
       "      <td>0</td>\n",
       "      <td>Windows</td>\n",
       "      <td>64</td>\n",
       "      <td>0</td>\n",
       "      <td>ThinNlight</td>\n",
       "      <td>1</td>\n",
       "      <td>No</td>\n",
       "      <td>65990</td>\n",
       "    </tr>\n",
       "    <tr>\n",
       "      <th>513</th>\n",
       "      <td>HP</td>\n",
       "      <td>Intel</td>\n",
       "      <td>Core i7</td>\n",
       "      <td>10</td>\n",
       "      <td>16</td>\n",
       "      <td>DDR4</td>\n",
       "      <td>512</td>\n",
       "      <td>0</td>\n",
       "      <td>Windows</td>\n",
       "      <td>64</td>\n",
       "      <td>0</td>\n",
       "      <td>Casual</td>\n",
       "      <td>1</td>\n",
       "      <td>Yes</td>\n",
       "      <td>162990</td>\n",
       "    </tr>\n",
       "    <tr>\n",
       "      <th>288</th>\n",
       "      <td>DELL</td>\n",
       "      <td>Intel</td>\n",
       "      <td>Core i5</td>\n",
       "      <td>11</td>\n",
       "      <td>8</td>\n",
       "      <td>DDR4</td>\n",
       "      <td>512</td>\n",
       "      <td>0</td>\n",
       "      <td>Windows</td>\n",
       "      <td>64</td>\n",
       "      <td>0</td>\n",
       "      <td>ThinNlight</td>\n",
       "      <td>1</td>\n",
       "      <td>No</td>\n",
       "      <td>69490</td>\n",
       "    </tr>\n",
       "    <tr>\n",
       "      <th>180</th>\n",
       "      <td>ASUS</td>\n",
       "      <td>Intel</td>\n",
       "      <td>Core i3</td>\n",
       "      <td>10</td>\n",
       "      <td>4</td>\n",
       "      <td>DDR4</td>\n",
       "      <td>256</td>\n",
       "      <td>1024</td>\n",
       "      <td>Windows</td>\n",
       "      <td>64</td>\n",
       "      <td>0</td>\n",
       "      <td>Casual</td>\n",
       "      <td>No warranty</td>\n",
       "      <td>No</td>\n",
       "      <td>40990</td>\n",
       "    </tr>\n",
       "    <tr>\n",
       "      <th>303</th>\n",
       "      <td>MSI</td>\n",
       "      <td>Intel</td>\n",
       "      <td>Core i5</td>\n",
       "      <td>11</td>\n",
       "      <td>8</td>\n",
       "      <td>DDR4</td>\n",
       "      <td>512</td>\n",
       "      <td>0</td>\n",
       "      <td>Windows</td>\n",
       "      <td>64</td>\n",
       "      <td>0</td>\n",
       "      <td>Casual</td>\n",
       "      <td>1</td>\n",
       "      <td>No</td>\n",
       "      <td>55490</td>\n",
       "    </tr>\n",
       "  </tbody>\n",
       "</table>\n",
       "</div>"
      ]
     },
     "execution_count": 29,
     "metadata": {},
     "output_type": "execute_result"
    }
   ],
   "execution_count": 29
  },
  {
   "metadata": {},
   "cell_type": "markdown",
   "source": "### Visualize the Operating_system",
   "id": "42aa72fb503cc8e"
  },
  {
   "metadata": {
    "ExecuteTime": {
     "end_time": "2025-02-28T11:59:37.049053Z",
     "start_time": "2025-02-28T11:59:36.903293Z"
    }
   },
   "cell_type": "code",
   "source": "sns.countplot(df_train, x =df_train['os'],palette='plasma')",
   "id": "4c579d91d9fb1c2c",
   "outputs": [
    {
     "data": {
      "text/plain": [
       "<Axes: xlabel='os', ylabel='count'>"
      ]
     },
     "execution_count": 30,
     "metadata": {},
     "output_type": "execute_result"
    },
    {
     "data": {
      "text/plain": [
       "<Figure size 640x480 with 1 Axes>"
      ],
      "image/png": "[encoded data removed]"
     },
     "metadata": {},
     "output_type": "display_data"
    }
   ],
   "execution_count": 30
  },
  {
   "metadata": {
    "ExecuteTime": {
     "end_time": "2025-02-28T11:59:38.166091Z",
     "start_time": "2025-02-28T11:59:37.890142Z"
    }
   },
   "cell_type": "code",
   "source": "sns.barplot(x = df_train['os'], y= df_train['Price'])",
   "id": "4909e26d6a05b7a",
   "outputs": [
    {
     "data": {
      "text/plain": [
       "<Axes: xlabel='os', ylabel='Price'>"
      ]
     },
     "execution_count": 31,
     "metadata": {},
     "output_type": "execute_result"
    },
    {
     "data": {
      "text/plain": [
       "<Figure size 640x480 with 1 Axes>"
      ],
      "image/png": "[encoded data removed]"
     },
     "metadata": {},
     "output_type": "display_data"
    }
   ],
   "execution_count": 31
  },
  {
   "metadata": {},
   "cell_type": "markdown",
   "source": "### Visualize the Price",
   "id": "cfc67f286da85c03"
  },
  {
   "metadata": {
    "ExecuteTime": {
     "end_time": "2025-02-28T11:59:48.218951Z",
     "start_time": "2025-02-28T11:59:48.026651Z"
    }
   },
   "cell_type": "code",
   "source": "sns.distplot(df_train['Price'])",
   "id": "5d2bfc4dc2d723b1",
   "outputs": [
    {
     "data": {
      "text/plain": [
       "<Axes: xlabel='Price', ylabel='Density'>"
      ]
     },
     "execution_count": 32,
     "metadata": {},
     "output_type": "execute_result"
    },
    {
     "data": {
      "text/plain": [
       "<Figure size 640x480 with 1 Axes>"
      ],
      "image/png": "[encoded data removed]"
     },
     "metadata": {},
     "output_type": "display_data"
    }
   ],
   "execution_count": 32
  },
  {
   "metadata": {
    "ExecuteTime": {
     "end_time": "2025-02-28T12:00:05.117783Z",
     "start_time": "2025-02-28T12:00:04.958770Z"
    }
   },
   "cell_type": "code",
   "source": "sns.distplot(np.log(df_train['Price']))",
   "id": "e6253826d517d477",
   "outputs": [
    {
     "data": {
      "text/plain": [
       "<Axes: xlabel='Price', ylabel='Density'>"
      ]
     },
     "execution_count": 33,
     "metadata": {},
     "output_type": "execute_result"
    },
    {
     "data": {
      "text/plain": [
       "<Figure size 640x480 with 1 Axes>"
      ],
      "image/png": "[encoded data removed]"
     },
     "metadata": {},
     "output_type": "display_data"
    }
   ],
   "execution_count": 33
  },
  {
   "metadata": {
    "ExecuteTime": {
     "end_time": "2025-02-28T12:01:02.392551Z",
     "start_time": "2025-02-28T12:01:02.384535Z"
    }
   },
   "cell_type": "code",
   "source": "df_train.info()",
   "id": "69f619a8dffe2761",
   "outputs": [
    {
     "name": "stdout",
     "output_type": "stream",
     "text": [
      "<class 'pandas.core.frame.DataFrame'>\n",
      "RangeIndex: 823 entries, 0 to 822\n",
      "Data columns (total 15 columns):\n",
      " #   Column           Non-Null Count  Dtype \n",
      "---  ------           --------------  ----- \n",
      " 0   brand            823 non-null    object\n",
      " 1   processor_brand  823 non-null    object\n",
      " 2   processor_name   823 non-null    object\n",
      " 3   processor_gnrtn  823 non-null    int64 \n",
      " 4   ram_gb           823 non-null    int32 \n",
      " 5   ram_type         823 non-null    object\n",
      " 6   ssd              823 non-null    int32 \n",
      " 7   hdd              823 non-null    int32 \n",
      " 8   os               823 non-null    object\n",
      " 9   os_bit           823 non-null    int32 \n",
      " 10  graphic_card_gb  823 non-null    int32 \n",
      " 11  weight           823 non-null    object\n",
      " 12  warranty         823 non-null    object\n",
      " 13  Touchscreen      823 non-null    object\n",
      " 14  Price            823 non-null    int64 \n",
      "dtypes: int32(5), int64(2), object(8)\n",
      "memory usage: 80.5+ KB\n"
     ]
    }
   ],
   "execution_count": 34
  },
  {
   "metadata": {
    "ExecuteTime": {
     "end_time": "2025-02-28T12:01:03.522207Z",
     "start_time": "2025-02-28T12:01:03.172713Z"
    }
   },
   "cell_type": "code",
   "source": [
    "numeric_df = df_train.select_dtypes(include=['number'])\n",
    "sns.heatmap(numeric_df.corr(), annot=True)"
   ],
   "id": "e68c52975234fc19",
   "outputs": [
    {
     "data": {
      "text/plain": [
       "<Axes: >"
      ]
     },
     "execution_count": 35,
     "metadata": {},
     "output_type": "execute_result"
    },
    {
     "data": {
      "text/plain": [
       "<Figure size 640x480 with 2 Axes>"
      ],
      "image/png": "[encoded data removed]"
     },
     "metadata": {},
     "output_type": "display_data"
    }
   ],
   "execution_count": 35
  },
  {
   "metadata": {},
   "cell_type": "markdown",
   "source": "## 4. Final data preps",
   "id": "58f4956a070fa54c"
  },
  {
   "metadata": {
    "ExecuteTime": {
     "end_time": "2025-02-28T12:01:52.961594Z",
     "start_time": "2025-02-28T12:01:52.956383Z"
    }
   },
   "cell_type": "code",
   "source": [
    "x = df_train.drop(['Price'], axis=1)\n",
    "y = np.log(df_train['Price'])"
   ],
   "id": "1ee4c784821bdef",
   "outputs": [],
   "execution_count": 36
  },
  {
   "metadata": {
    "ExecuteTime": {
     "end_time": "2025-02-28T12:08:19.200973Z",
     "start_time": "2025-02-28T12:08:19.192971Z"
    }
   },
   "cell_type": "code",
   "source": [
    "X_train, X_test, y_train, y_test = train_test_split(x, y, test_size=0.15, random_state=8418)\n",
    "X_train.shape, X_test.shape"
   ],
   "id": "e1cbe4a194694d2b",
   "outputs": [
    {
     "data": {
      "text/plain": [
       "((699, 14), (124, 14))"
      ]
     },
     "execution_count": 37,
     "metadata": {},
     "output_type": "execute_result"
    }
   ],
   "execution_count": 37
  },
  {
   "metadata": {
    "ExecuteTime": {
     "end_time": "2025-02-28T12:09:57.156418Z",
     "start_time": "2025-02-28T12:09:57.151155Z"
    }
   },
   "cell_type": "code",
   "source": [
    "mapper = {i:value for i,value in enumerate(X_train.columns)}\n",
    "mapper"
   ],
   "id": "6cdfc4c40ef08bc0",
   "outputs": [
    {
     "data": {
      "text/plain": [
       "{0: 'brand',\n",
       " 1: 'processor_brand',\n",
       " 2: 'processor_name',\n",
       " 3: 'processor_gnrtn',\n",
       " 4: 'ram_gb',\n",
       " 5: 'ram_type',\n",
       " 6: 'ssd',\n",
       " 7: 'hdd',\n",
       " 8: 'os',\n",
       " 9: 'os_bit',\n",
       " 10: 'graphic_card_gb',\n",
       " 11: 'weight',\n",
       " 12: 'warranty',\n",
       " 13: 'Touchscreen'}"
      ]
     },
     "execution_count": 38,
     "metadata": {},
     "output_type": "execute_result"
    }
   ],
   "execution_count": 38
  },
  {
   "metadata": {
    "ExecuteTime": {
     "end_time": "2025-02-28T12:10:07.513493Z",
     "start_time": "2025-02-28T12:10:07.499919Z"
    }
   },
   "cell_type": "code",
   "source": "df_train.head()",
   "id": "149e4bb0eef891b6",
   "outputs": [
    {
     "data": {
      "text/plain": [
       "    brand processor_brand processor_name  processor_gnrtn  ram_gb ram_type  \\\n",
       "0    ASUS           Intel        Core i3               10       4     DDR4   \n",
       "1  Lenovo           Intel        Core i3               10       4     DDR4   \n",
       "2  Lenovo           Intel        Core i3               10       4     DDR4   \n",
       "3    ASUS           Intel        Core i5               10       8     DDR4   \n",
       "4    ASUS           Intel   Celeron Dual               11       4     DDR4   \n",
       "\n",
       "   ssd   hdd       os  os_bit  graphic_card_gb  weight     warranty  \\\n",
       "0    0  1024  Windows      64                0  Casual  No warranty   \n",
       "1    0  1024  Windows      64                0  Casual  No warranty   \n",
       "2    0  1024  Windows      64                0  Casual  No warranty   \n",
       "3  512     0  Windows      32                2  Casual  No warranty   \n",
       "4    0   512  Windows      64                0  Casual  No warranty   \n",
       "\n",
       "  Touchscreen  Price  \n",
       "0          No  34649  \n",
       "1          No  38999  \n",
       "2          No  39999  \n",
       "3          No  69990  \n",
       "4          No  26990  "
      ],
      "text/html": [
       "<div>\n",
       "<style scoped>\n",
       "    .dataframe tbody tr th:only-of-type {\n",
       "        vertical-align: middle;\n",
       "    }\n",
       "\n",
       "    .dataframe tbody tr th {\n",
       "        vertical-align: top;\n",
       "    }\n",
       "\n",
       "    .dataframe thead th {\n",
       "        text-align: right;\n",
       "    }\n",
       "</style>\n",
       "<table border=\"1\" class=\"dataframe\">\n",
       "  <thead>\n",
       "    <tr style=\"text-align: right;\">\n",
       "      <th></th>\n",
       "      <th>brand</th>\n",
       "      <th>processor_brand</th>\n",
       "      <th>processor_name</th>\n",
       "      <th>processor_gnrtn</th>\n",
       "      <th>ram_gb</th>\n",
       "      <th>ram_type</th>\n",
       "      <th>ssd</th>\n",
       "      <th>hdd</th>\n",
       "      <th>os</th>\n",
       "      <th>os_bit</th>\n",
       "      <th>graphic_card_gb</th>\n",
       "      <th>weight</th>\n",
       "      <th>warranty</th>\n",
       "      <th>Touchscreen</th>\n",
       "      <th>Price</th>\n",
       "    </tr>\n",
       "  </thead>\n",
       "  <tbody>\n",
       "    <tr>\n",
       "      <th>0</th>\n",
       "      <td>ASUS</td>\n",
       "      <td>Intel</td>\n",
       "      <td>Core i3</td>\n",
       "      <td>10</td>\n",
       "      <td>4</td>\n",
       "      <td>DDR4</td>\n",
       "      <td>0</td>\n",
       "      <td>1024</td>\n",
       "      <td>Windows</td>\n",
       "      <td>64</td>\n",
       "      <td>0</td>\n",
       "      <td>Casual</td>\n",
       "      <td>No warranty</td>\n",
       "      <td>No</td>\n",
       "      <td>34649</td>\n",
       "    </tr>\n",
       "    <tr>\n",
       "      <th>1</th>\n",
       "      <td>Lenovo</td>\n",
       "      <td>Intel</td>\n",
       "      <td>Core i3</td>\n",
       "      <td>10</td>\n",
       "      <td>4</td>\n",
       "      <td>DDR4</td>\n",
       "      <td>0</td>\n",
       "      <td>1024</td>\n",
       "      <td>Windows</td>\n",
       "      <td>64</td>\n",
       "      <td>0</td>\n",
       "      <td>Casual</td>\n",
       "      <td>No warranty</td>\n",
       "      <td>No</td>\n",
       "      <td>38999</td>\n",
       "    </tr>\n",
       "    <tr>\n",
       "      <th>2</th>\n",
       "      <td>Lenovo</td>\n",
       "      <td>Intel</td>\n",
       "      <td>Core i3</td>\n",
       "      <td>10</td>\n",
       "      <td>4</td>\n",
       "      <td>DDR4</td>\n",
       "      <td>0</td>\n",
       "      <td>1024</td>\n",
       "      <td>Windows</td>\n",
       "      <td>64</td>\n",
       "      <td>0</td>\n",
       "      <td>Casual</td>\n",
       "      <td>No warranty</td>\n",
       "      <td>No</td>\n",
       "      <td>39999</td>\n",
       "    </tr>\n",
       "    <tr>\n",
       "      <th>3</th>\n",
       "      <td>ASUS</td>\n",
       "      <td>Intel</td>\n",
       "      <td>Core i5</td>\n",
       "      <td>10</td>\n",
       "      <td>8</td>\n",
       "      <td>DDR4</td>\n",
       "      <td>512</td>\n",
       "      <td>0</td>\n",
       "      <td>Windows</td>\n",
       "      <td>32</td>\n",
       "      <td>2</td>\n",
       "      <td>Casual</td>\n",
       "      <td>No warranty</td>\n",
       "      <td>No</td>\n",
       "      <td>69990</td>\n",
       "    </tr>\n",
       "    <tr>\n",
       "      <th>4</th>\n",
       "      <td>ASUS</td>\n",
       "      <td>Intel</td>\n",
       "      <td>Celeron Dual</td>\n",
       "      <td>11</td>\n",
       "      <td>4</td>\n",
       "      <td>DDR4</td>\n",
       "      <td>0</td>\n",
       "      <td>512</td>\n",
       "      <td>Windows</td>\n",
       "      <td>64</td>\n",
       "      <td>0</td>\n",
       "      <td>Casual</td>\n",
       "      <td>No warranty</td>\n",
       "      <td>No</td>\n",
       "      <td>26990</td>\n",
       "    </tr>\n",
       "  </tbody>\n",
       "</table>\n",
       "</div>"
      ]
     },
     "execution_count": 39,
     "metadata": {},
     "output_type": "execute_result"
    }
   ],
   "execution_count": 39
  },
  {
   "metadata": {
    "ExecuteTime": {
     "end_time": "2025-02-28T12:10:09.687948Z",
     "start_time": "2025-02-28T12:10:09.678195Z"
    }
   },
   "cell_type": "code",
   "source": "df_train.info()",
   "id": "8c41b7092bd771c4",
   "outputs": [
    {
     "name": "stdout",
     "output_type": "stream",
     "text": [
      "<class 'pandas.core.frame.DataFrame'>\n",
      "RangeIndex: 823 entries, 0 to 822\n",
      "Data columns (total 15 columns):\n",
      " #   Column           Non-Null Count  Dtype \n",
      "---  ------           --------------  ----- \n",
      " 0   brand            823 non-null    object\n",
      " 1   processor_brand  823 non-null    object\n",
      " 2   processor_name   823 non-null    object\n",
      " 3   processor_gnrtn  823 non-null    int64 \n",
      " 4   ram_gb           823 non-null    int32 \n",
      " 5   ram_type         823 non-null    object\n",
      " 6   ssd              823 non-null    int32 \n",
      " 7   hdd              823 non-null    int32 \n",
      " 8   os               823 non-null    object\n",
      " 9   os_bit           823 non-null    int32 \n",
      " 10  graphic_card_gb  823 non-null    int32 \n",
      " 11  weight           823 non-null    object\n",
      " 12  warranty         823 non-null    object\n",
      " 13  Touchscreen      823 non-null    object\n",
      " 14  Price            823 non-null    int64 \n",
      "dtypes: int32(5), int64(2), object(8)\n",
      "memory usage: 80.5+ KB\n"
     ]
    }
   ],
   "execution_count": 40
  },
  {
   "metadata": {},
   "cell_type": "markdown",
   "source": "## 5.1 Test Linear Regression method",
   "id": "4b87cdff5505a30"
  },
  {
   "metadata": {
    "ExecuteTime": {
     "end_time": "2025-02-28T12:14:34.280091Z",
     "start_time": "2025-02-28T12:14:34.236122Z"
    }
   },
   "cell_type": "code",
   "source": [
    "encoding = ColumnTransformer(transformers = [\n",
    "    ('col_tnf', OneHotEncoder(sparse_output=False, drop='first'), [0, 1, 2, 5, 8, 11, 12, 13])\n",
    "], remainder='passthrough')\n",
    "\n",
    "lr = LinearRegression()\n",
    "\n",
    "pipe = Pipeline([\n",
    "    ('encoding', encoding),\n",
    "    ('lr', lr)\n",
    "])\n",
    "\n",
    "pipe.fit(X_train, y_train)\n",
    "\n",
    "y_train_pred = pipe.predict(X_train)\n",
    "y_pred = pipe.predict(X_test)\n",
    "\n",
    "print('Train R2 score', metrics.r2_score(y_train,y_train_pred))\n",
    "print('Train MAE', metrics.mean_absolute_error(y_train,y_train_pred))\n",
    "print(\"Train MAE on the orig price:\", np.exp(metrics.mean_absolute_error(y_train,y_train_pred)), \"\\n\")\n",
    "\n",
    "print('Test R2 score', metrics.r2_score(y_test,y_pred))\n",
    "print('Test MAE', metrics.mean_absolute_error(y_test,y_pred))\n",
    "print(\"Test MAE on the orig price:\", np.exp(metrics.mean_absolute_error(y_test,y_pred)))"
   ],
   "id": "78f40ead6acd9fde",
   "outputs": [
    {
     "name": "stdout",
     "output_type": "stream",
     "text": [
      "Train R2 score 0.8663048188898103\n",
      "Train MAE 0.12809545829978325\n",
      "Train MAE on the orig price: 1.1366615012927748 \n",
      "\n",
      "Test R2 score 0.8509808026096805\n",
      "Test MAE 0.14356278102642966\n",
      "Test MAE on the orig price: 1.154379281648378\n"
     ]
    }
   ],
   "execution_count": 41
  },
  {
   "metadata": {},
   "cell_type": "markdown",
   "source": "## 5.2 Test Lasso Regression",
   "id": "5ed4088deb306a6b"
  },
  {
   "metadata": {
    "ExecuteTime": {
     "end_time": "2025-02-28T12:21:33.173538Z",
     "start_time": "2025-02-28T12:21:33.139967Z"
    }
   },
   "cell_type": "code",
   "source": [
    "encoding = ColumnTransformer(transformers = [\n",
    "    ('col_tnf', OneHotEncoder(sparse_output=False, drop='first'), [0, 1, 2, 5, 8, 11, 12, 13])\n",
    "], remainder='passthrough')\n",
    "\n",
    "lasso = Lasso(alpha=0.001)\n",
    "\n",
    "pipe = Pipeline([\n",
    "    ('encoding', encoding),\n",
    "    ('lasso', lasso)\n",
    "])\n",
    "\n",
    "pipe.fit(X_train, y_train)\n",
    "\n",
    "y_train_pred = pipe.predict(X_train)\n",
    "y_pred = pipe.predict(X_test)\n",
    "\n",
    "print('Train R2 score', metrics.r2_score(y_train,y_train_pred))\n",
    "print('Train MAE', metrics.mean_absolute_error(y_train,y_train_pred))\n",
    "print(\"Train MAE on the orig price:\", np.exp(metrics.mean_absolute_error(y_train,y_train_pred)), \"\\n\")\n",
    "\n",
    "print('Test R2 score', metrics.r2_score(y_test,y_pred))\n",
    "print('Test MAE', metrics.mean_absolute_error(y_test,y_pred))\n",
    "print(\"Test MAE on the orig price:\", np.exp(metrics.mean_absolute_error(y_test,y_pred)))"
   ],
   "id": "f27b3a65dfacaab5",
   "outputs": [
    {
     "name": "stdout",
     "output_type": "stream",
     "text": [
      "Train R2 score 0.8539145775181127\n",
      "Train MAE 0.1343102892681184\n",
      "Train MAE on the orig price: 1.143747657214124 \n",
      "\n",
      "Test R2 score 0.8227381157196224\n",
      "Test MAE 0.15846844070149596\n",
      "Test MAE on the orig price: 1.1717149451399707\n"
     ]
    }
   ],
   "execution_count": 42
  },
  {
   "metadata": {},
   "cell_type": "markdown",
   "source": "## 5.3. Decision Tree",
   "id": "9df6983e67977e66"
  },
  {
   "metadata": {
    "ExecuteTime": {
     "end_time": "2025-02-28T12:21:57.672667Z",
     "start_time": "2025-02-28T12:21:57.635394Z"
    }
   },
   "cell_type": "code",
   "source": [
    "encoding = ColumnTransformer(transformers = [\n",
    "    ('col_tnf', OneHotEncoder(sparse_output=False, drop='first'), [0, 1, 2, 5, 8, 11, 12, 13])\n",
    "], remainder='passthrough')\n",
    "\n",
    "dtr = DecisionTreeRegressor(max_depth=8)\n",
    "\n",
    "pipe = Pipeline([\n",
    "    ('encoding', encoding),\n",
    "    ('dtr', dtr)\n",
    "])\n",
    "\n",
    "pipe.fit(X_train, y_train)\n",
    "\n",
    "y_train_pred = pipe.predict(X_train)\n",
    "y_pred = pipe.predict(X_test)\n",
    "\n",
    "print('Train R2 score', metrics.r2_score(y_train,y_train_pred))\n",
    "print('Train MAE', metrics.mean_absolute_error(y_train,y_train_pred))\n",
    "print(\"Train MAE on the orig price:\", np.exp(metrics.mean_absolute_error(y_train,y_train_pred)), \"\\n\")\n",
    "\n",
    "print('Test R2 score', metrics.r2_score(y_test,y_pred))\n",
    "print('Test MAE', metrics.mean_absolute_error(y_test,y_pred))\n",
    "print(\"Test MAE on the orig price:\", np.exp(metrics.mean_absolute_error(y_test,y_pred)))"
   ],
   "id": "3a4ecfd64c342471",
   "outputs": [
    {
     "name": "stdout",
     "output_type": "stream",
     "text": [
      "Train R2 score 0.8929483768816412\n",
      "Train MAE 0.10792686622351398\n",
      "Train MAE on the orig price: 1.1139662738468588 \n",
      "\n",
      "Test R2 score 0.7710074973261902\n",
      "Test MAE 0.17878113081620334\n",
      "Test MAE on the orig price: 1.195759000728635\n"
     ]
    }
   ],
   "execution_count": 44
  },
  {
   "metadata": {},
   "cell_type": "markdown",
   "source": "## 5.4. Random Forest",
   "id": "5c6d4b7d4009d6ba"
  },
  {
   "metadata": {
    "ExecuteTime": {
     "end_time": "2025-02-28T12:23:34.645456Z",
     "start_time": "2025-02-28T12:23:34.390691Z"
    }
   },
   "cell_type": "code",
   "source": [
    "encoding = ColumnTransformer(transformers = [\n",
    "    ('col_tnf', OneHotEncoder(sparse_output=False, drop='first'), [0, 1, 2, 5, 8, 11, 12, 13])\n",
    "], remainder='passthrough')\n",
    "\n",
    "random = RandomForestRegressor(n_estimators=100,\n",
    "                              random_state=3,\n",
    "                              max_samples=0.5,\n",
    "                              max_features=0.75,\n",
    "                              max_depth=15)\n",
    "\n",
    "pipe = Pipeline([\n",
    "    ('encoding', encoding),\n",
    "    ('random', random)\n",
    "])\n",
    "\n",
    "pipe.fit(X_train, y_train)\n",
    "\n",
    "y_train_pred = pipe.predict(X_train)\n",
    "y_pred = pipe.predict(X_test)\n",
    "\n",
    "print('Train R2 score', metrics.r2_score(y_train,y_train_pred))\n",
    "print('Train MAE', metrics.mean_absolute_error(y_train,y_train_pred))\n",
    "print(\"Train MAE on the orig price:\", np.exp(metrics.mean_absolute_error(y_train,y_train_pred)), \"\\n\")\n",
    "\n",
    "print('Test R2 score', metrics.r2_score(y_test,y_pred))\n",
    "print('Test MAE', metrics.mean_absolute_error(y_test,y_pred))\n",
    "print(\"Test MAE on the orig price:\", np.exp(metrics.mean_absolute_error(y_test,y_pred)))"
   ],
   "id": "f056213410d9dc47",
   "outputs": [
    {
     "name": "stdout",
     "output_type": "stream",
     "text": [
      "Train R2 score 0.9350059476104549\n",
      "Train MAE 0.08463718344688273\n",
      "Train MAE on the orig price: 1.0883221337733728 \n",
      "\n",
      "Test R2 score 0.8583367845839139\n",
      "Test MAE 0.14201903920592035\n",
      "Test MAE on the orig price: 1.1525985928900564\n"
     ]
    }
   ],
   "execution_count": 46
  },
  {
   "metadata": {},
   "cell_type": "markdown",
   "source": "## 5.4.1 You can also tune hyperparameters of Random Forest",
   "id": "41ee2f5e3e0f5f7f"
  },
  {
   "metadata": {
    "ExecuteTime": {
     "end_time": "2025-02-28T12:24:01.943614Z",
     "start_time": "2025-02-28T12:24:01.938466Z"
    }
   },
   "cell_type": "code",
   "source": [
    "indexlist = [0, 1, 2, 5, 8, 11, 12, 13]\n",
    "transformlist = []\n",
    "for key,value in mapper.items():\n",
    "    if key in indexlist:\n",
    "        transformlist.append(value)\n",
    "        \n",
    "transformlist"
   ],
   "id": "fe45525a6f07832d",
   "outputs": [
    {
     "data": {
      "text/plain": [
       "['brand',\n",
       " 'processor_brand',\n",
       " 'processor_name',\n",
       " 'ram_type',\n",
       " 'os',\n",
       " 'weight',\n",
       " 'warranty',\n",
       " 'Touchscreen']"
      ]
     },
     "execution_count": 47,
     "metadata": {},
     "output_type": "execute_result"
    }
   ],
   "execution_count": 47
  },
  {
   "metadata": {
    "ExecuteTime": {
     "end_time": "2025-02-28T12:24:05.936146Z",
     "start_time": "2025-02-28T12:24:05.914652Z"
    }
   },
   "cell_type": "code",
   "source": [
    "x = pd.get_dummies(x,columns=transformlist,drop_first=True)\n",
    "x.head()"
   ],
   "id": "527c3f20a1435aab",
   "outputs": [
    {
     "data": {
      "text/plain": [
       "   processor_gnrtn  ram_gb  ssd   hdd  os_bit  graphic_card_gb  brand_ASUS  \\\n",
       "0               10       4    0  1024      64                0        True   \n",
       "1               10       4    0  1024      64                0       False   \n",
       "2               10       4    0  1024      64                0       False   \n",
       "3               10       8  512     0      32                2        True   \n",
       "4               11       4    0   512      64                0        True   \n",
       "\n",
       "   brand_Avita  brand_DELL  brand_HP  ...  ram_type_LPDDR4  ram_type_LPDDR4X  \\\n",
       "0        False       False     False  ...            False             False   \n",
       "1        False       False     False  ...            False             False   \n",
       "2        False       False     False  ...            False             False   \n",
       "3        False       False     False  ...            False             False   \n",
       "4        False       False     False  ...            False             False   \n",
       "\n",
       "   os_Mac  os_Windows  weight_Gaming  weight_ThinNlight  warranty_2   \\\n",
       "0   False        True          False              False        False   \n",
       "1   False        True          False              False        False   \n",
       "2   False        True          False              False        False   \n",
       "3   False        True          False              False        False   \n",
       "4   False        True          False              False        False   \n",
       "\n",
       "   warranty_3   warranty_No warranty  Touchscreen_Yes  \n",
       "0        False                  True            False  \n",
       "1        False                  True            False  \n",
       "2        False                  True            False  \n",
       "3        False                  True            False  \n",
       "4        False                  True            False  \n",
       "\n",
       "[5 rows x 38 columns]"
      ],
      "text/html": [
       "<div>\n",
       "<style scoped>\n",
       "    .dataframe tbody tr th:only-of-type {\n",
       "        vertical-align: middle;\n",
       "    }\n",
       "\n",
       "    .dataframe tbody tr th {\n",
       "        vertical-align: top;\n",
       "    }\n",
       "\n",
       "    .dataframe thead th {\n",
       "        text-align: right;\n",
       "    }\n",
       "</style>\n",
       "<table border=\"1\" class=\"dataframe\">\n",
       "  <thead>\n",
       "    <tr style=\"text-align: right;\">\n",
       "      <th></th>\n",
       "      <th>processor_gnrtn</th>\n",
       "      <th>ram_gb</th>\n",
       "      <th>ssd</th>\n",
       "      <th>hdd</th>\n",
       "      <th>os_bit</th>\n",
       "      <th>graphic_card_gb</th>\n",
       "      <th>brand_ASUS</th>\n",
       "      <th>brand_Avita</th>\n",
       "      <th>brand_DELL</th>\n",
       "      <th>brand_HP</th>\n",
       "      <th>...</th>\n",
       "      <th>ram_type_LPDDR4</th>\n",
       "      <th>ram_type_LPDDR4X</th>\n",
       "      <th>os_Mac</th>\n",
       "      <th>os_Windows</th>\n",
       "      <th>weight_Gaming</th>\n",
       "      <th>weight_ThinNlight</th>\n",
       "      <th>warranty_2</th>\n",
       "      <th>warranty_3</th>\n",
       "      <th>warranty_No warranty</th>\n",
       "      <th>Touchscreen_Yes</th>\n",
       "    </tr>\n",
       "  </thead>\n",
       "  <tbody>\n",
       "    <tr>\n",
       "      <th>0</th>\n",
       "      <td>10</td>\n",
       "      <td>4</td>\n",
       "      <td>0</td>\n",
       "      <td>1024</td>\n",
       "      <td>64</td>\n",
       "      <td>0</td>\n",
       "      <td>True</td>\n",
       "      <td>False</td>\n",
       "      <td>False</td>\n",
       "      <td>False</td>\n",
       "      <td>...</td>\n",
       "      <td>False</td>\n",
       "      <td>False</td>\n",
       "      <td>False</td>\n",
       "      <td>True</td>\n",
       "      <td>False</td>\n",
       "      <td>False</td>\n",
       "      <td>False</td>\n",
       "      <td>False</td>\n",
       "      <td>True</td>\n",
       "      <td>False</td>\n",
       "    </tr>\n",
       "    <tr>\n",
       "      <th>1</th>\n",
       "      <td>10</td>\n",
       "      <td>4</td>\n",
       "      <td>0</td>\n",
       "      <td>1024</td>\n",
       "      <td>64</td>\n",
       "      <td>0</td>\n",
       "      <td>False</td>\n",
       "      <td>False</td>\n",
       "      <td>False</td>\n",
       "      <td>False</td>\n",
       "      <td>...</td>\n",
       "      <td>False</td>\n",
       "      <td>False</td>\n",
       "      <td>False</td>\n",
       "      <td>True</td>\n",
       "      <td>False</td>\n",
       "      <td>False</td>\n",
       "      <td>False</td>\n",
       "      <td>False</td>\n",
       "      <td>True</td>\n",
       "      <td>False</td>\n",
       "    </tr>\n",
       "    <tr>\n",
       "      <th>2</th>\n",
       "      <td>10</td>\n",
       "      <td>4</td>\n",
       "      <td>0</td>\n",
       "      <td>1024</td>\n",
       "      <td>64</td>\n",
       "      <td>0</td>\n",
       "      <td>False</td>\n",
       "      <td>False</td>\n",
       "      <td>False</td>\n",
       "      <td>False</td>\n",
       "      <td>...</td>\n",
       "      <td>False</td>\n",
       "      <td>False</td>\n",
       "      <td>False</td>\n",
       "      <td>True</td>\n",
       "      <td>False</td>\n",
       "      <td>False</td>\n",
       "      <td>False</td>\n",
       "      <td>False</td>\n",
       "      <td>True</td>\n",
       "      <td>False</td>\n",
       "    </tr>\n",
       "    <tr>\n",
       "      <th>3</th>\n",
       "      <td>10</td>\n",
       "      <td>8</td>\n",
       "      <td>512</td>\n",
       "      <td>0</td>\n",
       "      <td>32</td>\n",
       "      <td>2</td>\n",
       "      <td>True</td>\n",
       "      <td>False</td>\n",
       "      <td>False</td>\n",
       "      <td>False</td>\n",
       "      <td>...</td>\n",
       "      <td>False</td>\n",
       "      <td>False</td>\n",
       "      <td>False</td>\n",
       "      <td>True</td>\n",
       "      <td>False</td>\n",
       "      <td>False</td>\n",
       "      <td>False</td>\n",
       "      <td>False</td>\n",
       "      <td>True</td>\n",
       "      <td>False</td>\n",
       "    </tr>\n",
       "    <tr>\n",
       "      <th>4</th>\n",
       "      <td>11</td>\n",
       "      <td>4</td>\n",
       "      <td>0</td>\n",
       "      <td>512</td>\n",
       "      <td>64</td>\n",
       "      <td>0</td>\n",
       "      <td>True</td>\n",
       "      <td>False</td>\n",
       "      <td>False</td>\n",
       "      <td>False</td>\n",
       "      <td>...</td>\n",
       "      <td>False</td>\n",
       "      <td>False</td>\n",
       "      <td>False</td>\n",
       "      <td>True</td>\n",
       "      <td>False</td>\n",
       "      <td>False</td>\n",
       "      <td>False</td>\n",
       "      <td>False</td>\n",
       "      <td>True</td>\n",
       "      <td>False</td>\n",
       "    </tr>\n",
       "  </tbody>\n",
       "</table>\n",
       "<p>5 rows × 38 columns</p>\n",
       "</div>"
      ]
     },
     "execution_count": 48,
     "metadata": {},
     "output_type": "execute_result"
    }
   ],
   "execution_count": 48
  },
  {
   "metadata": {
    "ExecuteTime": {
     "end_time": "2025-02-28T12:24:12.382853Z",
     "start_time": "2025-02-28T12:24:12.373763Z"
    }
   },
   "cell_type": "code",
   "source": [
    "X_train, X_test, y_train, y_test = train_test_split(x,y,\n",
    "                                                   test_size=0.15,random_state=4818)\n",
    "\n",
    "X_train.shape,X_test.shape"
   ],
   "id": "cba1e47cfd1e172",
   "outputs": [
    {
     "data": {
      "text/plain": [
       "((699, 38), (124, 38))"
      ]
     },
     "execution_count": 49,
     "metadata": {},
     "output_type": "execute_result"
    }
   ],
   "execution_count": 49
  },
  {
   "metadata": {
    "ExecuteTime": {
     "end_time": "2025-02-28T12:24:20.432060Z",
     "start_time": "2025-02-28T12:24:20.428762Z"
    }
   },
   "cell_type": "code",
   "source": "rfr = RandomForestRegressor()",
   "id": "5b556d65b4c93eb1",
   "outputs": [],
   "execution_count": 50
  },
  {
   "metadata": {
    "ExecuteTime": {
     "end_time": "2025-02-28T12:25:08.786174Z",
     "start_time": "2025-02-28T12:25:08.782105Z"
    }
   },
   "cell_type": "code",
   "source": [
    "param_grid = { \n",
    "            \"n_estimators\"      : [10,20,30],\n",
    "            \"max_features\"      : [\"sqrt\", \"log2\"],\n",
    "            \"min_samples_split\" : [2,4,8],\n",
    "            \"bootstrap\": [True, False],\n",
    "            }"
   ],
   "id": "b30b280bc91fd07d",
   "outputs": [],
   "execution_count": 51
  },
  {
   "metadata": {
    "ExecuteTime": {
     "end_time": "2025-02-28T12:25:16.040948Z",
     "start_time": "2025-02-28T12:25:16.036941Z"
    }
   },
   "cell_type": "code",
   "source": "grid_search = GridSearchCV(rfr, param_grid, cv=5, scoring='r2')",
   "id": "656b5680769fdb6b",
   "outputs": [],
   "execution_count": 52
  },
  {
   "metadata": {
    "ExecuteTime": {
     "end_time": "2025-02-28T12:25:24.468046Z",
     "start_time": "2025-02-28T12:25:18.230830Z"
    }
   },
   "cell_type": "code",
   "source": "grid_search.fit(X_train,y_train)",
   "id": "a733722a831cdcb5",
   "outputs": [
    {
     "data": {
      "text/plain": [
       "GridSearchCV(cv=5, estimator=RandomForestRegressor(),\n",
       "             param_grid={'bootstrap': [True, False],\n",
       "                         'max_features': ['sqrt', 'log2'],\n",
       "                         'min_samples_split': [2, 4, 8],\n",
       "                         'n_estimators': [10, 20, 30]},\n",
       "             scoring='r2')"
      ],
      "text/html": [
       "<style>#sk-container-id-1 {\n",
       "  /* Definition of color scheme common for light and dark mode */\n",
       "  --sklearn-color-text: #000;\n",
       "  --sklearn-color-text-muted: #666;\n",
       "  --sklearn-color-line: gray;\n",
       "  /* Definition of color scheme for unfitted estimators */\n",
       "  --sklearn-color-unfitted-level-0: #fff5e6;\n",
       "  --sklearn-color-unfitted-level-1: #f6e4d2;\n",
       "  --sklearn-color-unfitted-level-2: #ffe0b3;\n",
       "  --sklearn-color-unfitted-level-3: chocolate;\n",
       "  /* Definition of color scheme for fitted estimators */\n",
       "  --sklearn-color-fitted-level-0: #f0f8ff;\n",
       "  --sklearn-color-fitted-level-1: #d4ebff;\n",
       "  --sklearn-color-fitted-level-2: #b3dbfd;\n",
       "  --sklearn-color-fitted-level-3: cornflowerblue;\n",
       "\n",
       "  /* Specific color for light theme */\n",
       "  --sklearn-color-text-on-default-background: var(--sg-text-color, var(--theme-code-foreground, var(--jp-content-font-color1, black)));\n",
       "  --sklearn-color-background: var(--sg-background-color, var(--theme-background, var(--jp-layout-color0, white)));\n",
       "  --sklearn-color-border-box: var(--sg-text-color, var(--theme-code-foreground, var(--jp-content-font-color1, black)));\n",
       "  --sklearn-color-icon: #696969;\n",
       "\n",
       "  @media (prefers-color-scheme: dark) {\n",
       "    /* Redefinition of color scheme for dark theme */\n",
       "    --sklearn-color-text-on-default-background: var(--sg-text-color, var(--theme-code-foreground, var(--jp-content-font-color1, white)));\n",
       "    --sklearn-color-background: var(--sg-background-color, var(--theme-background, var(--jp-layout-color0, #111)));\n",
       "    --sklearn-color-border-box: var(--sg-text-color, var(--theme-code-foreground, var(--jp-content-font-color1, white)));\n",
       "    --sklearn-color-icon: #878787;\n",
       "  }\n",
       "}\n",
       "\n",
       "#sk-container-id-1 {\n",
       "  color: var(--sklearn-color-text);\n",
       "}\n",
       "\n",
       "#sk-container-id-1 pre {\n",
       "  padding: 0;\n",
       "}\n",
       "\n",
       "#sk-container-id-1 input.sk-hidden--visually {\n",
       "  border: 0;\n",
       "  clip: rect(1px 1px 1px 1px);\n",
       "  clip: rect(1px, 1px, 1px, 1px);\n",
       "  height: 1px;\n",
       "  margin: -1px;\n",
       "  overflow: hidden;\n",
       "  padding: 0;\n",
       "  position: absolute;\n",
       "  width: 1px;\n",
       "}\n",
       "\n",
       "#sk-container-id-1 div.sk-dashed-wrapped {\n",
       "  border: 1px dashed var(--sklearn-color-line);\n",
       "  margin: 0 0.4em 0.5em 0.4em;\n",
       "  box-sizing: border-box;\n",
       "  padding-bottom: 0.4em;\n",
       "  background-color: var(--sklearn-color-background);\n",
       "}\n",
       "\n",
       "#sk-container-id-1 div.sk-container {\n",
       "  /* jupyter's `normalize.less` sets `[hidden] { display: none; }`\n",
       "     but bootstrap.min.css set `[hidden] { display: none !important; }`\n",
       "     so we also need the `!important` here to be able to override the\n",
       "     default hidden behavior on the sphinx rendered scikit-learn.org.\n",
       "     See: https://github.com/scikit-learn/scikit-learn/issues/21755 */\n",
       "  display: inline-block !important;\n",
       "  position: relative;\n",
       "}\n",
       "\n",
       "#sk-container-id-1 div.sk-text-repr-fallback {\n",
       "  display: none;\n",
       "}\n",
       "\n",
       "div.sk-parallel-item,\n",
       "div.sk-serial,\n",
       "div.sk-item {\n",
       "  /* draw centered vertical line to link estimators */\n",
       "  background-image: linear-gradient(var(--sklearn-color-text-on-default-background), var(--sklearn-color-text-on-default-background));\n",
       "  background-size: 2px 100%;\n",
       "  background-repeat: no-repeat;\n",
       "  background-position: center center;\n",
       "}\n",
       "\n",
       "/* Parallel-specific style estimator block */\n",
       "\n",
       "#sk-container-id-1 div.sk-parallel-item::after {\n",
       "  content: \"\";\n",
       "  width: 100%;\n",
       "  border-bottom: 2px solid var(--sklearn-color-text-on-default-background);\n",
       "  flex-grow: 1;\n",
       "}\n",
       "\n",
       "#sk-container-id-1 div.sk-parallel {\n",
       "  display: flex;\n",
       "  align-items: stretch;\n",
       "  justify-content: center;\n",
       "  background-color: var(--sklearn-color-background);\n",
       "  position: relative;\n",
       "}\n",
       "\n",
       "#sk-container-id-1 div.sk-parallel-item {\n",
       "  display: flex;\n",
       "  flex-direction: column;\n",
       "}\n",
       "\n",
       "#sk-container-id-1 div.sk-parallel-item:first-child::after {\n",
       "  align-self: flex-end;\n",
       "  width: 50%;\n",
       "}\n",
       "\n",
       "#sk-container-id-1 div.sk-parallel-item:last-child::after {\n",
       "  align-self: flex-start;\n",
       "  width: 50%;\n",
       "}\n",
       "\n",
       "#sk-container-id-1 div.sk-parallel-item:only-child::after {\n",
       "  width: 0;\n",
       "}\n",
       "\n",
       "/* Serial-specific style estimator block */\n",
       "\n",
       "#sk-container-id-1 div.sk-serial {\n",
       "  display: flex;\n",
       "  flex-direction: column;\n",
       "  align-items: center;\n",
       "  background-color: var(--sklearn-color-background);\n",
       "  padding-right: 1em;\n",
       "  padding-left: 1em;\n",
       "}\n",
       "\n",
       "\n",
       "/* Toggleable style: style used for estimator/Pipeline/ColumnTransformer box that is\n",
       "clickable and can be expanded/collapsed.\n",
       "- Pipeline and ColumnTransformer use this feature and define the default style\n",
       "- Estimators will overwrite some part of the style using the `sk-estimator` class\n",
       "*/\n",
       "\n",
       "/* Pipeline and ColumnTransformer style (default) */\n",
       "\n",
       "#sk-container-id-1 div.sk-toggleable {\n",
       "  /* Default theme specific background. It is overwritten whether we have a\n",
       "  specific estimator or a Pipeline/ColumnTransformer */\n",
       "  background-color: var(--sklearn-color-background);\n",
       "}\n",
       "\n",
       "/* Toggleable label */\n",
       "#sk-container-id-1 label.sk-toggleable__label {\n",
       "  cursor: pointer;\n",
       "  display: flex;\n",
       "  width: 100%;\n",
       "  margin-bottom: 0;\n",
       "  padding: 0.5em;\n",
       "  box-sizing: border-box;\n",
       "  text-align: center;\n",
       "  align-items: start;\n",
       "  justify-content: space-between;\n",
       "  gap: 0.5em;\n",
       "}\n",
       "\n",
       "#sk-container-id-1 label.sk-toggleable__label .caption {\n",
       "  font-size: 0.6rem;\n",
       "  font-weight: lighter;\n",
       "  color: var(--sklearn-color-text-muted);\n",
       "}\n",
       "\n",
       "#sk-container-id-1 label.sk-toggleable__label-arrow:before {\n",
       "  /* Arrow on the left of the label */\n",
       "  content: \"▸\";\n",
       "  float: left;\n",
       "  margin-right: 0.25em;\n",
       "  color: var(--sklearn-color-icon);\n",
       "}\n",
       "\n",
       "#sk-container-id-1 label.sk-toggleable__label-arrow:hover:before {\n",
       "  color: var(--sklearn-color-text);\n",
       "}\n",
       "\n",
       "/* Toggleable content - dropdown */\n",
       "\n",
       "#sk-container-id-1 div.sk-toggleable__content {\n",
       "  max-height: 0;\n",
       "  max-width: 0;\n",
       "  overflow: hidden;\n",
       "  text-align: left;\n",
       "  /* unfitted */\n",
       "  background-color: var(--sklearn-color-unfitted-level-0);\n",
       "}\n",
       "\n",
       "#sk-container-id-1 div.sk-toggleable__content.fitted {\n",
       "  /* fitted */\n",
       "  background-color: var(--sklearn-color-fitted-level-0);\n",
       "}\n",
       "\n",
       "#sk-container-id-1 div.sk-toggleable__content pre {\n",
       "  margin: 0.2em;\n",
       "  border-radius: 0.25em;\n",
       "  color: var(--sklearn-color-text);\n",
       "  /* unfitted */\n",
       "  background-color: var(--sklearn-color-unfitted-level-0);\n",
       "}\n",
       "\n",
       "#sk-container-id-1 div.sk-toggleable__content.fitted pre {\n",
       "  /* unfitted */\n",
       "  background-color: var(--sklearn-color-fitted-level-0);\n",
       "}\n",
       "\n",
       "#sk-container-id-1 input.sk-toggleable__control:checked~div.sk-toggleable__content {\n",
       "  /* Expand drop-down */\n",
       "  max-height: 200px;\n",
       "  max-width: 100%;\n",
       "  overflow: auto;\n",
       "}\n",
       "\n",
       "#sk-container-id-1 input.sk-toggleable__control:checked~label.sk-toggleable__label-arrow:before {\n",
       "  content: \"▾\";\n",
       "}\n",
       "\n",
       "/* Pipeline/ColumnTransformer-specific style */\n",
       "\n",
       "#sk-container-id-1 div.sk-label input.sk-toggleable__control:checked~label.sk-toggleable__label {\n",
       "  color: var(--sklearn-color-text);\n",
       "  background-color: var(--sklearn-color-unfitted-level-2);\n",
       "}\n",
       "\n",
       "#sk-container-id-1 div.sk-label.fitted input.sk-toggleable__control:checked~label.sk-toggleable__label {\n",
       "  background-color: var(--sklearn-color-fitted-level-2);\n",
       "}\n",
       "\n",
       "/* Estimator-specific style */\n",
       "\n",
       "/* Colorize estimator box */\n",
       "#sk-container-id-1 div.sk-estimator input.sk-toggleable__control:checked~label.sk-toggleable__label {\n",
       "  /* unfitted */\n",
       "  background-color: var(--sklearn-color-unfitted-level-2);\n",
       "}\n",
       "\n",
       "#sk-container-id-1 div.sk-estimator.fitted input.sk-toggleable__control:checked~label.sk-toggleable__label {\n",
       "  /* fitted */\n",
       "  background-color: var(--sklearn-color-fitted-level-2);\n",
       "}\n",
       "\n",
       "#sk-container-id-1 div.sk-label label.sk-toggleable__label,\n",
       "#sk-container-id-1 div.sk-label label {\n",
       "  /* The background is the default theme color */\n",
       "  color: var(--sklearn-color-text-on-default-background);\n",
       "}\n",
       "\n",
       "/* On hover, darken the color of the background */\n",
       "#sk-container-id-1 div.sk-label:hover label.sk-toggleable__label {\n",
       "  color: var(--sklearn-color-text);\n",
       "  background-color: var(--sklearn-color-unfitted-level-2);\n",
       "}\n",
       "\n",
       "/* Label box, darken color on hover, fitted */\n",
       "#sk-container-id-1 div.sk-label.fitted:hover label.sk-toggleable__label.fitted {\n",
       "  color: var(--sklearn-color-text);\n",
       "  background-color: var(--sklearn-color-fitted-level-2);\n",
       "}\n",
       "\n",
       "/* Estimator label */\n",
       "\n",
       "#sk-container-id-1 div.sk-label label {\n",
       "  font-family: monospace;\n",
       "  font-weight: bold;\n",
       "  display: inline-block;\n",
       "  line-height: 1.2em;\n",
       "}\n",
       "\n",
       "#sk-container-id-1 div.sk-label-container {\n",
       "  text-align: center;\n",
       "}\n",
       "\n",
       "/* Estimator-specific */\n",
       "#sk-container-id-1 div.sk-estimator {\n",
       "  font-family: monospace;\n",
       "  border: 1px dotted var(--sklearn-color-border-box);\n",
       "  border-radius: 0.25em;\n",
       "  box-sizing: border-box;\n",
       "  margin-bottom: 0.5em;\n",
       "  /* unfitted */\n",
       "  background-color: var(--sklearn-color-unfitted-level-0);\n",
       "}\n",
       "\n",
       "#sk-container-id-1 div.sk-estimator.fitted {\n",
       "  /* fitted */\n",
       "  background-color: var(--sklearn-color-fitted-level-0);\n",
       "}\n",
       "\n",
       "/* on hover */\n",
       "#sk-container-id-1 div.sk-estimator:hover {\n",
       "  /* unfitted */\n",
       "  background-color: var(--sklearn-color-unfitted-level-2);\n",
       "}\n",
       "\n",
       "#sk-container-id-1 div.sk-estimator.fitted:hover {\n",
       "  /* fitted */\n",
       "  background-color: var(--sklearn-color-fitted-level-2);\n",
       "}\n",
       "\n",
       "/* Specification for estimator info (e.g. \"i\" and \"?\") */\n",
       "\n",
       "/* Common style for \"i\" and \"?\" */\n",
       "\n",
       ".sk-estimator-doc-link,\n",
       "a:link.sk-estimator-doc-link,\n",
       "a:visited.sk-estimator-doc-link {\n",
       "  float: right;\n",
       "  font-size: smaller;\n",
       "  line-height: 1em;\n",
       "  font-family: monospace;\n",
       "  background-color: var(--sklearn-color-background);\n",
       "  border-radius: 1em;\n",
       "  height: 1em;\n",
       "  width: 1em;\n",
       "  text-decoration: none !important;\n",
       "  margin-left: 0.5em;\n",
       "  text-align: center;\n",
       "  /* unfitted */\n",
       "  border: var(--sklearn-color-unfitted-level-1) 1pt solid;\n",
       "  color: var(--sklearn-color-unfitted-level-1);\n",
       "}\n",
       "\n",
       ".sk-estimator-doc-link.fitted,\n",
       "a:link.sk-estimator-doc-link.fitted,\n",
       "a:visited.sk-estimator-doc-link.fitted {\n",
       "  /* fitted */\n",
       "  border: var(--sklearn-color-fitted-level-1) 1pt solid;\n",
       "  color: var(--sklearn-color-fitted-level-1);\n",
       "}\n",
       "\n",
       "/* On hover */\n",
       "div.sk-estimator:hover .sk-estimator-doc-link:hover,\n",
       ".sk-estimator-doc-link:hover,\n",
       "div.sk-label-container:hover .sk-estimator-doc-link:hover,\n",
       ".sk-estimator-doc-link:hover {\n",
       "  /* unfitted */\n",
       "  background-color: var(--sklearn-color-unfitted-level-3);\n",
       "  color: var(--sklearn-color-background);\n",
       "  text-decoration: none;\n",
       "}\n",
       "\n",
       "div.sk-estimator.fitted:hover .sk-estimator-doc-link.fitted:hover,\n",
       ".sk-estimator-doc-link.fitted:hover,\n",
       "div.sk-label-container:hover .sk-estimator-doc-link.fitted:hover,\n",
       ".sk-estimator-doc-link.fitted:hover {\n",
       "  /* fitted */\n",
       "  background-color: var(--sklearn-color-fitted-level-3);\n",
       "  color: var(--sklearn-color-background);\n",
       "  text-decoration: none;\n",
       "}\n",
       "\n",
       "/* Span, style for the box shown on hovering the info icon */\n",
       ".sk-estimator-doc-link span {\n",
       "  display: none;\n",
       "  z-index: 9999;\n",
       "  position: relative;\n",
       "  font-weight: normal;\n",
       "  right: .2ex;\n",
       "  padding: .5ex;\n",
       "  margin: .5ex;\n",
       "  width: min-content;\n",
       "  min-width: 20ex;\n",
       "  max-width: 50ex;\n",
       "  color: var(--sklearn-color-text);\n",
       "  box-shadow: 2pt 2pt 4pt #999;\n",
       "  /* unfitted */\n",
       "  background: var(--sklearn-color-unfitted-level-0);\n",
       "  border: .5pt solid var(--sklearn-color-unfitted-level-3);\n",
       "}\n",
       "\n",
       ".sk-estimator-doc-link.fitted span {\n",
       "  /* fitted */\n",
       "  background: var(--sklearn-color-fitted-level-0);\n",
       "  border: var(--sklearn-color-fitted-level-3);\n",
       "}\n",
       "\n",
       ".sk-estimator-doc-link:hover span {\n",
       "  display: block;\n",
       "}\n",
       "\n",
       "/* \"?\"-specific style due to the `<a>` HTML tag */\n",
       "\n",
       "#sk-container-id-1 a.estimator_doc_link {\n",
       "  float: right;\n",
       "  font-size: 1rem;\n",
       "  line-height: 1em;\n",
       "  font-family: monospace;\n",
       "  background-color: var(--sklearn-color-background);\n",
       "  border-radius: 1rem;\n",
       "  height: 1rem;\n",
       "  width: 1rem;\n",
       "  text-decoration: none;\n",
       "  /* unfitted */\n",
       "  color: var(--sklearn-color-unfitted-level-1);\n",
       "  border: var(--sklearn-color-unfitted-level-1) 1pt solid;\n",
       "}\n",
       "\n",
       "#sk-container-id-1 a.estimator_doc_link.fitted {\n",
       "  /* fitted */\n",
       "  border: var(--sklearn-color-fitted-level-1) 1pt solid;\n",
       "  color: var(--sklearn-color-fitted-level-1);\n",
       "}\n",
       "\n",
       "/* On hover */\n",
       "#sk-container-id-1 a.estimator_doc_link:hover {\n",
       "  /* unfitted */\n",
       "  background-color: var(--sklearn-color-unfitted-level-3);\n",
       "  color: var(--sklearn-color-background);\n",
       "  text-decoration: none;\n",
       "}\n",
       "\n",
       "#sk-container-id-1 a.estimator_doc_link.fitted:hover {\n",
       "  /* fitted */\n",
       "  background-color: var(--sklearn-color-fitted-level-3);\n",
       "}\n",
       "</style><div id=\"sk-container-id-1\" class=\"sk-top-container\"><div class=\"sk-text-repr-fallback\"><pre>GridSearchCV(cv=5, estimator=RandomForestRegressor(),\n",
       "             param_grid={&#x27;bootstrap&#x27;: [True, False],\n",
       "                         &#x27;max_features&#x27;: [&#x27;sqrt&#x27;, &#x27;log2&#x27;],\n",
       "                         &#x27;min_samples_split&#x27;: [2, 4, 8],\n",
       "                         &#x27;n_estimators&#x27;: [10, 20, 30]},\n",
       "             scoring=&#x27;r2&#x27;)</pre><b>In a Jupyter environment, please rerun this cell to show the HTML representation or trust the notebook. <br />On GitHub, the HTML representation is unable to render, please try loading this page with nbviewer.org.</b></div><div class=\"sk-container\" hidden><div class=\"sk-item sk-dashed-wrapped\"><div class=\"sk-label-container\"><div class=\"sk-label fitted sk-toggleable\"><input class=\"sk-toggleable__control sk-hidden--visually\" id=\"sk-estimator-id-1\" type=\"checkbox\" ><label for=\"sk-estimator-id-1\" class=\"sk-toggleable__label fitted sk-toggleable__label-arrow\"><div><div>GridSearchCV</div></div><div><a class=\"sk-estimator-doc-link fitted\" rel=\"noreferrer\" target=\"_blank\" href=\"https://scikit-learn.org/1.6/modules/generated/sklearn.model_selection.GridSearchCV.html\">?<span>Documentation for GridSearchCV</span></a><span class=\"sk-estimator-doc-link fitted\">i<span>Fitted</span></span></div></label><div class=\"sk-toggleable__content fitted\"><pre>GridSearchCV(cv=5, estimator=RandomForestRegressor(),\n",
       "             param_grid={&#x27;bootstrap&#x27;: [True, False],\n",
       "                         &#x27;max_features&#x27;: [&#x27;sqrt&#x27;, &#x27;log2&#x27;],\n",
       "                         &#x27;min_samples_split&#x27;: [2, 4, 8],\n",
       "                         &#x27;n_estimators&#x27;: [10, 20, 30]},\n",
       "             scoring=&#x27;r2&#x27;)</pre></div> </div></div><div class=\"sk-parallel\"><div class=\"sk-parallel-item\"><div class=\"sk-item\"><div class=\"sk-label-container\"><div class=\"sk-label fitted sk-toggleable\"><input class=\"sk-toggleable__control sk-hidden--visually\" id=\"sk-estimator-id-2\" type=\"checkbox\" ><label for=\"sk-estimator-id-2\" class=\"sk-toggleable__label fitted sk-toggleable__label-arrow\"><div><div>best_estimator_: RandomForestRegressor</div></div></label><div class=\"sk-toggleable__content fitted\"><pre>RandomForestRegressor(bootstrap=False, max_features=&#x27;sqrt&#x27;, n_estimators=20)</pre></div> </div></div><div class=\"sk-serial\"><div class=\"sk-item\"><div class=\"sk-estimator fitted sk-toggleable\"><input class=\"sk-toggleable__control sk-hidden--visually\" id=\"sk-estimator-id-3\" type=\"checkbox\" ><label for=\"sk-estimator-id-3\" class=\"sk-toggleable__label fitted sk-toggleable__label-arrow\"><div><div>RandomForestRegressor</div></div><div><a class=\"sk-estimator-doc-link fitted\" rel=\"noreferrer\" target=\"_blank\" href=\"https://scikit-learn.org/1.6/modules/generated/sklearn.ensemble.RandomForestRegressor.html\">?<span>Documentation for RandomForestRegressor</span></a></div></label><div class=\"sk-toggleable__content fitted\"><pre>RandomForestRegressor(bootstrap=False, max_features=&#x27;sqrt&#x27;, n_estimators=20)</pre></div> </div></div></div></div></div></div></div></div></div>"
      ]
     },
     "execution_count": 53,
     "metadata": {},
     "output_type": "execute_result"
    }
   ],
   "execution_count": 53
  },
  {
   "metadata": {
    "ExecuteTime": {
     "end_time": "2025-02-28T12:26:00.304504Z",
     "start_time": "2025-02-28T12:26:00.298810Z"
    }
   },
   "cell_type": "code",
   "source": [
    "print('Best hyper parameter :' , grid_search.best_params_)\n",
    "print('Best model :' , grid_search.best_estimator_)"
   ],
   "id": "223a2fbb9fc1877d",
   "outputs": [
    {
     "name": "stdout",
     "output_type": "stream",
     "text": [
      "Best hyper parameter : {'bootstrap': False, 'max_features': 'sqrt', 'min_samples_split': 2, 'n_estimators': 20}\n",
      "Best model : RandomForestRegressor(bootstrap=False, max_features='sqrt', n_estimators=20)\n"
     ]
    }
   ],
   "execution_count": 54
  },
  {
   "metadata": {
    "ExecuteTime": {
     "end_time": "2025-02-28T12:26:31.131144Z",
     "start_time": "2025-02-28T12:26:31.126218Z"
    }
   },
   "cell_type": "code",
   "source": [
    "rfr =  RandomForestRegressor(bootstrap=False, max_features='sqrt', min_samples_split=2,\n",
    "                      n_estimators=20)"
   ],
   "id": "8ad5f27a1766a935",
   "outputs": [],
   "execution_count": 56
  },
  {
   "metadata": {
    "ExecuteTime": {
     "end_time": "2025-02-28T12:26:31.822429Z",
     "start_time": "2025-02-28T12:26:31.780059Z"
    }
   },
   "cell_type": "code",
   "source": "rf_grid = rfr.fit(X_train,y_train)",
   "id": "7044fcdaa239bfa",
   "outputs": [],
   "execution_count": 57
  },
  {
   "metadata": {
    "ExecuteTime": {
     "end_time": "2025-02-28T12:27:02.642522Z",
     "start_time": "2025-02-28T12:27:02.622353Z"
    }
   },
   "cell_type": "code",
   "source": [
    "y_train_pred = rf_grid.predict(X_train)\n",
    "y_pred = rf_grid.predict(X_test)\n",
    "\n",
    "print('Train R2 score', metrics.r2_score(y_train,y_train_pred))\n",
    "print('Train MAE', metrics.mean_absolute_error(y_train,y_train_pred))\n",
    "print(\"Train MAE on the orig price:\", np.exp(metrics.mean_absolute_error(y_train,y_train_pred)), \"\\n\")\n",
    "\n",
    "print('Test R2 score', metrics.r2_score(y_test,y_pred))\n",
    "print('Test MAE', metrics.mean_absolute_error(y_test,y_pred))\n",
    "print(\"Test MAE on the orig price:\", np.exp(metrics.mean_absolute_error(y_test,y_pred)))"
   ],
   "id": "db4ce704eb6a331f",
   "outputs": [
    {
     "name": "stdout",
     "output_type": "stream",
     "text": [
      "Train R2 score 0.9826630769813087\n",
      "Train MAE 0.026564926196946177\n",
      "Train MAE on the orig price: 1.026920919167128 \n",
      "\n",
      "Test R2 score 0.851577138178187\n",
      "Test MAE 0.12952713398311305\n",
      "Test MAE on the orig price: 1.1382899973853207\n"
     ]
    }
   ],
   "execution_count": 59
  },
  {
   "metadata": {
    "ExecuteTime": {
     "end_time": "2025-02-28T12:27:18.432885Z",
     "start_time": "2025-02-28T12:27:16.782486Z"
    }
   },
   "cell_type": "code",
   "source": [
    "predicted = []\n",
    "testtrain = np.array(x)\n",
    "for i in range(len(testtrain)):\n",
    "    predicted.append(rfr.predict([testtrain[i]]))\n",
    "    \n",
    "predicted"
   ],
   "id": "6028203ca8d003b5",
   "outputs": [
    {
     "data": {
      "text/plain": [
       "[array([10.49918279]),\n",
       " array([10.58395051]),\n",
       " array([10.58395051]),\n",
       " array([11.15610765]),\n",
       " array([10.09628365]),\n",
       " array([10.09628365]),\n",
       " array([9.99834308]),\n",
       " array([10.98188013]),\n",
       " array([10.81975828]),\n",
       " array([11.00193316]),\n",
       " array([11.44785347]),\n",
       " array([11.00193316]),\n",
       " array([9.76938457]),\n",
       " array([10.09628365]),\n",
       " array([10.4909964]),\n",
       " array([10.91918652]),\n",
       " array([11.08812462]),\n",
       " array([10.37345993]),\n",
       " array([10.38868763]),\n",
       " array([10.37345993]),\n",
       " array([10.30527926]),\n",
       " array([10.28223747]),\n",
       " array([10.40289827]),\n",
       " array([10.74073508]),\n",
       " array([10.44665451]),\n",
       " array([10.54507825]),\n",
       " array([10.4909964]),\n",
       " array([10.4335274]),\n",
       " array([10.5963847]),\n",
       " array([10.58380275]),\n",
       " array([10.91918652]),\n",
       " array([10.57106048]),\n",
       " array([10.54507825]),\n",
       " array([10.64323869]),\n",
       " array([10.60421065]),\n",
       " array([10.54507825]),\n",
       " array([10.69572041]),\n",
       " array([10.64323869]),\n",
       " array([10.60421065]),\n",
       " array([10.6511054]),\n",
       " array([10.59060387]),\n",
       " array([10.89655412]),\n",
       " array([10.51840288]),\n",
       " array([10.59660973]),\n",
       " array([10.58380275]),\n",
       " array([10.64323869]),\n",
       " array([10.59660973]),\n",
       " array([10.69572041]),\n",
       " array([10.81957826]),\n",
       " array([10.69572041]),\n",
       " array([10.6511054]),\n",
       " array([10.60421065]),\n",
       " array([10.64323869]),\n",
       " array([10.65926363]),\n",
       " array([10.71419552]),\n",
       " array([10.50479353]),\n",
       " array([10.5705474]),\n",
       " array([10.67873905]),\n",
       " array([10.57106048]),\n",
       " array([10.70160267]),\n",
       " array([10.4909964]),\n",
       " array([10.62349978]),\n",
       " array([10.62911787]),\n",
       " array([10.59060387]),\n",
       " array([10.08539236]),\n",
       " array([11.18440751]),\n",
       " array([10.5963847]),\n",
       " array([10.62349978]),\n",
       " array([10.71714982]),\n",
       " array([10.59660973]),\n",
       " array([10.5963847]),\n",
       " array([10.59658473]),\n",
       " array([10.67873905]),\n",
       " array([10.62911787]),\n",
       " array([10.71714982]),\n",
       " array([10.67873905]),\n",
       " array([10.6896696]),\n",
       " array([10.75128529]),\n",
       " array([10.62911787]),\n",
       " array([10.59060387]),\n",
       " array([10.69171761]),\n",
       " array([10.51840288]),\n",
       " array([10.78931908]),\n",
       " array([10.79937147]),\n",
       " array([9.99609334]),\n",
       " array([10.90113705]),\n",
       " array([10.54507825]),\n",
       " array([10.66872281]),\n",
       " array([10.66872281]),\n",
       " array([10.59159274]),\n",
       " array([10.71275315]),\n",
       " array([10.85880667]),\n",
       " array([10.71275315]),\n",
       " array([10.71275315]),\n",
       " array([10.57106048]),\n",
       " array([10.73552652]),\n",
       " array([10.65702403]),\n",
       " array([10.66872281]),\n",
       " array([10.63255376]),\n",
       " array([10.68228343]),\n",
       " array([10.62740639]),\n",
       " array([10.62108341]),\n",
       " array([10.71419552]),\n",
       " array([10.91490663]),\n",
       " array([10.71275315]),\n",
       " array([10.62740639]),\n",
       " array([10.71419552]),\n",
       " array([10.71275315]),\n",
       " array([10.87736226]),\n",
       " array([10.72875889]),\n",
       " array([10.7252478]),\n",
       " array([10.7252478]),\n",
       " array([10.71419552]),\n",
       " array([10.66872281]),\n",
       " array([10.76717614]),\n",
       " array([10.56614975]),\n",
       " array([11.14572388]),\n",
       " array([10.71197033]),\n",
       " array([10.76717614]),\n",
       " array([10.59159274]),\n",
       " array([10.63255376]),\n",
       " array([10.71197033]),\n",
       " array([10.59159274]),\n",
       " array([10.73049881]),\n",
       " array([10.76717614]),\n",
       " array([10.59159274]),\n",
       " array([10.64041236]),\n",
       " array([10.96818105]),\n",
       " array([10.73552652]),\n",
       " array([10.9239581]),\n",
       " array([10.40092394]),\n",
       " array([10.5570058]),\n",
       " array([10.65348127]),\n",
       " array([10.65348127]),\n",
       " array([10.58380275]),\n",
       " array([10.68487452]),\n",
       " array([10.50815252]),\n",
       " array([10.66232762]),\n",
       " array([10.57117588]),\n",
       " array([10.51693903]),\n",
       " array([10.56591374]),\n",
       " array([10.66895539]),\n",
       " array([10.61864081]),\n",
       " array([10.51840288]),\n",
       " array([10.61098079]),\n",
       " array([10.61098079]),\n",
       " array([10.62261635]),\n",
       " array([10.61098079]),\n",
       " array([10.45682081]),\n",
       " array([10.56000232]),\n",
       " array([10.51693903]),\n",
       " array([10.45682081]),\n",
       " array([10.67821472]),\n",
       " array([9.99609334]),\n",
       " array([10.56000232]),\n",
       " array([10.66895539]),\n",
       " array([10.49918279]),\n",
       " array([10.54507825]),\n",
       " array([10.80525331]),\n",
       " array([10.57117588]),\n",
       " array([10.63344871]),\n",
       " array([10.51502627]),\n",
       " array([10.66232762]),\n",
       " array([9.99609334]),\n",
       " array([10.66232762]),\n",
       " array([10.52576195]),\n",
       " array([10.56591374]),\n",
       " array([9.99609334]),\n",
       " array([10.60236089]),\n",
       " array([10.43382164]),\n",
       " array([9.99609334]),\n",
       " array([10.63320771]),\n",
       " array([10.71413376]),\n",
       " array([10.71413376]),\n",
       " array([10.64280241]),\n",
       " array([10.68100782]),\n",
       " array([10.62108341]),\n",
       " array([10.79937147]),\n",
       " array([10.68100782]),\n",
       " array([10.70750504]),\n",
       " array([10.62108341]),\n",
       " array([10.68100782]),\n",
       " array([10.68100782]),\n",
       " array([10.66465439]),\n",
       " array([10.66465439]),\n",
       " array([10.79955517]),\n",
       " array([10.68100782]),\n",
       " array([10.63225848]),\n",
       " array([9.8516678]),\n",
       " array([9.99609334]),\n",
       " array([10.21168494]),\n",
       " array([10.21168494]),\n",
       " array([10.30891933]),\n",
       " array([10.43631625]),\n",
       " array([10.12623102]),\n",
       " array([10.12623102]),\n",
       " array([10.83938481]),\n",
       " array([11.69516368]),\n",
       " array([11.4530693]),\n",
       " array([11.57276861]),\n",
       " array([11.12858564]),\n",
       " array([11.10299629]),\n",
       " array([10.93292838]),\n",
       " array([11.53811551]),\n",
       " array([10.75769009]),\n",
       " array([11.2386465]),\n",
       " array([10.80952591]),\n",
       " array([11.37213349]),\n",
       " array([10.80757087]),\n",
       " array([10.93292838]),\n",
       " array([11.31445014]),\n",
       " array([11.82473902]),\n",
       " array([10.99356351]),\n",
       " array([10.80757087]),\n",
       " array([11.03487353]),\n",
       " array([10.94146625]),\n",
       " array([11.03558876]),\n",
       " array([10.96435838]),\n",
       " array([11.15265635]),\n",
       " array([11.05343879]),\n",
       " array([11.0397167]),\n",
       " array([10.98250671]),\n",
       " array([10.85880667]),\n",
       " array([11.03472836]),\n",
       " array([11.0664821]),\n",
       " array([11.17624155]),\n",
       " array([10.9054738]),\n",
       " array([10.81957826]),\n",
       " array([11.1842825]),\n",
       " array([10.77874793]),\n",
       " array([10.78911287]),\n",
       " array([11.1842825]),\n",
       " array([11.23254177]),\n",
       " array([11.40745383]),\n",
       " array([11.00193316]),\n",
       " array([11.05343879]),\n",
       " array([11.18358748]),\n",
       " array([11.18358748]),\n",
       " array([11.03472836]),\n",
       " array([11.02576449]),\n",
       " array([10.94146625]),\n",
       " array([11.20490462]),\n",
       " array([11.15265635]),\n",
       " array([11.03558876]),\n",
       " array([10.9054738]),\n",
       " array([11.15753541]),\n",
       " array([11.02576449]),\n",
       " array([11.3264754]),\n",
       " array([11.11233821]),\n",
       " array([11.15753541]),\n",
       " array([10.81957826]),\n",
       " array([10.96427962]),\n",
       " array([11.55943297]),\n",
       " array([10.91490663]),\n",
       " array([10.98250671]),\n",
       " array([10.98250671]),\n",
       " array([11.15265635]),\n",
       " array([11.0184652]),\n",
       " array([10.77874793]),\n",
       " array([11.10547079]),\n",
       " array([11.28965691]),\n",
       " array([11.05343879]),\n",
       " array([11.03558876]),\n",
       " array([11.02576449]),\n",
       " array([10.98250671]),\n",
       " array([11.02576449]),\n",
       " array([11.03558876]),\n",
       " array([11.40424834]),\n",
       " array([11.4007641]),\n",
       " array([11.3085626]),\n",
       " array([11.11185277]),\n",
       " array([11.10480684]),\n",
       " array([11.40424834]),\n",
       " array([11.1702943]),\n",
       " array([10.98512322]),\n",
       " array([10.95954023]),\n",
       " array([11.30025868]),\n",
       " array([10.94272132]),\n",
       " array([11.00193316]),\n",
       " array([11.08198869]),\n",
       " array([11.06699254]),\n",
       " array([10.98250671]),\n",
       " array([11.17624155]),\n",
       " array([11.35028888]),\n",
       " array([11.03558876]),\n",
       " array([11.01019918]),\n",
       " array([11.21106074]),\n",
       " array([10.94146625]),\n",
       " array([11.06699254]),\n",
       " array([11.11185277]),\n",
       " array([11.26433589]),\n",
       " array([11.45210904]),\n",
       " array([11.28965691]),\n",
       " array([11.06699254]),\n",
       " array([10.98250671]),\n",
       " array([11.35028888]),\n",
       " array([11.09938854]),\n",
       " array([11.62527152]),\n",
       " array([11.11233821]),\n",
       " array([11.19807772]),\n",
       " array([11.06699254]),\n",
       " array([11.00893601]),\n",
       " array([11.28965691]),\n",
       " array([10.9239581]),\n",
       " array([11.10480684]),\n",
       " array([10.88359586]),\n",
       " array([11.21554392]),\n",
       " array([11.65260045]),\n",
       " array([11.03472836]),\n",
       " array([11.79766471]),\n",
       " array([12.05577287]),\n",
       " array([11.22511005]),\n",
       " array([10.92836277]),\n",
       " array([11.89818787]),\n",
       " array([10.98250671]),\n",
       " array([11.26433589]),\n",
       " array([11.57580636]),\n",
       " array([11.25494483]),\n",
       " array([11.17624155]),\n",
       " array([10.96802586]),\n",
       " array([11.05343879]),\n",
       " array([10.92836277]),\n",
       " array([11.55943297]),\n",
       " array([11.16758603]),\n",
       " array([11.00193316]),\n",
       " array([11.12591384]),\n",
       " array([10.93292838]),\n",
       " array([11.19807772]),\n",
       " array([11.08198869]),\n",
       " array([10.96802586]),\n",
       " array([11.25143082]),\n",
       " array([10.96435838]),\n",
       " array([11.21554392]),\n",
       " array([11.69831882]),\n",
       " array([11.09725849]),\n",
       " array([11.11233821]),\n",
       " array([11.64035075]),\n",
       " array([11.45210904]),\n",
       " array([11.03558876]),\n",
       " array([11.45210904]),\n",
       " array([10.98250671]),\n",
       " array([11.21554392]),\n",
       " array([10.98250671]),\n",
       " array([11.0635233]),\n",
       " array([10.93292838]),\n",
       " array([10.88359586]),\n",
       " array([10.98527577]),\n",
       " array([11.1842825]),\n",
       " array([11.33457535]),\n",
       " array([11.3085626]),\n",
       " array([11.40754273]),\n",
       " array([11.45210904]),\n",
       " array([11.3085626]),\n",
       " array([11.15480662]),\n",
       " array([11.26604256]),\n",
       " array([11.26604256]),\n",
       " array([10.93308911]),\n",
       " array([11.09938854]),\n",
       " array([11.21554392]),\n",
       " array([11.35028888]),\n",
       " array([11.20529916]),\n",
       " array([11.69831882]),\n",
       " array([11.39627928]),\n",
       " array([11.65267871]),\n",
       " array([11.30025868]),\n",
       " array([11.29824222]),\n",
       " array([11.3264754]),\n",
       " array([11.30025868]),\n",
       " array([11.45210904]),\n",
       " array([11.77528204]),\n",
       " array([11.9183239]),\n",
       " array([11.17451134]),\n",
       " array([11.2835123]),\n",
       " array([11.09725849]),\n",
       " array([11.11233821]),\n",
       " array([11.45210904]),\n",
       " array([11.45105006]),\n",
       " array([11.22844073]),\n",
       " array([11.28965691]),\n",
       " array([11.36198629]),\n",
       " array([11.37354845]),\n",
       " array([11.57110003]),\n",
       " array([11.57340655]),\n",
       " array([11.00208317]),\n",
       " array([11.17624155]),\n",
       " array([11.21554392]),\n",
       " array([11.57340655]),\n",
       " array([11.01019918]),\n",
       " array([11.09066002]),\n",
       " array([11.15753541]),\n",
       " array([11.30025868]),\n",
       " array([11.09066002]),\n",
       " array([11.25143082]),\n",
       " array([11.09066002]),\n",
       " array([11.03745008]),\n",
       " array([11.35028888]),\n",
       " array([11.3736519]),\n",
       " array([11.26446411]),\n",
       " array([11.03745008]),\n",
       " array([11.03745008]),\n",
       " array([11.52277678]),\n",
       " array([11.22511005]),\n",
       " array([11.23835703]),\n",
       " array([11.25494483]),\n",
       " array([11.23835703]),\n",
       " array([11.23431533]),\n",
       " array([11.26433589]),\n",
       " array([12.10065657]),\n",
       " array([12.10065657]),\n",
       " array([11.3264754]),\n",
       " array([11.28916945]),\n",
       " array([11.34450681]),\n",
       " array([11.21438465]),\n",
       " array([11.08198869]),\n",
       " array([11.84652228]),\n",
       " array([11.84652228]),\n",
       " array([10.81957826]),\n",
       " array([10.75769009]),\n",
       " array([10.79937147]),\n",
       " array([11.09990231]),\n",
       " array([10.75769009]),\n",
       " array([10.8778585]),\n",
       " array([10.96818105]),\n",
       " array([10.86837795]),\n",
       " array([10.95063109]),\n",
       " array([11.03472836]),\n",
       " array([10.97743601]),\n",
       " array([10.98666695]),\n",
       " array([11.02836845]),\n",
       " array([11.31435257]),\n",
       " array([10.98666695]),\n",
       " array([10.97743601]),\n",
       " array([11.33845302]),\n",
       " array([12.02705646]),\n",
       " array([12.02705646]),\n",
       " array([12.17126532]),\n",
       " array([11.08198869]),\n",
       " array([10.75342478]),\n",
       " array([10.70546672]),\n",
       " array([11.09990231]),\n",
       " array([10.79528065]),\n",
       " array([10.94183661]),\n",
       " array([10.83938481]),\n",
       " array([10.93292838]),\n",
       " array([10.98424624]),\n",
       " array([10.97992359]),\n",
       " array([10.97657454]),\n",
       " array([10.91589154]),\n",
       " array([10.98816644]),\n",
       " array([11.05372899]),\n",
       " array([11.08198869]),\n",
       " array([11.04959583]),\n",
       " array([11.0052615]),\n",
       " array([10.90577248]),\n",
       " array([11.0184652]),\n",
       " array([10.92934992]),\n",
       " array([11.08198869]),\n",
       " array([10.98512322]),\n",
       " array([11.00992579]),\n",
       " array([11.1842825]),\n",
       " array([11.05372899]),\n",
       " array([11.04959583]),\n",
       " array([10.97992359]),\n",
       " array([11.00992579]),\n",
       " array([11.22249589]),\n",
       " array([10.98512322]),\n",
       " array([10.97992359]),\n",
       " array([11.13490595]),\n",
       " array([11.11245522]),\n",
       " array([11.13490595]),\n",
       " array([11.00992579]),\n",
       " array([10.97657454]),\n",
       " array([11.22249589]),\n",
       " array([10.97992359]),\n",
       " array([11.13490595]),\n",
       " array([11.04276182]),\n",
       " array([11.07958094]),\n",
       " array([12.17126532]),\n",
       " array([11.38497845]),\n",
       " array([11.21168523]),\n",
       " array([11.21168523]),\n",
       " array([11.21168523]),\n",
       " array([11.21168523]),\n",
       " array([11.21168523]),\n",
       " array([11.21168523]),\n",
       " array([10.96802586]),\n",
       " array([11.03472836]),\n",
       " array([11.28965691]),\n",
       " array([11.14171685]),\n",
       " array([11.40648446]),\n",
       " array([11.51282546]),\n",
       " array([11.26433589]),\n",
       " array([11.28965691]),\n",
       " array([11.49220644]),\n",
       " array([11.59918196]),\n",
       " array([11.35028888]),\n",
       " array([10.96802586]),\n",
       " array([11.53581627]),\n",
       " array([11.51282546]),\n",
       " array([11.4615269]),\n",
       " array([11.53581627]),\n",
       " array([11.25143082]),\n",
       " array([11.41960885]),\n",
       " array([11.39062223]),\n",
       " array([11.60814473]),\n",
       " array([11.37354845]),\n",
       " array([11.52301126]),\n",
       " array([12.38738953]),\n",
       " array([11.27707654]),\n",
       " array([11.54992226]),\n",
       " array([11.78041487]),\n",
       " array([11.40307324]),\n",
       " array([11.41960885]),\n",
       " array([12.00144413]),\n",
       " array([11.58845668]),\n",
       " array([11.08198869]),\n",
       " array([11.76354928]),\n",
       " array([11.80651875]),\n",
       " array([11.60084476]),\n",
       " array([11.53581627]),\n",
       " array([11.56162039]),\n",
       " array([11.60814473]),\n",
       " array([11.51282546]),\n",
       " array([12.40820091]),\n",
       " array([11.4615269]),\n",
       " array([11.99615437]),\n",
       " array([11.99781155]),\n",
       " array([11.69189976]),\n",
       " array([12.26317578]),\n",
       " array([11.61727647]),\n",
       " array([11.51282546]),\n",
       " array([11.31435257]),\n",
       " array([11.11229863]),\n",
       " array([11.35028888]),\n",
       " array([11.56162039]),\n",
       " array([11.75405983]),\n",
       " array([11.50277411]),\n",
       " array([11.8823488]),\n",
       " array([11.51282546]),\n",
       " array([11.69516368]),\n",
       " array([12.18070355]),\n",
       " array([11.73598901]),\n",
       " array([11.48309882]),\n",
       " array([12.10065657]),\n",
       " array([11.95111588]),\n",
       " array([11.71985833]),\n",
       " array([12.32381124]),\n",
       " array([12.54250917]),\n",
       " array([11.69076905]),\n",
       " array([11.69076905]),\n",
       " array([11.92568391]),\n",
       " array([11.7752128]),\n",
       " array([11.89858961]),\n",
       " array([11.84932627]),\n",
       " array([11.7752128]),\n",
       " array([12.05519161]),\n",
       " array([11.45057122]),\n",
       " array([12.36729824]),\n",
       " array([11.89858961]),\n",
       " array([11.54238718]),\n",
       " array([11.75405983]),\n",
       " array([11.70338052]),\n",
       " array([11.96558582]),\n",
       " array([11.74997134]),\n",
       " array([11.78676213]),\n",
       " array([12.03165973]),\n",
       " array([12.03165973]),\n",
       " array([11.69516368]),\n",
       " array([12.03165973]),\n",
       " array([11.89858961]),\n",
       " array([11.05073126]),\n",
       " array([11.36198629]),\n",
       " array([11.4615269]),\n",
       " array([11.82766321]),\n",
       " array([12.36729824]),\n",
       " array([11.98286659]),\n",
       " array([12.36303366]),\n",
       " array([11.45094367]),\n",
       " array([11.66942481]),\n",
       " array([11.0664821]),\n",
       " array([11.11229863]),\n",
       " array([11.32055357]),\n",
       " array([11.69516368]),\n",
       " array([11.98286659]),\n",
       " array([11.50198584]),\n",
       " array([11.44024724]),\n",
       " array([11.69516368]),\n",
       " array([12.04349489]),\n",
       " array([11.84932627]),\n",
       " array([12.17039365]),\n",
       " array([12.61150442]),\n",
       " array([12.11936541]),\n",
       " array([11.84932627]),\n",
       " array([12.49124407]),\n",
       " array([11.95282333]),\n",
       " array([11.48902493]),\n",
       " array([12.02705646]),\n",
       " array([11.48902493]),\n",
       " array([11.89471245]),\n",
       " array([11.45300906]),\n",
       " array([11.45300906]),\n",
       " array([11.64042333]),\n",
       " array([11.45300906]),\n",
       " array([11.64042333]),\n",
       " array([11.64042333]),\n",
       " array([11.45300906]),\n",
       " array([12.03552929]),\n",
       " array([11.62372668]),\n",
       " array([11.62372668]),\n",
       " array([11.62372668]),\n",
       " array([11.62372668]),\n",
       " array([11.62372668]),\n",
       " array([12.03552929]),\n",
       " array([12.03552929]),\n",
       " array([12.03552929]),\n",
       " array([11.57769134]),\n",
       " array([11.62372668]),\n",
       " array([11.96462574]),\n",
       " array([12.27621737]),\n",
       " array([12.27621737]),\n",
       " array([12.27621737]),\n",
       " array([12.64429532]),\n",
       " array([12.27621737]),\n",
       " array([10.73617926]),\n",
       " array([10.96992094]),\n",
       " array([11.05073126]),\n",
       " array([10.40395976]),\n",
       " array([10.4188907]),\n",
       " array([10.34141985]),\n",
       " array([10.49127422]),\n",
       " array([10.4188907]),\n",
       " array([10.44769351]),\n",
       " array([10.23960258]),\n",
       " array([10.16546713]),\n",
       " array([10.16546713]),\n",
       " array([10.33462041]),\n",
       " array([10.57030082]),\n",
       " array([10.4909964]),\n",
       " array([10.61127701]),\n",
       " array([10.61127701]),\n",
       " array([10.5963847]),\n",
       " array([10.43683547]),\n",
       " array([10.61127701]),\n",
       " array([10.54507825]),\n",
       " array([10.43683547]),\n",
       " array([10.51840288]),\n",
       " array([10.68028631]),\n",
       " array([10.63320771]),\n",
       " array([10.46281759]),\n",
       " array([10.70301972]),\n",
       " array([10.64104644]),\n",
       " array([10.64756546]),\n",
       " array([10.4909964]),\n",
       " array([10.58380275]),\n",
       " array([10.5963847]),\n",
       " array([10.55937848]),\n",
       " array([10.5963847]),\n",
       " array([10.5963847]),\n",
       " array([10.56147409]),\n",
       " array([10.46281759]),\n",
       " array([10.5963847]),\n",
       " array([10.64540109]),\n",
       " array([10.64518677]),\n",
       " array([10.70301972]),\n",
       " array([10.64518677]),\n",
       " array([10.70301972]),\n",
       " array([10.852619]),\n",
       " array([10.74713299]),\n",
       " array([11.03828999]),\n",
       " array([10.95063109]),\n",
       " array([10.79937147]),\n",
       " array([10.860903]),\n",
       " array([10.77874793]),\n",
       " array([10.860903]),\n",
       " array([10.89655412]),\n",
       " array([10.8778585]),\n",
       " array([10.69171761]),\n",
       " array([10.99356351]),\n",
       " array([11.08198869]),\n",
       " array([10.76827444]),\n",
       " array([11.03828999]),\n",
       " array([11.07767927]),\n",
       " array([11.03828999]),\n",
       " array([10.93556843]),\n",
       " array([11.00208317]),\n",
       " array([10.79937147]),\n",
       " array([11.04212152]),\n",
       " array([10.98512322]),\n",
       " array([10.860903]),\n",
       " array([10.95063109]),\n",
       " array([11.03828999]),\n",
       " array([11.09725849]),\n",
       " array([11.49292682]),\n",
       " array([11.0664821]),\n",
       " array([10.82841987]),\n",
       " array([10.93556843]),\n",
       " array([10.93556843]),\n",
       " array([11.21180686]),\n",
       " array([11.0184652]),\n",
       " array([11.2409855]),\n",
       " array([11.22254643]),\n",
       " array([11.14360209]),\n",
       " array([11.12873249]),\n",
       " array([11.26433589]),\n",
       " array([10.89503698]),\n",
       " array([11.42943515]),\n",
       " array([11.34104521]),\n",
       " array([10.81957826]),\n",
       " array([10.89503698]),\n",
       " array([11.24501988]),\n",
       " array([11.50206672]),\n",
       " array([10.91490663]),\n",
       " array([10.81957826]),\n",
       " array([11.14124571]),\n",
       " array([11.02902686]),\n",
       " array([10.89503698]),\n",
       " array([10.81957826]),\n",
       " array([11.02902686]),\n",
       " array([11.14360209]),\n",
       " array([11.00043178]),\n",
       " array([10.89503698]),\n",
       " array([11.23188794]),\n",
       " array([10.860903]),\n",
       " array([11.26446411]),\n",
       " array([11.00208317]),\n",
       " array([11.08198869]),\n",
       " array([10.96647266]),\n",
       " array([11.3142062]),\n",
       " array([11.00193316]),\n",
       " array([10.80952591]),\n",
       " array([10.91490663]),\n",
       " array([11.13458902]),\n",
       " array([10.91490663]),\n",
       " array([10.91490663]),\n",
       " array([11.0664821]),\n",
       " array([11.28978191]),\n",
       " array([10.85880667]),\n",
       " array([11.05073126]),\n",
       " array([10.8778585]),\n",
       " array([11.22657584]),\n",
       " array([11.25143082]),\n",
       " array([11.28965691]),\n",
       " array([11.1842825]),\n",
       " array([11.1842825]),\n",
       " array([11.51282546]),\n",
       " array([11.28965691]),\n",
       " array([11.45094367]),\n",
       " array([11.3264754]),\n",
       " array([11.51696075]),\n",
       " array([11.15245348]),\n",
       " array([11.30823559]),\n",
       " array([11.15245348]),\n",
       " array([11.08198869]),\n",
       " array([11.0664821]),\n",
       " array([11.465378]),\n",
       " array([11.41850489]),\n",
       " array([11.15245348]),\n",
       " array([11.0664821]),\n",
       " array([11.13458902]),\n",
       " array([11.23980924]),\n",
       " array([11.27707654]),\n",
       " array([11.00193316]),\n",
       " array([11.62616486]),\n",
       " array([11.59910316]),\n",
       " array([11.40745383]),\n",
       " array([11.27705122]),\n",
       " array([11.20010335]),\n",
       " array([11.465378]),\n",
       " array([11.23980924]),\n",
       " array([11.40277572]),\n",
       " array([11.13458902]),\n",
       " array([11.20367921]),\n",
       " array([11.28965691]),\n",
       " array([11.31762987]),\n",
       " array([11.51282546]),\n",
       " array([11.19807772]),\n",
       " array([11.44024724]),\n",
       " array([11.34083143]),\n",
       " array([11.55835137]),\n",
       " array([11.65260045]),\n",
       " array([11.46595628]),\n",
       " array([11.4719993]),\n",
       " array([11.6912062]),\n",
       " array([11.4050076]),\n",
       " array([11.78287626]),\n",
       " array([11.4050076]),\n",
       " array([11.6350546]),\n",
       " array([11.26431025]),\n",
       " array([11.4050076]),\n",
       " array([11.4584166]),\n",
       " array([11.4050076]),\n",
       " array([11.35005353]),\n",
       " array([11.23835703]),\n",
       " array([11.43988124]),\n",
       " array([11.31435257]),\n",
       " array([10.959639]),\n",
       " array([11.7752128]),\n",
       " array([11.56925608]),\n",
       " array([12.20602264]),\n",
       " array([11.65260045]),\n",
       " array([11.7752128]),\n",
       " array([11.69727216]),\n",
       " array([11.89811984]),\n",
       " array([11.75540212]),\n",
       " array([11.87248134]),\n",
       " array([11.87248134]),\n",
       " array([11.81295598]),\n",
       " array([11.86351191]),\n",
       " array([11.75540212]),\n",
       " array([11.87248134]),\n",
       " array([11.75540212]),\n",
       " array([11.87248134]),\n",
       " array([11.86351191]),\n",
       " array([11.93009934]),\n",
       " array([11.75540212]),\n",
       " array([11.66984374]),\n",
       " array([11.82436065]),\n",
       " array([11.87248134]),\n",
       " array([11.75540212]),\n",
       " array([11.75540212]),\n",
       " array([11.93009934]),\n",
       " array([11.93009934]),\n",
       " array([10.9593663])]"
      ]
     },
     "execution_count": 60,
     "metadata": {},
     "output_type": "execute_result"
    }
   ],
   "execution_count": 60
  },
  {
   "metadata": {
    "ExecuteTime": {
     "end_time": "2025-02-28T12:27:21.616259Z",
     "start_time": "2025-02-28T12:27:21.611254Z"
    }
   },
   "cell_type": "code",
   "source": "ans = [np.exp(predicted[i][0]) for i in range(len(predicted))]",
   "id": "4209f654623c462f",
   "outputs": [],
   "execution_count": 61
  },
  {
   "metadata": {
    "ExecuteTime": {
     "end_time": "2025-02-28T12:27:22.588563Z",
     "start_time": "2025-02-28T12:27:22.583112Z"
    }
   },
   "cell_type": "code",
   "source": "rounded_prices = [round(pred) for pred in ans]",
   "id": "e8722887b695bba1",
   "outputs": [],
   "execution_count": 62
  },
  {
   "metadata": {
    "ExecuteTime": {
     "end_time": "2025-02-28T12:27:23.197846Z",
     "start_time": "2025-02-28T12:27:23.182809Z"
    }
   },
   "cell_type": "code",
   "source": [
    "df_train['Predicted Price'] = np.array(rounded_prices)\n",
    "df_train"
   ],
   "id": "ed50ce4ab107c943",
   "outputs": [
    {
     "data": {
      "text/plain": [
       "      brand processor_brand processor_name  processor_gnrtn  ram_gb ram_type  \\\n",
       "0      ASUS           Intel        Core i3               10       4     DDR4   \n",
       "1    Lenovo           Intel        Core i3               10       4     DDR4   \n",
       "2    Lenovo           Intel        Core i3               10       4     DDR4   \n",
       "3      ASUS           Intel        Core i5               10       8     DDR4   \n",
       "4      ASUS           Intel   Celeron Dual               11       4     DDR4   \n",
       "..      ...             ...            ...              ...     ...      ...   \n",
       "818    ASUS             AMD        Ryzen 9               11       4     DDR4   \n",
       "819    ASUS             AMD        Ryzen 9               11       4     DDR4   \n",
       "820    ASUS             AMD        Ryzen 9               11       4     DDR4   \n",
       "821    ASUS             AMD        Ryzen 9               11       4     DDR4   \n",
       "822  Lenovo             AMD        Ryzen 5               10       8     DDR4   \n",
       "\n",
       "      ssd   hdd       os  os_bit  graphic_card_gb      weight     warranty  \\\n",
       "0       0  1024  Windows      64                0      Casual  No warranty   \n",
       "1       0  1024  Windows      64                0      Casual  No warranty   \n",
       "2       0  1024  Windows      64                0      Casual  No warranty   \n",
       "3     512     0  Windows      32                2      Casual  No warranty   \n",
       "4       0   512  Windows      64                0      Casual  No warranty   \n",
       "..    ...   ...      ...     ...              ...         ...          ...   \n",
       "818  1024     0  Windows      64                0      Casual           1    \n",
       "819  1024     0  Windows      64                0      Casual           1    \n",
       "820  1024     0  Windows      64                4      Casual           1    \n",
       "821  1024     0  Windows      64                4      Casual           1    \n",
       "822   512     0      DOS      64                0  ThinNlight  No warranty   \n",
       "\n",
       "    Touchscreen   Price  Predicted Price  \n",
       "0            No   34649            36286  \n",
       "1            No   38999            39496  \n",
       "2            No   39999            39496  \n",
       "3            No   69990            69990  \n",
       "4            No   26990            24253  \n",
       "..          ...     ...              ...  \n",
       "818          No  135990           127440  \n",
       "819          No  144990           127440  \n",
       "820          No  149990           151767  \n",
       "821          No  142990           151767  \n",
       "822          No   57490            57490  \n",
       "\n",
       "[823 rows x 16 columns]"
      ],
      "text/html": [
       "<div>\n",
       "<style scoped>\n",
       "    .dataframe tbody tr th:only-of-type {\n",
       "        vertical-align: middle;\n",
       "    }\n",
       "\n",
       "    .dataframe tbody tr th {\n",
       "        vertical-align: top;\n",
       "    }\n",
       "\n",
       "    .dataframe thead th {\n",
       "        text-align: right;\n",
       "    }\n",
       "</style>\n",
       "<table border=\"1\" class=\"dataframe\">\n",
       "  <thead>\n",
       "    <tr style=\"text-align: right;\">\n",
       "      <th></th>\n",
       "      <th>brand</th>\n",
       "      <th>processor_brand</th>\n",
       "      <th>processor_name</th>\n",
       "      <th>processor_gnrtn</th>\n",
       "      <th>ram_gb</th>\n",
       "      <th>ram_type</th>\n",
       "      <th>ssd</th>\n",
       "      <th>hdd</th>\n",
       "      <th>os</th>\n",
       "      <th>os_bit</th>\n",
       "      <th>graphic_card_gb</th>\n",
       "      <th>weight</th>\n",
       "      <th>warranty</th>\n",
       "      <th>Touchscreen</th>\n",
       "      <th>Price</th>\n",
       "      <th>Predicted Price</th>\n",
       "    </tr>\n",
       "  </thead>\n",
       "  <tbody>\n",
       "    <tr>\n",
       "      <th>0</th>\n",
       "      <td>ASUS</td>\n",
       "      <td>Intel</td>\n",
       "      <td>Core i3</td>\n",
       "      <td>10</td>\n",
       "      <td>4</td>\n",
       "      <td>DDR4</td>\n",
       "      <td>0</td>\n",
       "      <td>1024</td>\n",
       "      <td>Windows</td>\n",
       "      <td>64</td>\n",
       "      <td>0</td>\n",
       "      <td>Casual</td>\n",
       "      <td>No warranty</td>\n",
       "      <td>No</td>\n",
       "      <td>34649</td>\n",
       "      <td>36286</td>\n",
       "    </tr>\n",
       "    <tr>\n",
       "      <th>1</th>\n",
       "      <td>Lenovo</td>\n",
       "      <td>Intel</td>\n",
       "      <td>Core i3</td>\n",
       "      <td>10</td>\n",
       "      <td>4</td>\n",
       "      <td>DDR4</td>\n",
       "      <td>0</td>\n",
       "      <td>1024</td>\n",
       "      <td>Windows</td>\n",
       "      <td>64</td>\n",
       "      <td>0</td>\n",
       "      <td>Casual</td>\n",
       "      <td>No warranty</td>\n",
       "      <td>No</td>\n",
       "      <td>38999</td>\n",
       "      <td>39496</td>\n",
       "    </tr>\n",
       "    <tr>\n",
       "      <th>2</th>\n",
       "      <td>Lenovo</td>\n",
       "      <td>Intel</td>\n",
       "      <td>Core i3</td>\n",
       "      <td>10</td>\n",
       "      <td>4</td>\n",
       "      <td>DDR4</td>\n",
       "      <td>0</td>\n",
       "      <td>1024</td>\n",
       "      <td>Windows</td>\n",
       "      <td>64</td>\n",
       "      <td>0</td>\n",
       "      <td>Casual</td>\n",
       "      <td>No warranty</td>\n",
       "      <td>No</td>\n",
       "      <td>39999</td>\n",
       "      <td>39496</td>\n",
       "    </tr>\n",
       "    <tr>\n",
       "      <th>3</th>\n",
       "      <td>ASUS</td>\n",
       "      <td>Intel</td>\n",
       "      <td>Core i5</td>\n",
       "      <td>10</td>\n",
       "      <td>8</td>\n",
       "      <td>DDR4</td>\n",
       "      <td>512</td>\n",
       "      <td>0</td>\n",
       "      <td>Windows</td>\n",
       "      <td>32</td>\n",
       "      <td>2</td>\n",
       "      <td>Casual</td>\n",
       "      <td>No warranty</td>\n",
       "      <td>No</td>\n",
       "      <td>69990</td>\n",
       "      <td>69990</td>\n",
       "    </tr>\n",
       "    <tr>\n",
       "      <th>4</th>\n",
       "      <td>ASUS</td>\n",
       "      <td>Intel</td>\n",
       "      <td>Celeron Dual</td>\n",
       "      <td>11</td>\n",
       "      <td>4</td>\n",
       "      <td>DDR4</td>\n",
       "      <td>0</td>\n",
       "      <td>512</td>\n",
       "      <td>Windows</td>\n",
       "      <td>64</td>\n",
       "      <td>0</td>\n",
       "      <td>Casual</td>\n",
       "      <td>No warranty</td>\n",
       "      <td>No</td>\n",
       "      <td>26990</td>\n",
       "      <td>24253</td>\n",
       "    </tr>\n",
       "    <tr>\n",
       "      <th>...</th>\n",
       "      <td>...</td>\n",
       "      <td>...</td>\n",
       "      <td>...</td>\n",
       "      <td>...</td>\n",
       "      <td>...</td>\n",
       "      <td>...</td>\n",
       "      <td>...</td>\n",
       "      <td>...</td>\n",
       "      <td>...</td>\n",
       "      <td>...</td>\n",
       "      <td>...</td>\n",
       "      <td>...</td>\n",
       "      <td>...</td>\n",
       "      <td>...</td>\n",
       "      <td>...</td>\n",
       "      <td>...</td>\n",
       "    </tr>\n",
       "    <tr>\n",
       "      <th>818</th>\n",
       "      <td>ASUS</td>\n",
       "      <td>AMD</td>\n",
       "      <td>Ryzen 9</td>\n",
       "      <td>11</td>\n",
       "      <td>4</td>\n",
       "      <td>DDR4</td>\n",
       "      <td>1024</td>\n",
       "      <td>0</td>\n",
       "      <td>Windows</td>\n",
       "      <td>64</td>\n",
       "      <td>0</td>\n",
       "      <td>Casual</td>\n",
       "      <td>1</td>\n",
       "      <td>No</td>\n",
       "      <td>135990</td>\n",
       "      <td>127440</td>\n",
       "    </tr>\n",
       "    <tr>\n",
       "      <th>819</th>\n",
       "      <td>ASUS</td>\n",
       "      <td>AMD</td>\n",
       "      <td>Ryzen 9</td>\n",
       "      <td>11</td>\n",
       "      <td>4</td>\n",
       "      <td>DDR4</td>\n",
       "      <td>1024</td>\n",
       "      <td>0</td>\n",
       "      <td>Windows</td>\n",
       "      <td>64</td>\n",
       "      <td>0</td>\n",
       "      <td>Casual</td>\n",
       "      <td>1</td>\n",
       "      <td>No</td>\n",
       "      <td>144990</td>\n",
       "      <td>127440</td>\n",
       "    </tr>\n",
       "    <tr>\n",
       "      <th>820</th>\n",
       "      <td>ASUS</td>\n",
       "      <td>AMD</td>\n",
       "      <td>Ryzen 9</td>\n",
       "      <td>11</td>\n",
       "      <td>4</td>\n",
       "      <td>DDR4</td>\n",
       "      <td>1024</td>\n",
       "      <td>0</td>\n",
       "      <td>Windows</td>\n",
       "      <td>64</td>\n",
       "      <td>4</td>\n",
       "      <td>Casual</td>\n",
       "      <td>1</td>\n",
       "      <td>No</td>\n",
       "      <td>149990</td>\n",
       "      <td>151767</td>\n",
       "    </tr>\n",
       "    <tr>\n",
       "      <th>821</th>\n",
       "      <td>ASUS</td>\n",
       "      <td>AMD</td>\n",
       "      <td>Ryzen 9</td>\n",
       "      <td>11</td>\n",
       "      <td>4</td>\n",
       "      <td>DDR4</td>\n",
       "      <td>1024</td>\n",
       "      <td>0</td>\n",
       "      <td>Windows</td>\n",
       "      <td>64</td>\n",
       "      <td>4</td>\n",
       "      <td>Casual</td>\n",
       "      <td>1</td>\n",
       "      <td>No</td>\n",
       "      <td>142990</td>\n",
       "      <td>151767</td>\n",
       "    </tr>\n",
       "    <tr>\n",
       "      <th>822</th>\n",
       "      <td>Lenovo</td>\n",
       "      <td>AMD</td>\n",
       "      <td>Ryzen 5</td>\n",
       "      <td>10</td>\n",
       "      <td>8</td>\n",
       "      <td>DDR4</td>\n",
       "      <td>512</td>\n",
       "      <td>0</td>\n",
       "      <td>DOS</td>\n",
       "      <td>64</td>\n",
       "      <td>0</td>\n",
       "      <td>ThinNlight</td>\n",
       "      <td>No warranty</td>\n",
       "      <td>No</td>\n",
       "      <td>57490</td>\n",
       "      <td>57490</td>\n",
       "    </tr>\n",
       "  </tbody>\n",
       "</table>\n",
       "<p>823 rows × 16 columns</p>\n",
       "</div>"
      ]
     },
     "execution_count": 63,
     "metadata": {},
     "output_type": "execute_result"
    }
   ],
   "execution_count": 63
  },
  {
   "metadata": {
    "ExecuteTime": {
     "end_time": "2025-02-28T12:27:24.019707Z",
     "start_time": "2025-02-28T12:27:23.856929Z"
    }
   },
   "cell_type": "code",
   "source": [
    "sns.distplot(df_train['Price'],hist=False,color='orange',label='Actual')\n",
    "sns.distplot(df_train['Predicted Price'],hist=False,color='blue',label='Predicted')\n",
    "plt.legend()\n",
    "plt.show()"
   ],
   "id": "e1f1c63a5ad37bf3",
   "outputs": [
    {
     "data": {
      "text/plain": [
       "<Figure size 640x480 with 1 Axes>"
      ],
      "image/png": "[encoded data removed]"
     },
     "metadata": {},
     "output_type": "display_data"
    }
   ],
   "execution_count": 64
  },
  {
   "metadata": {},
   "cell_type": "code",
   "source": "",
   "id": "547acbb9553954a2",
   "outputs": [],
   "execution_count": null
  },
  {
   "metadata": {},
   "cell_type": "code",
   "source": "",
   "id": "62f18ae30d970cca",
   "outputs": [],
   "execution_count": null
  },
  {
   "metadata": {},
   "cell_type": "code",
   "source": "",
   "id": "706211ae708dddc9",
   "outputs": [],
   "execution_count": null
  },
  {
   "metadata": {},
   "cell_type": "code",
   "source": "",
   "id": "fcf9b4c125a05f46",
   "outputs": [],
   "execution_count": null
  },
  {
   "metadata": {},
   "cell_type": "code",
   "source": "",
   "id": "9babfed883540858",
   "outputs": [],
   "execution_count": null
  },
  {
   "metadata": {},
   "cell_type": "markdown",
   "source": [
    "# The lab work task\n",
    "Solve the regression problem for the one of the presented datasets using the same steps into your work.\n",
    "To get you variant: (your_num % 9), where your_num is your number in the group list.\n",
    "\n",
    "In addition to presented in the example methods consider other ML methods like Support Vector Machine, Gradient Boosting Regression, Bayesian Ridge Regression.\n",
    "\n",
    "Present your work in the Jupyter Notebook variant\n",
    "\n",
    "P.s. in provided data sources you can find examples of solving this problem, but be ready to explain the code and results."
   ],
   "id": "19952dd618576545"
  },
  {
   "metadata": {},
   "cell_type": "markdown",
   "source": [
    "# Data to choose\n",
    "1. [Gold Price Prediction](https://www.kaggle.com/datasets/franciscogcc/financial-data)\n",
    "2. [Possum Regression](https://www.kaggle.com/datasets/abrambeyer/openintro-possum/data)\n",
    "3. [Student Performance](https://www.kaggle.com/datasets/nikhil7280/student-performance-multiple-linear-regression)\n",
    "4. [Boston House Prices](https://www.kaggle.com/datasets/fedesoriano/the-boston-houseprice-data/data)\n",
    "5. [Car Price](https://www.kaggle.com/datasets/hellbuoy/car-price-prediction)\n",
    "6. [Medical Cost](https://www.kaggle.com/datasets/mirichoi0218/insurance)\n",
    "7. [Crab Age Prediction](https://www.kaggle.com/datasets/sidhus/crab-age-prediction)\n",
    "8. [Calculate Concrete Strength](https://www.kaggle.com/datasets/prathamtripathi/regression-with-neural-networking)\n",
    "9. [Advertising dataset](https://www.kaggle.com/datasets/tawfikelmetwally/advertising-dataset)"
   ],
   "id": "ab2c69683a1d1b02"
  },
  {
   "metadata": {},
   "cell_type": "code",
   "source": "",
   "id": "d6fb578a323e2399",
   "outputs": [],
   "execution_count": null
  }
 ],
 "metadata": {
  "kernelspec": {
   "display_name": "Python 3",
   "language": "python",
   "name": "python3"
  },
  "language_info": {
   "codemirror_mode": {
    "name": "ipython",
    "version": 2
   },
   "file_extension": ".py",
   "mimetype": "text/x-python",
   "name": "python",
   "nbconvert_exporter": "python",
   "pygments_lexer": "ipython2",
   "version": "2.7.6"
  }
 },
 "nbformat": 4,
 "nbformat_minor": 5
}
